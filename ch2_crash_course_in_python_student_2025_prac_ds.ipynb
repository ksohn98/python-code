{
  "cells": [
    {
      "cell_type": "markdown",
      "metadata": {
        "id": "view-in-github",
        "colab_type": "text"
      },
      "source": [
        "<a href=\"https://colab.research.google.com/github/ksohn98/python-code/blob/master/ch2_crash_course_in_python_student_2025_prac_ds.ipynb\" target=\"_parent\"><img src=\"https://colab.research.google.com/assets/colab-badge.svg\" alt=\"Open In Colab\"/></a>"
      ]
    },
    {
      "cell_type": "markdown",
      "metadata": {
        "id": "6Vn2F3fZsUCC"
      },
      "source": [
        "<h1>Big Text </h1>\n",
        "\n",
        "- aaaa\n",
        "- bbb\n",
        "- ccc\n",
        "\n",
        "$\\Sigma{x}$\n"
      ]
    },
    {
      "cell_type": "code",
      "execution_count": null,
      "metadata": {
        "id": "rdWeUXSKsUCL",
        "outputId": "77206fd3-2b4d-4ae3-90aa-6c20e4992e75"
      },
      "outputs": [
        {
          "name": "stdout",
          "output_type": "stream",
          "text": [
            "{'a': 1, 'b': 2, 'c': 3, 'd': 4}\n"
          ]
        }
      ],
      "source": [
        "def foo(**karg):\n",
        "    print(karg)\n",
        "\n",
        "foo(a=1,b=2,c=3,d=4)\n"
      ]
    },
    {
      "cell_type": "code",
      "execution_count": null,
      "metadata": {
        "scrolled": false,
        "id": "RLEe3bbGsUCQ",
        "outputId": "4b9ecc91-ad16-4d8d-c235-c3553c7ff79d"
      },
      "outputs": [
        {
          "name": "stdout",
          "output_type": "stream",
          "text": [
            "0\n",
            "1\n",
            "2\n",
            "3\n",
            "4\n",
            "5\n",
            "6\n",
            "7\n",
            "8\n",
            "9\n"
          ]
        }
      ],
      "source": [
        "for i in range(10):\n",
        "    print(i)"
      ]
    },
    {
      "cell_type": "code",
      "execution_count": null,
      "metadata": {
        "id": "EG4phdR1sUCS"
      },
      "outputs": [],
      "source": [
        "y = 1"
      ]
    },
    {
      "cell_type": "code",
      "execution_count": null,
      "metadata": {
        "id": "WzOtFdhLsUCT"
      },
      "outputs": [],
      "source": [
        "dir()"
      ]
    },
    {
      "cell_type": "code",
      "execution_count": null,
      "metadata": {
        "id": "_BdmjouGsUCU"
      },
      "outputs": [],
      "source": [
        "dir(__builtin__)"
      ]
    },
    {
      "cell_type": "code",
      "execution_count": null,
      "metadata": {
        "id": "sijeGssksUCV"
      },
      "outputs": [],
      "source": [
        "x = 1"
      ]
    },
    {
      "cell_type": "code",
      "execution_count": null,
      "metadata": {
        "id": "yKbDG60gsUCW"
      },
      "outputs": [],
      "source": [
        "x = 2"
      ]
    },
    {
      "cell_type": "code",
      "execution_count": null,
      "metadata": {
        "scrolled": true,
        "id": "rc-a5Ub1sUCX"
      },
      "outputs": [],
      "source": [
        "dir()"
      ]
    },
    {
      "cell_type": "code",
      "execution_count": null,
      "metadata": {
        "id": "jZOxRpDXsUCX"
      },
      "outputs": [],
      "source": [
        "locals()"
      ]
    },
    {
      "cell_type": "markdown",
      "metadata": {
        "id": "q24s5o4hNPb4"
      },
      "source": [
        "# A Crash Course in Python"
      ]
    },
    {
      "cell_type": "markdown",
      "metadata": {
        "id": "MbOc0-yKNPb8"
      },
      "source": [
        "## The Basics"
      ]
    },
    {
      "cell_type": "markdown",
      "metadata": {
        "id": "Kw3B4uDZNPb9"
      },
      "source": [
        "### Whitespace Formatting\n",
        "Many languages use curly braces to delimit blocks of code. Python uses **indentation**:"
      ]
    },
    {
      "cell_type": "code",
      "execution_count": null,
      "metadata": {
        "id": "8A2OzAUYNPb-",
        "outputId": "6c5dc8be-f576-46fe-ebd1-8174b5daa7e9",
        "colab": {
          "base_uri": "https://localhost:8080/"
        }
      },
      "outputs": [
        {
          "output_type": "stream",
          "name": "stdout",
          "text": [
            "1\n",
            "1\n",
            "2\n",
            "2\n",
            "3\n",
            "3\n",
            "4\n",
            "4\n",
            "5\n",
            "5\n",
            "6\n",
            "1\n",
            "2\n",
            "1\n",
            "3\n",
            "2\n",
            "4\n",
            "3\n",
            "5\n",
            "4\n",
            "6\n",
            "5\n",
            "7\n",
            "2\n",
            "3\n",
            "1\n",
            "4\n",
            "2\n",
            "5\n",
            "3\n",
            "6\n",
            "4\n",
            "7\n",
            "5\n",
            "8\n",
            "3\n",
            "4\n",
            "1\n",
            "5\n",
            "2\n",
            "6\n",
            "3\n",
            "7\n",
            "4\n",
            "8\n",
            "5\n",
            "9\n",
            "4\n",
            "5\n",
            "1\n",
            "6\n",
            "2\n",
            "7\n",
            "3\n",
            "8\n",
            "4\n",
            "9\n",
            "5\n",
            "10\n",
            "5\n",
            "done looping\n"
          ]
        }
      ],
      "source": [
        "for i in [1, 2, 3, 4, 5]:\n",
        "    print(i)\n",
        "    for j in [1, 2, 3, 4, 5]:\n",
        "        print(j)\n",
        "        print(i + j)\n",
        "    print(i)\n",
        "print(\"done looping\")"
      ]
    },
    {
      "cell_type": "markdown",
      "metadata": {
        "id": "KVxb1KZSNPb_"
      },
      "source": [
        "Whitespace is **ignored** inside parentheses and brackets"
      ]
    },
    {
      "cell_type": "code",
      "execution_count": null,
      "metadata": {
        "id": "QEaSPZcoNPcA"
      },
      "outputs": [],
      "source": [
        "long_winded_computation = (1 + 2 + 3 + 4 + 5 + 6 + 7 + 8 + 9 + 10 + 11 + 12 +\n",
        "                           13 + 14 + 15 + 16 + 17 +\n",
        "                           18 + 19 + 20)"
      ]
    },
    {
      "cell_type": "code",
      "execution_count": null,
      "metadata": {
        "id": "aXeTDhP9sUCb"
      },
      "outputs": [],
      "source": [
        "long_winded_computation = 1 + 2 + 3 + 4 + 5 + 6 + 7 + 8 + 9 + 10 + 11 + 12 +\\\n",
        "                           13 + 14 + 15 + 16 + 17 + 18 + 19 + 20"
      ]
    },
    {
      "cell_type": "markdown",
      "metadata": {
        "id": "YNWVGJG3NPcA"
      },
      "source": [
        "for making code easier to read"
      ]
    },
    {
      "cell_type": "code",
      "execution_count": null,
      "metadata": {
        "id": "2_Dehs_MNPcB"
      },
      "outputs": [],
      "source": [
        "list_of_lists = [[1, 2, 3], [4, 5, 6], [7, 8, 9]]\n",
        "easier_to_read_list_of_lists = [ [1, 2, 3],\n",
        "                                 [4, 5, 6],\n",
        "                                 [7, 8, 9] ]"
      ]
    },
    {
      "cell_type": "markdown",
      "metadata": {
        "id": "r8Ldl1RwNPcB"
      },
      "source": [
        "Use a **backslash** to indicate that a statement continues onto the next line"
      ]
    },
    {
      "cell_type": "code",
      "execution_count": null,
      "metadata": {
        "id": "eyxgRg7CNPcC"
      },
      "outputs": [],
      "source": [
        "two_plus_three = 2 + \\\n",
        "                 3"
      ]
    },
    {
      "cell_type": "markdown",
      "metadata": {
        "id": "sWnXhszCNPcC"
      },
      "source": [
        "### Modules"
      ]
    },
    {
      "cell_type": "markdown",
      "metadata": {
        "id": "pF8IyThENPcD"
      },
      "source": [
        "**Import** the modules that contain features\n",
        "- import regular expression module: re is the module containing functions and constants for working with regular\n",
        "expressions."
      ]
    },
    {
      "cell_type": "code",
      "execution_count": null,
      "metadata": {
        "id": "vuFE8PgpNPcD"
      },
      "outputs": [],
      "source": [
        "import re\n",
        "my_regex = re.compile(\"[A-Z]+\", re.I)"
      ]
    },
    {
      "cell_type": "code",
      "source": [
        "my_regex.search('123 asfda 123w')"
      ],
      "metadata": {
        "colab": {
          "base_uri": "https://localhost:8080/"
        },
        "id": "Un-SDzwEu2I2",
        "outputId": "48539460-ac19-4101-af5b-5df1448ab031"
      },
      "execution_count": null,
      "outputs": [
        {
          "output_type": "execute_result",
          "data": {
            "text/plain": [
              "<re.Match object; span=(4, 9), match='asfda'>"
            ]
          },
          "metadata": {},
          "execution_count": 14
        }
      ]
    },
    {
      "cell_type": "code",
      "source": [
        "dir(my_regex)"
      ],
      "metadata": {
        "colab": {
          "base_uri": "https://localhost:8080/"
        },
        "id": "zEw83gTiuGUQ",
        "outputId": "53903a96-36fd-48c9-cf0d-c899bd6c5057"
      },
      "execution_count": null,
      "outputs": [
        {
          "output_type": "execute_result",
          "data": {
            "text/plain": [
              "['__class__',\n",
              " '__class_getitem__',\n",
              " '__copy__',\n",
              " '__deepcopy__',\n",
              " '__delattr__',\n",
              " '__dir__',\n",
              " '__doc__',\n",
              " '__eq__',\n",
              " '__format__',\n",
              " '__ge__',\n",
              " '__getattribute__',\n",
              " '__getstate__',\n",
              " '__gt__',\n",
              " '__hash__',\n",
              " '__init__',\n",
              " '__init_subclass__',\n",
              " '__le__',\n",
              " '__lt__',\n",
              " '__module__',\n",
              " '__ne__',\n",
              " '__new__',\n",
              " '__reduce__',\n",
              " '__reduce_ex__',\n",
              " '__repr__',\n",
              " '__setattr__',\n",
              " '__sizeof__',\n",
              " '__str__',\n",
              " '__subclasshook__',\n",
              " 'findall',\n",
              " 'finditer',\n",
              " 'flags',\n",
              " 'fullmatch',\n",
              " 'groupindex',\n",
              " 'groups',\n",
              " 'match',\n",
              " 'pattern',\n",
              " 'scanner',\n",
              " 'search',\n",
              " 'split',\n",
              " 'sub',\n",
              " 'subn']"
            ]
          },
          "metadata": {},
          "execution_count": 13
        }
      ]
    },
    {
      "cell_type": "code",
      "execution_count": null,
      "metadata": {
        "colab": {
          "base_uri": "https://localhost:8080/",
          "height": 176
        },
        "id": "8cS8dQVmsUCf",
        "outputId": "20617539-5ba5-40a4-f846-7a24b850fd26"
      },
      "outputs": [
        {
          "output_type": "error",
          "ename": "NameError",
          "evalue": "name 'skdfalkf' is not defined",
          "traceback": [
            "\u001b[0;31m---------------------------------------------------------------------------\u001b[0m",
            "\u001b[0;31mNameError\u001b[0m                                 Traceback (most recent call last)",
            "\u001b[0;32m<ipython-input-5-a27d4cd99fc0>\u001b[0m in \u001b[0;36m<cell line: 0>\u001b[0;34m()\u001b[0m\n\u001b[1;32m      1\u001b[0m \u001b[0;32mimport\u001b[0m \u001b[0mre\u001b[0m\u001b[0;34m\u001b[0m\u001b[0;34m\u001b[0m\u001b[0m\n\u001b[1;32m      2\u001b[0m \u001b[0mdir\u001b[0m\u001b[0;34m(\u001b[0m\u001b[0mre\u001b[0m\u001b[0;34m)\u001b[0m\u001b[0;34m\u001b[0m\u001b[0;34m\u001b[0m\u001b[0m\n\u001b[0;32m----> 3\u001b[0;31m \u001b[0mre\u001b[0m\u001b[0;34m.\u001b[0m\u001b[0mcompile\u001b[0m\u001b[0;34m(\u001b[0m\u001b[0mskdfalkf\u001b[0m\u001b[0;34m)\u001b[0m\u001b[0;34m\u001b[0m\u001b[0;34m\u001b[0m\u001b[0m\n\u001b[0m",
            "\u001b[0;31mNameError\u001b[0m: name 'skdfalkf' is not defined"
          ]
        }
      ],
      "source": [
        "import re\n",
        "dir(re)\n",
        "re.compile(skdfalkf)"
      ]
    },
    {
      "cell_type": "markdown",
      "metadata": {
        "id": "z7aStJhqNPcD"
      },
      "source": [
        "You may use an **alias**"
      ]
    },
    {
      "cell_type": "code",
      "execution_count": null,
      "metadata": {
        "id": "uYSNOXABNPcE"
      },
      "outputs": [],
      "source": [
        "import re as regex\n",
        "my_regex = regex.compile(\"[0-9]+\", regex.I)"
      ]
    },
    {
      "cell_type": "code",
      "execution_count": null,
      "metadata": {
        "id": "9HTekoSANPcE"
      },
      "outputs": [],
      "source": [
        "import matplotlib.pyplot as plt"
      ]
    },
    {
      "cell_type": "markdown",
      "metadata": {
        "id": "Z3gkov3GNPcF"
      },
      "source": [
        "You can import them explicitly and use them **without qualification**"
      ]
    },
    {
      "cell_type": "code",
      "execution_count": null,
      "metadata": {
        "id": "dmhoItrENPcF"
      },
      "outputs": [],
      "source": [
        "from collections import defaultdict, Counter\n",
        "lookup = defaultdict(int)\n",
        "my_counter = Counter()"
      ]
    },
    {
      "cell_type": "code",
      "source": [
        "import collections\n",
        "help(collections)"
      ],
      "metadata": {
        "colab": {
          "base_uri": "https://localhost:8080/"
        },
        "id": "DXThWSxNv5ww",
        "outputId": "2a04b105-ec25-4394-80c8-183f1c4c0e73"
      },
      "execution_count": null,
      "outputs": [
        {
          "output_type": "stream",
          "name": "stdout",
          "text": [
            "Help on package collections:\n",
            "\n",
            "NAME\n",
            "    collections\n",
            "\n",
            "MODULE REFERENCE\n",
            "    https://docs.python.org/3.11/library/collections.html\n",
            "    \n",
            "    The following documentation is automatically generated from the Python\n",
            "    source files.  It may be incomplete, incorrect or include features that\n",
            "    are considered implementation detail and may vary between Python\n",
            "    implementations.  When in doubt, consult the module reference at the\n",
            "    location listed above.\n",
            "\n",
            "DESCRIPTION\n",
            "    This module implements specialized container datatypes providing\n",
            "    alternatives to Python's general purpose built-in containers, dict,\n",
            "    list, set, and tuple.\n",
            "    \n",
            "    * namedtuple   factory function for creating tuple subclasses with named fields\n",
            "    * deque        list-like container with fast appends and pops on either end\n",
            "    * ChainMap     dict-like class for creating a single view of multiple mappings\n",
            "    * Counter      dict subclass for counting hashable objects\n",
            "    * OrderedDict  dict subclass that remembers the order entries were added\n",
            "    * defaultdict  dict subclass that calls a factory function to supply missing values\n",
            "    * UserDict     wrapper around dictionary objects for easier dict subclassing\n",
            "    * UserList     wrapper around list objects for easier list subclassing\n",
            "    * UserString   wrapper around string objects for easier string subclassing\n",
            "\n",
            "PACKAGE CONTENTS\n",
            "    abc\n",
            "\n",
            "SUBMODULES\n",
            "    _collections_abc\n",
            "\n",
            "CLASSES\n",
            "    builtins.dict(builtins.object)\n",
            "        Counter\n",
            "        OrderedDict\n",
            "        defaultdict\n",
            "    builtins.object\n",
            "        deque\n",
            "    collections.abc.MutableMapping(collections.abc.Mapping)\n",
            "        ChainMap\n",
            "        UserDict\n",
            "    collections.abc.MutableSequence(collections.abc.Sequence)\n",
            "        UserList\n",
            "    collections.abc.Sequence(collections.abc.Reversible, collections.abc.Collection)\n",
            "        UserString\n",
            "    \n",
            "    class ChainMap(collections.abc.MutableMapping)\n",
            "     |  ChainMap(*maps)\n",
            "     |  \n",
            "     |  A ChainMap groups multiple dicts (or other mappings) together\n",
            "     |  to create a single, updateable view.\n",
            "     |  \n",
            "     |  The underlying mappings are stored in a list.  That list is public and can\n",
            "     |  be accessed or updated using the *maps* attribute.  There is no other\n",
            "     |  state.\n",
            "     |  \n",
            "     |  Lookups search the underlying mappings successively until a key is found.\n",
            "     |  In contrast, writes, updates, and deletions only operate on the first\n",
            "     |  mapping.\n",
            "     |  \n",
            "     |  Method resolution order:\n",
            "     |      ChainMap\n",
            "     |      collections.abc.MutableMapping\n",
            "     |      collections.abc.Mapping\n",
            "     |      collections.abc.Collection\n",
            "     |      collections.abc.Sized\n",
            "     |      collections.abc.Iterable\n",
            "     |      collections.abc.Container\n",
            "     |      builtins.object\n",
            "     |  \n",
            "     |  Methods defined here:\n",
            "     |  \n",
            "     |  __bool__(self)\n",
            "     |  \n",
            "     |  __contains__(self, key)\n",
            "     |  \n",
            "     |  __copy__ = copy(self)\n",
            "     |  \n",
            "     |  __delitem__(self, key)\n",
            "     |  \n",
            "     |  __getitem__(self, key)\n",
            "     |  \n",
            "     |  __init__(self, *maps)\n",
            "     |      Initialize a ChainMap by setting *maps* to the given mappings.\n",
            "     |      If no mappings are provided, a single empty dictionary is used.\n",
            "     |  \n",
            "     |  __ior__(self, other)\n",
            "     |  \n",
            "     |  __iter__(self)\n",
            "     |  \n",
            "     |  __len__(self)\n",
            "     |  \n",
            "     |  __missing__(self, key)\n",
            "     |  \n",
            "     |  __or__(self, other)\n",
            "     |      Return self|value.\n",
            "     |  \n",
            "     |  __repr__(self)\n",
            "     |      Return repr(self).\n",
            "     |  \n",
            "     |  __ror__(self, other)\n",
            "     |      Return value|self.\n",
            "     |  \n",
            "     |  __setitem__(self, key, value)\n",
            "     |  \n",
            "     |  clear(self)\n",
            "     |      Clear maps[0], leaving maps[1:] intact.\n",
            "     |  \n",
            "     |  copy(self)\n",
            "     |      New ChainMap or subclass with a new copy of maps[0] and refs to maps[1:]\n",
            "     |  \n",
            "     |  get(self, key, default=None)\n",
            "     |      D.get(k[,d]) -> D[k] if k in D, else d.  d defaults to None.\n",
            "     |  \n",
            "     |  new_child(self, m=None, **kwargs)\n",
            "     |      New ChainMap with a new map followed by all previous maps.\n",
            "     |      If no map is provided, an empty dict is used.\n",
            "     |      Keyword arguments update the map or new empty dict.\n",
            "     |  \n",
            "     |  pop(self, key, *args)\n",
            "     |      Remove *key* from maps[0] and return its value. Raise KeyError if *key* not in maps[0].\n",
            "     |  \n",
            "     |  popitem(self)\n",
            "     |      Remove and return an item pair from maps[0]. Raise KeyError is maps[0] is empty.\n",
            "     |  \n",
            "     |  ----------------------------------------------------------------------\n",
            "     |  Class methods defined here:\n",
            "     |  \n",
            "     |  fromkeys(iterable, *args)\n",
            "     |      Create a ChainMap with a single dict created from the iterable.\n",
            "     |  \n",
            "     |  ----------------------------------------------------------------------\n",
            "     |  Readonly properties defined here:\n",
            "     |  \n",
            "     |  parents\n",
            "     |      New ChainMap from maps[1:].\n",
            "     |  \n",
            "     |  ----------------------------------------------------------------------\n",
            "     |  Data descriptors defined here:\n",
            "     |  \n",
            "     |  __dict__\n",
            "     |      dictionary for instance variables\n",
            "     |  \n",
            "     |  __weakref__\n",
            "     |      list of weak references to the object\n",
            "     |  \n",
            "     |  ----------------------------------------------------------------------\n",
            "     |  Data and other attributes defined here:\n",
            "     |  \n",
            "     |  __abstractmethods__ = frozenset()\n",
            "     |  \n",
            "     |  ----------------------------------------------------------------------\n",
            "     |  Methods inherited from collections.abc.MutableMapping:\n",
            "     |  \n",
            "     |  setdefault(self, key, default=None)\n",
            "     |      D.setdefault(k[,d]) -> D.get(k,d), also set D[k]=d if k not in D\n",
            "     |  \n",
            "     |  update(self, other=(), /, **kwds)\n",
            "     |      D.update([E, ]**F) -> None.  Update D from mapping/iterable E and F.\n",
            "     |      If E present and has a .keys() method, does:     for k in E: D[k] = E[k]\n",
            "     |      If E present and lacks .keys() method, does:     for (k, v) in E: D[k] = v\n",
            "     |      In either case, this is followed by: for k, v in F.items(): D[k] = v\n",
            "     |  \n",
            "     |  ----------------------------------------------------------------------\n",
            "     |  Methods inherited from collections.abc.Mapping:\n",
            "     |  \n",
            "     |  __eq__(self, other)\n",
            "     |      Return self==value.\n",
            "     |  \n",
            "     |  items(self)\n",
            "     |      D.items() -> a set-like object providing a view on D's items\n",
            "     |  \n",
            "     |  keys(self)\n",
            "     |      D.keys() -> a set-like object providing a view on D's keys\n",
            "     |  \n",
            "     |  values(self)\n",
            "     |      D.values() -> an object providing a view on D's values\n",
            "     |  \n",
            "     |  ----------------------------------------------------------------------\n",
            "     |  Data and other attributes inherited from collections.abc.Mapping:\n",
            "     |  \n",
            "     |  __hash__ = None\n",
            "     |  \n",
            "     |  __reversed__ = None\n",
            "     |  \n",
            "     |  ----------------------------------------------------------------------\n",
            "     |  Class methods inherited from collections.abc.Collection:\n",
            "     |  \n",
            "     |  __subclasshook__(C)\n",
            "     |      Abstract classes can override this to customize issubclass().\n",
            "     |      \n",
            "     |      This is invoked early on by abc.ABCMeta.__subclasscheck__().\n",
            "     |      It should return True, False or NotImplemented.  If it returns\n",
            "     |      NotImplemented, the normal algorithm is used.  Otherwise, it\n",
            "     |      overrides the normal algorithm (and the outcome is cached).\n",
            "     |  \n",
            "     |  ----------------------------------------------------------------------\n",
            "     |  Class methods inherited from collections.abc.Iterable:\n",
            "     |  \n",
            "     |  __class_getitem__ = GenericAlias(...)\n",
            "     |      Represent a PEP 585 generic type\n",
            "     |      \n",
            "     |      E.g. for t = list[int], t.__origin__ is list and t.__args__ is (int,).\n",
            "    \n",
            "    class Counter(builtins.dict)\n",
            "     |  Counter(iterable=None, /, **kwds)\n",
            "     |  \n",
            "     |  Dict subclass for counting hashable items.  Sometimes called a bag\n",
            "     |  or multiset.  Elements are stored as dictionary keys and their counts\n",
            "     |  are stored as dictionary values.\n",
            "     |  \n",
            "     |  >>> c = Counter('abcdeabcdabcaba')  # count elements from a string\n",
            "     |  \n",
            "     |  >>> c.most_common(3)                # three most common elements\n",
            "     |  [('a', 5), ('b', 4), ('c', 3)]\n",
            "     |  >>> sorted(c)                       # list all unique elements\n",
            "     |  ['a', 'b', 'c', 'd', 'e']\n",
            "     |  >>> ''.join(sorted(c.elements()))   # list elements with repetitions\n",
            "     |  'aaaaabbbbcccdde'\n",
            "     |  >>> sum(c.values())                 # total of all counts\n",
            "     |  15\n",
            "     |  \n",
            "     |  >>> c['a']                          # count of letter 'a'\n",
            "     |  5\n",
            "     |  >>> for elem in 'shazam':           # update counts from an iterable\n",
            "     |  ...     c[elem] += 1                # by adding 1 to each element's count\n",
            "     |  >>> c['a']                          # now there are seven 'a'\n",
            "     |  7\n",
            "     |  >>> del c['b']                      # remove all 'b'\n",
            "     |  >>> c['b']                          # now there are zero 'b'\n",
            "     |  0\n",
            "     |  \n",
            "     |  >>> d = Counter('simsalabim')       # make another counter\n",
            "     |  >>> c.update(d)                     # add in the second counter\n",
            "     |  >>> c['a']                          # now there are nine 'a'\n",
            "     |  9\n",
            "     |  \n",
            "     |  >>> c.clear()                       # empty the counter\n",
            "     |  >>> c\n",
            "     |  Counter()\n",
            "     |  \n",
            "     |  Note:  If a count is set to zero or reduced to zero, it will remain\n",
            "     |  in the counter until the entry is deleted or the counter is cleared:\n",
            "     |  \n",
            "     |  >>> c = Counter('aaabbc')\n",
            "     |  >>> c['b'] -= 2                     # reduce the count of 'b' by two\n",
            "     |  >>> c.most_common()                 # 'b' is still in, but its count is zero\n",
            "     |  [('a', 3), ('c', 1), ('b', 0)]\n",
            "     |  \n",
            "     |  Method resolution order:\n",
            "     |      Counter\n",
            "     |      builtins.dict\n",
            "     |      builtins.object\n",
            "     |  \n",
            "     |  Methods defined here:\n",
            "     |  \n",
            "     |  __add__(self, other)\n",
            "     |      Add counts from two counters.\n",
            "     |      \n",
            "     |      >>> Counter('abbb') + Counter('bcc')\n",
            "     |      Counter({'b': 4, 'c': 2, 'a': 1})\n",
            "     |  \n",
            "     |  __and__(self, other)\n",
            "     |      Intersection is the minimum of corresponding counts.\n",
            "     |      \n",
            "     |      >>> Counter('abbb') & Counter('bcc')\n",
            "     |      Counter({'b': 1})\n",
            "     |  \n",
            "     |  __delitem__(self, elem)\n",
            "     |      Like dict.__delitem__() but does not raise KeyError for missing values.\n",
            "     |  \n",
            "     |  __eq__(self, other)\n",
            "     |      True if all counts agree. Missing counts are treated as zero.\n",
            "     |  \n",
            "     |  __ge__(self, other)\n",
            "     |      True if all counts in self are a superset of those in other.\n",
            "     |  \n",
            "     |  __gt__(self, other)\n",
            "     |      True if all counts in self are a proper superset of those in other.\n",
            "     |  \n",
            "     |  __iadd__(self, other)\n",
            "     |      Inplace add from another counter, keeping only positive counts.\n",
            "     |      \n",
            "     |      >>> c = Counter('abbb')\n",
            "     |      >>> c += Counter('bcc')\n",
            "     |      >>> c\n",
            "     |      Counter({'b': 4, 'c': 2, 'a': 1})\n",
            "     |  \n",
            "     |  __iand__(self, other)\n",
            "     |      Inplace intersection is the minimum of corresponding counts.\n",
            "     |      \n",
            "     |      >>> c = Counter('abbb')\n",
            "     |      >>> c &= Counter('bcc')\n",
            "     |      >>> c\n",
            "     |      Counter({'b': 1})\n",
            "     |  \n",
            "     |  __init__(self, iterable=None, /, **kwds)\n",
            "     |      Create a new, empty Counter object.  And if given, count elements\n",
            "     |      from an input iterable.  Or, initialize the count from another mapping\n",
            "     |      of elements to their counts.\n",
            "     |      \n",
            "     |      >>> c = Counter()                           # a new, empty counter\n",
            "     |      >>> c = Counter('gallahad')                 # a new counter from an iterable\n",
            "     |      >>> c = Counter({'a': 4, 'b': 2})           # a new counter from a mapping\n",
            "     |      >>> c = Counter(a=4, b=2)                   # a new counter from keyword args\n",
            "     |  \n",
            "     |  __ior__(self, other)\n",
            "     |      Inplace union is the maximum of value from either counter.\n",
            "     |      \n",
            "     |      >>> c = Counter('abbb')\n",
            "     |      >>> c |= Counter('bcc')\n",
            "     |      >>> c\n",
            "     |      Counter({'b': 3, 'c': 2, 'a': 1})\n",
            "     |  \n",
            "     |  __isub__(self, other)\n",
            "     |      Inplace subtract counter, but keep only results with positive counts.\n",
            "     |      \n",
            "     |      >>> c = Counter('abbbc')\n",
            "     |      >>> c -= Counter('bccd')\n",
            "     |      >>> c\n",
            "     |      Counter({'b': 2, 'a': 1})\n",
            "     |  \n",
            "     |  __le__(self, other)\n",
            "     |      True if all counts in self are a subset of those in other.\n",
            "     |  \n",
            "     |  __lt__(self, other)\n",
            "     |      True if all counts in self are a proper subset of those in other.\n",
            "     |  \n",
            "     |  __missing__(self, key)\n",
            "     |      The count of elements not in the Counter is zero.\n",
            "     |  \n",
            "     |  __ne__(self, other)\n",
            "     |      True if any counts disagree. Missing counts are treated as zero.\n",
            "     |  \n",
            "     |  __neg__(self)\n",
            "     |      Subtracts from an empty counter.  Strips positive and zero counts,\n",
            "     |      and flips the sign on negative counts.\n",
            "     |  \n",
            "     |  __or__(self, other)\n",
            "     |      Union is the maximum of value in either of the input counters.\n",
            "     |      \n",
            "     |      >>> Counter('abbb') | Counter('bcc')\n",
            "     |      Counter({'b': 3, 'c': 2, 'a': 1})\n",
            "     |  \n",
            "     |  __pos__(self)\n",
            "     |      Adds an empty counter, effectively stripping negative and zero counts\n",
            "     |  \n",
            "     |  __reduce__(self)\n",
            "     |      Helper for pickle.\n",
            "     |  \n",
            "     |  __repr__(self)\n",
            "     |      Return repr(self).\n",
            "     |  \n",
            "     |  __sub__(self, other)\n",
            "     |      Subtract count, but keep only results with positive counts.\n",
            "     |      \n",
            "     |      >>> Counter('abbbc') - Counter('bccd')\n",
            "     |      Counter({'b': 2, 'a': 1})\n",
            "     |  \n",
            "     |  copy(self)\n",
            "     |      Return a shallow copy.\n",
            "     |  \n",
            "     |  elements(self)\n",
            "     |      Iterator over elements repeating each as many times as its count.\n",
            "     |      \n",
            "     |      >>> c = Counter('ABCABC')\n",
            "     |      >>> sorted(c.elements())\n",
            "     |      ['A', 'A', 'B', 'B', 'C', 'C']\n",
            "     |      \n",
            "     |      # Knuth's example for prime factors of 1836:  2**2 * 3**3 * 17**1\n",
            "     |      >>> import math\n",
            "     |      >>> prime_factors = Counter({2: 2, 3: 3, 17: 1})\n",
            "     |      >>> math.prod(prime_factors.elements())\n",
            "     |      1836\n",
            "     |      \n",
            "     |      Note, if an element's count has been set to zero or is a negative\n",
            "     |      number, elements() will ignore it.\n",
            "     |  \n",
            "     |  most_common(self, n=None)\n",
            "     |      List the n most common elements and their counts from the most\n",
            "     |      common to the least.  If n is None, then list all element counts.\n",
            "     |      \n",
            "     |      >>> Counter('abracadabra').most_common(3)\n",
            "     |      [('a', 5), ('b', 2), ('r', 2)]\n",
            "     |  \n",
            "     |  subtract(self, iterable=None, /, **kwds)\n",
            "     |      Like dict.update() but subtracts counts instead of replacing them.\n",
            "     |      Counts can be reduced below zero.  Both the inputs and outputs are\n",
            "     |      allowed to contain zero and negative counts.\n",
            "     |      \n",
            "     |      Source can be an iterable, a dictionary, or another Counter instance.\n",
            "     |      \n",
            "     |      >>> c = Counter('which')\n",
            "     |      >>> c.subtract('witch')             # subtract elements from another iterable\n",
            "     |      >>> c.subtract(Counter('watch'))    # subtract elements from another counter\n",
            "     |      >>> c['h']                          # 2 in which, minus 1 in witch, minus 1 in watch\n",
            "     |      0\n",
            "     |      >>> c['w']                          # 1 in which, minus 1 in witch, minus 1 in watch\n",
            "     |      -1\n",
            "     |  \n",
            "     |  total(self)\n",
            "     |      Sum of the counts\n",
            "     |  \n",
            "     |  update(self, iterable=None, /, **kwds)\n",
            "     |      Like dict.update() but add counts instead of replacing them.\n",
            "     |      \n",
            "     |      Source can be an iterable, a dictionary, or another Counter instance.\n",
            "     |      \n",
            "     |      >>> c = Counter('which')\n",
            "     |      >>> c.update('witch')           # add elements from another iterable\n",
            "     |      >>> d = Counter('watch')\n",
            "     |      >>> c.update(d)                 # add elements from another counter\n",
            "     |      >>> c['h']                      # four 'h' in which, witch, and watch\n",
            "     |      4\n",
            "     |  \n",
            "     |  ----------------------------------------------------------------------\n",
            "     |  Class methods defined here:\n",
            "     |  \n",
            "     |  fromkeys(iterable, v=None)\n",
            "     |      Create a new dictionary with keys from iterable and values set to value.\n",
            "     |  \n",
            "     |  ----------------------------------------------------------------------\n",
            "     |  Data descriptors defined here:\n",
            "     |  \n",
            "     |  __dict__\n",
            "     |      dictionary for instance variables\n",
            "     |  \n",
            "     |  __weakref__\n",
            "     |      list of weak references to the object\n",
            "     |  \n",
            "     |  ----------------------------------------------------------------------\n",
            "     |  Data and other attributes defined here:\n",
            "     |  \n",
            "     |  __hash__ = None\n",
            "     |  \n",
            "     |  ----------------------------------------------------------------------\n",
            "     |  Methods inherited from builtins.dict:\n",
            "     |  \n",
            "     |  __contains__(self, key, /)\n",
            "     |      True if the dictionary has the specified key, else False.\n",
            "     |  \n",
            "     |  __getattribute__(self, name, /)\n",
            "     |      Return getattr(self, name).\n",
            "     |  \n",
            "     |  __getitem__(...)\n",
            "     |      x.__getitem__(y) <==> x[y]\n",
            "     |  \n",
            "     |  __iter__(self, /)\n",
            "     |      Implement iter(self).\n",
            "     |  \n",
            "     |  __len__(self, /)\n",
            "     |      Return len(self).\n",
            "     |  \n",
            "     |  __reversed__(self, /)\n",
            "     |      Return a reverse iterator over the dict keys.\n",
            "     |  \n",
            "     |  __ror__(self, value, /)\n",
            "     |      Return value|self.\n",
            "     |  \n",
            "     |  __setitem__(self, key, value, /)\n",
            "     |      Set self[key] to value.\n",
            "     |  \n",
            "     |  __sizeof__(...)\n",
            "     |      D.__sizeof__() -> size of D in memory, in bytes\n",
            "     |  \n",
            "     |  clear(...)\n",
            "     |      D.clear() -> None.  Remove all items from D.\n",
            "     |  \n",
            "     |  get(self, key, default=None, /)\n",
            "     |      Return the value for key if key is in the dictionary, else default.\n",
            "     |  \n",
            "     |  items(...)\n",
            "     |      D.items() -> a set-like object providing a view on D's items\n",
            "     |  \n",
            "     |  keys(...)\n",
            "     |      D.keys() -> a set-like object providing a view on D's keys\n",
            "     |  \n",
            "     |  pop(...)\n",
            "     |      D.pop(k[,d]) -> v, remove specified key and return the corresponding value.\n",
            "     |      \n",
            "     |      If the key is not found, return the default if given; otherwise,\n",
            "     |      raise a KeyError.\n",
            "     |  \n",
            "     |  popitem(self, /)\n",
            "     |      Remove and return a (key, value) pair as a 2-tuple.\n",
            "     |      \n",
            "     |      Pairs are returned in LIFO (last-in, first-out) order.\n",
            "     |      Raises KeyError if the dict is empty.\n",
            "     |  \n",
            "     |  setdefault(self, key, default=None, /)\n",
            "     |      Insert key with a value of default if key is not in the dictionary.\n",
            "     |      \n",
            "     |      Return the value for key if key is in the dictionary, else default.\n",
            "     |  \n",
            "     |  values(...)\n",
            "     |      D.values() -> an object providing a view on D's values\n",
            "     |  \n",
            "     |  ----------------------------------------------------------------------\n",
            "     |  Class methods inherited from builtins.dict:\n",
            "     |  \n",
            "     |  __class_getitem__(...)\n",
            "     |      See PEP 585\n",
            "     |  \n",
            "     |  ----------------------------------------------------------------------\n",
            "     |  Static methods inherited from builtins.dict:\n",
            "     |  \n",
            "     |  __new__(*args, **kwargs) class method of builtins.dict\n",
            "     |      Create and return a new object.  See help(type) for accurate signature.\n",
            "    \n",
            "    class OrderedDict(builtins.dict)\n",
            "     |  Dictionary that remembers insertion order\n",
            "     |  \n",
            "     |  Method resolution order:\n",
            "     |      OrderedDict\n",
            "     |      builtins.dict\n",
            "     |      builtins.object\n",
            "     |  \n",
            "     |  Methods defined here:\n",
            "     |  \n",
            "     |  __delitem__(self, key, /)\n",
            "     |      Delete self[key].\n",
            "     |  \n",
            "     |  __eq__(self, value, /)\n",
            "     |      Return self==value.\n",
            "     |  \n",
            "     |  __ge__(self, value, /)\n",
            "     |      Return self>=value.\n",
            "     |  \n",
            "     |  __gt__(self, value, /)\n",
            "     |      Return self>value.\n",
            "     |  \n",
            "     |  __init__(self, /, *args, **kwargs)\n",
            "     |      Initialize self.  See help(type(self)) for accurate signature.\n",
            "     |  \n",
            "     |  __ior__(self, value, /)\n",
            "     |      Return self|=value.\n",
            "     |  \n",
            "     |  __iter__(self, /)\n",
            "     |      Implement iter(self).\n",
            "     |  \n",
            "     |  __le__(self, value, /)\n",
            "     |      Return self<=value.\n",
            "     |  \n",
            "     |  __lt__(self, value, /)\n",
            "     |      Return self<value.\n",
            "     |  \n",
            "     |  __ne__(self, value, /)\n",
            "     |      Return self!=value.\n",
            "     |  \n",
            "     |  __or__(self, value, /)\n",
            "     |      Return self|value.\n",
            "     |  \n",
            "     |  __reduce__(...)\n",
            "     |      Return state information for pickling\n",
            "     |  \n",
            "     |  __repr__(self, /)\n",
            "     |      Return repr(self).\n",
            "     |  \n",
            "     |  __reversed__(...)\n",
            "     |      od.__reversed__() <==> reversed(od)\n",
            "     |  \n",
            "     |  __ror__(self, value, /)\n",
            "     |      Return value|self.\n",
            "     |  \n",
            "     |  __setitem__(self, key, value, /)\n",
            "     |      Set self[key] to value.\n",
            "     |  \n",
            "     |  __sizeof__(...)\n",
            "     |      D.__sizeof__() -> size of D in memory, in bytes\n",
            "     |  \n",
            "     |  clear(...)\n",
            "     |      od.clear() -> None.  Remove all items from od.\n",
            "     |  \n",
            "     |  copy(...)\n",
            "     |      od.copy() -> a shallow copy of od\n",
            "     |  \n",
            "     |  items(...)\n",
            "     |      D.items() -> a set-like object providing a view on D's items\n",
            "     |  \n",
            "     |  keys(...)\n",
            "     |      D.keys() -> a set-like object providing a view on D's keys\n",
            "     |  \n",
            "     |  move_to_end(self, /, key, last=True)\n",
            "     |      Move an existing element to the end (or beginning if last is false).\n",
            "     |      \n",
            "     |      Raise KeyError if the element does not exist.\n",
            "     |  \n",
            "     |  pop(...)\n",
            "     |      od.pop(key[,default]) -> v, remove specified key and return the corresponding value.\n",
            "     |      \n",
            "     |      If the key is not found, return the default if given; otherwise,\n",
            "     |      raise a KeyError.\n",
            "     |  \n",
            "     |  popitem(self, /, last=True)\n",
            "     |      Remove and return a (key, value) pair from the dictionary.\n",
            "     |      \n",
            "     |      Pairs are returned in LIFO order if last is true or FIFO order if false.\n",
            "     |  \n",
            "     |  setdefault(self, /, key, default=None)\n",
            "     |      Insert key with a value of default if key is not in the dictionary.\n",
            "     |      \n",
            "     |      Return the value for key if key is in the dictionary, else default.\n",
            "     |  \n",
            "     |  update(...)\n",
            "     |      D.update([E, ]**F) -> None.  Update D from dict/iterable E and F.\n",
            "     |      If E is present and has a .keys() method, then does:  for k in E: D[k] = E[k]\n",
            "     |      If E is present and lacks a .keys() method, then does:  for k, v in E: D[k] = v\n",
            "     |      In either case, this is followed by: for k in F:  D[k] = F[k]\n",
            "     |  \n",
            "     |  values(...)\n",
            "     |      D.values() -> an object providing a view on D's values\n",
            "     |  \n",
            "     |  ----------------------------------------------------------------------\n",
            "     |  Class methods defined here:\n",
            "     |  \n",
            "     |  fromkeys(iterable, value=None)\n",
            "     |      Create a new ordered dictionary with keys from iterable and values set to value.\n",
            "     |  \n",
            "     |  ----------------------------------------------------------------------\n",
            "     |  Data descriptors defined here:\n",
            "     |  \n",
            "     |  __dict__\n",
            "     |  \n",
            "     |  ----------------------------------------------------------------------\n",
            "     |  Data and other attributes defined here:\n",
            "     |  \n",
            "     |  __hash__ = None\n",
            "     |  \n",
            "     |  ----------------------------------------------------------------------\n",
            "     |  Methods inherited from builtins.dict:\n",
            "     |  \n",
            "     |  __contains__(self, key, /)\n",
            "     |      True if the dictionary has the specified key, else False.\n",
            "     |  \n",
            "     |  __getattribute__(self, name, /)\n",
            "     |      Return getattr(self, name).\n",
            "     |  \n",
            "     |  __getitem__(...)\n",
            "     |      x.__getitem__(y) <==> x[y]\n",
            "     |  \n",
            "     |  __len__(self, /)\n",
            "     |      Return len(self).\n",
            "     |  \n",
            "     |  get(self, key, default=None, /)\n",
            "     |      Return the value for key if key is in the dictionary, else default.\n",
            "     |  \n",
            "     |  ----------------------------------------------------------------------\n",
            "     |  Class methods inherited from builtins.dict:\n",
            "     |  \n",
            "     |  __class_getitem__(...)\n",
            "     |      See PEP 585\n",
            "     |  \n",
            "     |  ----------------------------------------------------------------------\n",
            "     |  Static methods inherited from builtins.dict:\n",
            "     |  \n",
            "     |  __new__(*args, **kwargs) class method of builtins.dict\n",
            "     |      Create and return a new object.  See help(type) for accurate signature.\n",
            "    \n",
            "    class UserDict(collections.abc.MutableMapping)\n",
            "     |  UserDict(dict=None, /, **kwargs)\n",
            "     |  \n",
            "     |  Method resolution order:\n",
            "     |      UserDict\n",
            "     |      collections.abc.MutableMapping\n",
            "     |      collections.abc.Mapping\n",
            "     |      collections.abc.Collection\n",
            "     |      collections.abc.Sized\n",
            "     |      collections.abc.Iterable\n",
            "     |      collections.abc.Container\n",
            "     |      builtins.object\n",
            "     |  \n",
            "     |  Methods defined here:\n",
            "     |  \n",
            "     |  __contains__(self, key)\n",
            "     |      # Modify __contains__ to work correctly when __missing__ is present\n",
            "     |  \n",
            "     |  __copy__(self)\n",
            "     |  \n",
            "     |  __delitem__(self, key)\n",
            "     |  \n",
            "     |  __getitem__(self, key)\n",
            "     |  \n",
            "     |  __init__(self, dict=None, /, **kwargs)\n",
            "     |      Initialize self.  See help(type(self)) for accurate signature.\n",
            "     |  \n",
            "     |  __ior__(self, other)\n",
            "     |  \n",
            "     |  __iter__(self)\n",
            "     |  \n",
            "     |  __len__(self)\n",
            "     |  \n",
            "     |  __or__(self, other)\n",
            "     |      Return self|value.\n",
            "     |  \n",
            "     |  __repr__(self)\n",
            "     |      Return repr(self).\n",
            "     |  \n",
            "     |  __ror__(self, other)\n",
            "     |      Return value|self.\n",
            "     |  \n",
            "     |  __setitem__(self, key, item)\n",
            "     |  \n",
            "     |  copy(self)\n",
            "     |  \n",
            "     |  ----------------------------------------------------------------------\n",
            "     |  Class methods defined here:\n",
            "     |  \n",
            "     |  fromkeys(iterable, value=None)\n",
            "     |  \n",
            "     |  ----------------------------------------------------------------------\n",
            "     |  Data descriptors defined here:\n",
            "     |  \n",
            "     |  __dict__\n",
            "     |      dictionary for instance variables\n",
            "     |  \n",
            "     |  __weakref__\n",
            "     |      list of weak references to the object\n",
            "     |  \n",
            "     |  ----------------------------------------------------------------------\n",
            "     |  Data and other attributes defined here:\n",
            "     |  \n",
            "     |  __abstractmethods__ = frozenset()\n",
            "     |  \n",
            "     |  ----------------------------------------------------------------------\n",
            "     |  Methods inherited from collections.abc.MutableMapping:\n",
            "     |  \n",
            "     |  clear(self)\n",
            "     |      D.clear() -> None.  Remove all items from D.\n",
            "     |  \n",
            "     |  pop(self, key, default=<object object at 0x7c555da28160>)\n",
            "     |      D.pop(k[,d]) -> v, remove specified key and return the corresponding value.\n",
            "     |      If key is not found, d is returned if given, otherwise KeyError is raised.\n",
            "     |  \n",
            "     |  popitem(self)\n",
            "     |      D.popitem() -> (k, v), remove and return some (key, value) pair\n",
            "     |      as a 2-tuple; but raise KeyError if D is empty.\n",
            "     |  \n",
            "     |  setdefault(self, key, default=None)\n",
            "     |      D.setdefault(k[,d]) -> D.get(k,d), also set D[k]=d if k not in D\n",
            "     |  \n",
            "     |  update(self, other=(), /, **kwds)\n",
            "     |      D.update([E, ]**F) -> None.  Update D from mapping/iterable E and F.\n",
            "     |      If E present and has a .keys() method, does:     for k in E: D[k] = E[k]\n",
            "     |      If E present and lacks .keys() method, does:     for (k, v) in E: D[k] = v\n",
            "     |      In either case, this is followed by: for k, v in F.items(): D[k] = v\n",
            "     |  \n",
            "     |  ----------------------------------------------------------------------\n",
            "     |  Methods inherited from collections.abc.Mapping:\n",
            "     |  \n",
            "     |  __eq__(self, other)\n",
            "     |      Return self==value.\n",
            "     |  \n",
            "     |  get(self, key, default=None)\n",
            "     |      D.get(k[,d]) -> D[k] if k in D, else d.  d defaults to None.\n",
            "     |  \n",
            "     |  items(self)\n",
            "     |      D.items() -> a set-like object providing a view on D's items\n",
            "     |  \n",
            "     |  keys(self)\n",
            "     |      D.keys() -> a set-like object providing a view on D's keys\n",
            "     |  \n",
            "     |  values(self)\n",
            "     |      D.values() -> an object providing a view on D's values\n",
            "     |  \n",
            "     |  ----------------------------------------------------------------------\n",
            "     |  Data and other attributes inherited from collections.abc.Mapping:\n",
            "     |  \n",
            "     |  __hash__ = None\n",
            "     |  \n",
            "     |  __reversed__ = None\n",
            "     |  \n",
            "     |  ----------------------------------------------------------------------\n",
            "     |  Class methods inherited from collections.abc.Collection:\n",
            "     |  \n",
            "     |  __subclasshook__(C)\n",
            "     |      Abstract classes can override this to customize issubclass().\n",
            "     |      \n",
            "     |      This is invoked early on by abc.ABCMeta.__subclasscheck__().\n",
            "     |      It should return True, False or NotImplemented.  If it returns\n",
            "     |      NotImplemented, the normal algorithm is used.  Otherwise, it\n",
            "     |      overrides the normal algorithm (and the outcome is cached).\n",
            "     |  \n",
            "     |  ----------------------------------------------------------------------\n",
            "     |  Class methods inherited from collections.abc.Iterable:\n",
            "     |  \n",
            "     |  __class_getitem__ = GenericAlias(...)\n",
            "     |      Represent a PEP 585 generic type\n",
            "     |      \n",
            "     |      E.g. for t = list[int], t.__origin__ is list and t.__args__ is (int,).\n",
            "    \n",
            "    class UserList(collections.abc.MutableSequence)\n",
            "     |  UserList(initlist=None)\n",
            "     |  \n",
            "     |  A more or less complete user-defined wrapper around list objects.\n",
            "     |  \n",
            "     |  Method resolution order:\n",
            "     |      UserList\n",
            "     |      collections.abc.MutableSequence\n",
            "     |      collections.abc.Sequence\n",
            "     |      collections.abc.Reversible\n",
            "     |      collections.abc.Collection\n",
            "     |      collections.abc.Sized\n",
            "     |      collections.abc.Iterable\n",
            "     |      collections.abc.Container\n",
            "     |      builtins.object\n",
            "     |  \n",
            "     |  Methods defined here:\n",
            "     |  \n",
            "     |  __add__(self, other)\n",
            "     |  \n",
            "     |  __contains__(self, item)\n",
            "     |  \n",
            "     |  __copy__(self)\n",
            "     |  \n",
            "     |  __delitem__(self, i)\n",
            "     |  \n",
            "     |  __eq__(self, other)\n",
            "     |      Return self==value.\n",
            "     |  \n",
            "     |  __ge__(self, other)\n",
            "     |      Return self>=value.\n",
            "     |  \n",
            "     |  __getitem__(self, i)\n",
            "     |  \n",
            "     |  __gt__(self, other)\n",
            "     |      Return self>value.\n",
            "     |  \n",
            "     |  __iadd__(self, other)\n",
            "     |  \n",
            "     |  __imul__(self, n)\n",
            "     |  \n",
            "     |  __init__(self, initlist=None)\n",
            "     |      Initialize self.  See help(type(self)) for accurate signature.\n",
            "     |  \n",
            "     |  __le__(self, other)\n",
            "     |      Return self<=value.\n",
            "     |  \n",
            "     |  __len__(self)\n",
            "     |  \n",
            "     |  __lt__(self, other)\n",
            "     |      Return self<value.\n",
            "     |  \n",
            "     |  __mul__(self, n)\n",
            "     |  \n",
            "     |  __radd__(self, other)\n",
            "     |  \n",
            "     |  __repr__(self)\n",
            "     |      Return repr(self).\n",
            "     |  \n",
            "     |  __rmul__ = __mul__(self, n)\n",
            "     |  \n",
            "     |  __setitem__(self, i, item)\n",
            "     |  \n",
            "     |  append(self, item)\n",
            "     |      S.append(value) -- append value to the end of the sequence\n",
            "     |  \n",
            "     |  clear(self)\n",
            "     |      S.clear() -> None -- remove all items from S\n",
            "     |  \n",
            "     |  copy(self)\n",
            "     |  \n",
            "     |  count(self, item)\n",
            "     |      S.count(value) -> integer -- return number of occurrences of value\n",
            "     |  \n",
            "     |  extend(self, other)\n",
            "     |      S.extend(iterable) -- extend sequence by appending elements from the iterable\n",
            "     |  \n",
            "     |  index(self, item, *args)\n",
            "     |      S.index(value, [start, [stop]]) -> integer -- return first index of value.\n",
            "     |      Raises ValueError if the value is not present.\n",
            "     |      \n",
            "     |      Supporting start and stop arguments is optional, but\n",
            "     |      recommended.\n",
            "     |  \n",
            "     |  insert(self, i, item)\n",
            "     |      S.insert(index, value) -- insert value before index\n",
            "     |  \n",
            "     |  pop(self, i=-1)\n",
            "     |      S.pop([index]) -> item -- remove and return item at index (default last).\n",
            "     |      Raise IndexError if list is empty or index is out of range.\n",
            "     |  \n",
            "     |  remove(self, item)\n",
            "     |      S.remove(value) -- remove first occurrence of value.\n",
            "     |      Raise ValueError if the value is not present.\n",
            "     |  \n",
            "     |  reverse(self)\n",
            "     |      S.reverse() -- reverse *IN PLACE*\n",
            "     |  \n",
            "     |  sort(self, /, *args, **kwds)\n",
            "     |  \n",
            "     |  ----------------------------------------------------------------------\n",
            "     |  Data descriptors defined here:\n",
            "     |  \n",
            "     |  __dict__\n",
            "     |      dictionary for instance variables\n",
            "     |  \n",
            "     |  __weakref__\n",
            "     |      list of weak references to the object\n",
            "     |  \n",
            "     |  ----------------------------------------------------------------------\n",
            "     |  Data and other attributes defined here:\n",
            "     |  \n",
            "     |  __abstractmethods__ = frozenset()\n",
            "     |  \n",
            "     |  __hash__ = None\n",
            "     |  \n",
            "     |  ----------------------------------------------------------------------\n",
            "     |  Methods inherited from collections.abc.Sequence:\n",
            "     |  \n",
            "     |  __iter__(self)\n",
            "     |  \n",
            "     |  __reversed__(self)\n",
            "     |  \n",
            "     |  ----------------------------------------------------------------------\n",
            "     |  Class methods inherited from collections.abc.Reversible:\n",
            "     |  \n",
            "     |  __subclasshook__(C)\n",
            "     |      Abstract classes can override this to customize issubclass().\n",
            "     |      \n",
            "     |      This is invoked early on by abc.ABCMeta.__subclasscheck__().\n",
            "     |      It should return True, False or NotImplemented.  If it returns\n",
            "     |      NotImplemented, the normal algorithm is used.  Otherwise, it\n",
            "     |      overrides the normal algorithm (and the outcome is cached).\n",
            "     |  \n",
            "     |  ----------------------------------------------------------------------\n",
            "     |  Class methods inherited from collections.abc.Iterable:\n",
            "     |  \n",
            "     |  __class_getitem__ = GenericAlias(...)\n",
            "     |      Represent a PEP 585 generic type\n",
            "     |      \n",
            "     |      E.g. for t = list[int], t.__origin__ is list and t.__args__ is (int,).\n",
            "    \n",
            "    class UserString(collections.abc.Sequence)\n",
            "     |  UserString(seq)\n",
            "     |  \n",
            "     |  Method resolution order:\n",
            "     |      UserString\n",
            "     |      collections.abc.Sequence\n",
            "     |      collections.abc.Reversible\n",
            "     |      collections.abc.Collection\n",
            "     |      collections.abc.Sized\n",
            "     |      collections.abc.Iterable\n",
            "     |      collections.abc.Container\n",
            "     |      builtins.object\n",
            "     |  \n",
            "     |  Methods defined here:\n",
            "     |  \n",
            "     |  __add__(self, other)\n",
            "     |  \n",
            "     |  __complex__(self)\n",
            "     |  \n",
            "     |  __contains__(self, char)\n",
            "     |  \n",
            "     |  __eq__(self, string)\n",
            "     |      Return self==value.\n",
            "     |  \n",
            "     |  __float__(self)\n",
            "     |  \n",
            "     |  __ge__(self, string)\n",
            "     |      Return self>=value.\n",
            "     |  \n",
            "     |  __getitem__(self, index)\n",
            "     |  \n",
            "     |  __getnewargs__(self)\n",
            "     |  \n",
            "     |  __gt__(self, string)\n",
            "     |      Return self>value.\n",
            "     |  \n",
            "     |  __hash__(self)\n",
            "     |      Return hash(self).\n",
            "     |  \n",
            "     |  __init__(self, seq)\n",
            "     |      Initialize self.  See help(type(self)) for accurate signature.\n",
            "     |  \n",
            "     |  __int__(self)\n",
            "     |  \n",
            "     |  __le__(self, string)\n",
            "     |      Return self<=value.\n",
            "     |  \n",
            "     |  __len__(self)\n",
            "     |  \n",
            "     |  __lt__(self, string)\n",
            "     |      Return self<value.\n",
            "     |  \n",
            "     |  __mod__(self, args)\n",
            "     |  \n",
            "     |  __mul__(self, n)\n",
            "     |  \n",
            "     |  __radd__(self, other)\n",
            "     |  \n",
            "     |  __repr__(self)\n",
            "     |      Return repr(self).\n",
            "     |  \n",
            "     |  __rmod__(self, template)\n",
            "     |  \n",
            "     |  __rmul__ = __mul__(self, n)\n",
            "     |  \n",
            "     |  __str__(self)\n",
            "     |      Return str(self).\n",
            "     |  \n",
            "     |  capitalize(self)\n",
            "     |      # the following methods are defined in alphabetical order:\n",
            "     |  \n",
            "     |  casefold(self)\n",
            "     |  \n",
            "     |  center(self, width, *args)\n",
            "     |  \n",
            "     |  count(self, sub, start=0, end=9223372036854775807)\n",
            "     |      S.count(value) -> integer -- return number of occurrences of value\n",
            "     |  \n",
            "     |  encode(self, encoding='utf-8', errors='strict')\n",
            "     |  \n",
            "     |  endswith(self, suffix, start=0, end=9223372036854775807)\n",
            "     |  \n",
            "     |  expandtabs(self, tabsize=8)\n",
            "     |  \n",
            "     |  find(self, sub, start=0, end=9223372036854775807)\n",
            "     |  \n",
            "     |  format(self, /, *args, **kwds)\n",
            "     |  \n",
            "     |  format_map(self, mapping)\n",
            "     |  \n",
            "     |  index(self, sub, start=0, end=9223372036854775807)\n",
            "     |      S.index(value, [start, [stop]]) -> integer -- return first index of value.\n",
            "     |      Raises ValueError if the value is not present.\n",
            "     |      \n",
            "     |      Supporting start and stop arguments is optional, but\n",
            "     |      recommended.\n",
            "     |  \n",
            "     |  isalnum(self)\n",
            "     |  \n",
            "     |  isalpha(self)\n",
            "     |  \n",
            "     |  isascii(self)\n",
            "     |  \n",
            "     |  isdecimal(self)\n",
            "     |  \n",
            "     |  isdigit(self)\n",
            "     |  \n",
            "     |  isidentifier(self)\n",
            "     |  \n",
            "     |  islower(self)\n",
            "     |  \n",
            "     |  isnumeric(self)\n",
            "     |  \n",
            "     |  isprintable(self)\n",
            "     |  \n",
            "     |  isspace(self)\n",
            "     |  \n",
            "     |  istitle(self)\n",
            "     |  \n",
            "     |  isupper(self)\n",
            "     |  \n",
            "     |  join(self, seq)\n",
            "     |  \n",
            "     |  ljust(self, width, *args)\n",
            "     |  \n",
            "     |  lower(self)\n",
            "     |  \n",
            "     |  lstrip(self, chars=None)\n",
            "     |  \n",
            "     |  partition(self, sep)\n",
            "     |  \n",
            "     |  removeprefix(self, prefix, /)\n",
            "     |  \n",
            "     |  removesuffix(self, suffix, /)\n",
            "     |  \n",
            "     |  replace(self, old, new, maxsplit=-1)\n",
            "     |  \n",
            "     |  rfind(self, sub, start=0, end=9223372036854775807)\n",
            "     |  \n",
            "     |  rindex(self, sub, start=0, end=9223372036854775807)\n",
            "     |  \n",
            "     |  rjust(self, width, *args)\n",
            "     |  \n",
            "     |  rpartition(self, sep)\n",
            "     |  \n",
            "     |  rsplit(self, sep=None, maxsplit=-1)\n",
            "     |  \n",
            "     |  rstrip(self, chars=None)\n",
            "     |  \n",
            "     |  split(self, sep=None, maxsplit=-1)\n",
            "     |  \n",
            "     |  splitlines(self, keepends=False)\n",
            "     |  \n",
            "     |  startswith(self, prefix, start=0, end=9223372036854775807)\n",
            "     |  \n",
            "     |  strip(self, chars=None)\n",
            "     |  \n",
            "     |  swapcase(self)\n",
            "     |  \n",
            "     |  title(self)\n",
            "     |  \n",
            "     |  translate(self, *args)\n",
            "     |  \n",
            "     |  upper(self)\n",
            "     |  \n",
            "     |  zfill(self, width)\n",
            "     |  \n",
            "     |  ----------------------------------------------------------------------\n",
            "     |  Static methods defined here:\n",
            "     |  \n",
            "     |  maketrans(...)\n",
            "     |      Return a translation table usable for str.translate().\n",
            "     |      \n",
            "     |      If there is only one argument, it must be a dictionary mapping Unicode\n",
            "     |      ordinals (integers) or characters to Unicode ordinals, strings or None.\n",
            "     |      Character keys will be then converted to ordinals.\n",
            "     |      If there are two arguments, they must be strings of equal length, and\n",
            "     |      in the resulting dictionary, each character in x will be mapped to the\n",
            "     |      character at the same position in y. If there is a third argument, it\n",
            "     |      must be a string, whose characters will be mapped to None in the result.\n",
            "     |  \n",
            "     |  ----------------------------------------------------------------------\n",
            "     |  Data descriptors defined here:\n",
            "     |  \n",
            "     |  __dict__\n",
            "     |      dictionary for instance variables\n",
            "     |  \n",
            "     |  __weakref__\n",
            "     |      list of weak references to the object\n",
            "     |  \n",
            "     |  ----------------------------------------------------------------------\n",
            "     |  Data and other attributes defined here:\n",
            "     |  \n",
            "     |  __abstractmethods__ = frozenset()\n",
            "     |  \n",
            "     |  ----------------------------------------------------------------------\n",
            "     |  Methods inherited from collections.abc.Sequence:\n",
            "     |  \n",
            "     |  __iter__(self)\n",
            "     |  \n",
            "     |  __reversed__(self)\n",
            "     |  \n",
            "     |  ----------------------------------------------------------------------\n",
            "     |  Class methods inherited from collections.abc.Reversible:\n",
            "     |  \n",
            "     |  __subclasshook__(C)\n",
            "     |      Abstract classes can override this to customize issubclass().\n",
            "     |      \n",
            "     |      This is invoked early on by abc.ABCMeta.__subclasscheck__().\n",
            "     |      It should return True, False or NotImplemented.  If it returns\n",
            "     |      NotImplemented, the normal algorithm is used.  Otherwise, it\n",
            "     |      overrides the normal algorithm (and the outcome is cached).\n",
            "     |  \n",
            "     |  ----------------------------------------------------------------------\n",
            "     |  Class methods inherited from collections.abc.Iterable:\n",
            "     |  \n",
            "     |  __class_getitem__ = GenericAlias(...)\n",
            "     |      Represent a PEP 585 generic type\n",
            "     |      \n",
            "     |      E.g. for t = list[int], t.__origin__ is list and t.__args__ is (int,).\n",
            "    \n",
            "    class defaultdict(builtins.dict)\n",
            "     |  defaultdict(default_factory=None, /, [...]) --> dict with default factory\n",
            "     |  \n",
            "     |  The default factory is called without arguments to produce\n",
            "     |  a new value when a key is not present, in __getitem__ only.\n",
            "     |  A defaultdict compares equal to a dict with the same items.\n",
            "     |  All remaining arguments are treated the same as if they were\n",
            "     |  passed to the dict constructor, including keyword arguments.\n",
            "     |  \n",
            "     |  Method resolution order:\n",
            "     |      defaultdict\n",
            "     |      builtins.dict\n",
            "     |      builtins.object\n",
            "     |  \n",
            "     |  Methods defined here:\n",
            "     |  \n",
            "     |  __copy__(...)\n",
            "     |      D.copy() -> a shallow copy of D.\n",
            "     |  \n",
            "     |  __getattribute__(self, name, /)\n",
            "     |      Return getattr(self, name).\n",
            "     |  \n",
            "     |  __init__(self, /, *args, **kwargs)\n",
            "     |      Initialize self.  See help(type(self)) for accurate signature.\n",
            "     |  \n",
            "     |  __missing__(...)\n",
            "     |      __missing__(key) # Called by __getitem__ for missing key; pseudo-code:\n",
            "     |      if self.default_factory is None: raise KeyError((key,))\n",
            "     |      self[key] = value = self.default_factory()\n",
            "     |      return value\n",
            "     |  \n",
            "     |  __or__(self, value, /)\n",
            "     |      Return self|value.\n",
            "     |  \n",
            "     |  __reduce__(...)\n",
            "     |      Return state information for pickling.\n",
            "     |  \n",
            "     |  __repr__(self, /)\n",
            "     |      Return repr(self).\n",
            "     |  \n",
            "     |  __ror__(self, value, /)\n",
            "     |      Return value|self.\n",
            "     |  \n",
            "     |  copy(...)\n",
            "     |      D.copy() -> a shallow copy of D.\n",
            "     |  \n",
            "     |  ----------------------------------------------------------------------\n",
            "     |  Class methods defined here:\n",
            "     |  \n",
            "     |  __class_getitem__(...)\n",
            "     |      See PEP 585\n",
            "     |  \n",
            "     |  ----------------------------------------------------------------------\n",
            "     |  Data descriptors defined here:\n",
            "     |  \n",
            "     |  default_factory\n",
            "     |      Factory for default value called by __missing__().\n",
            "     |  \n",
            "     |  ----------------------------------------------------------------------\n",
            "     |  Methods inherited from builtins.dict:\n",
            "     |  \n",
            "     |  __contains__(self, key, /)\n",
            "     |      True if the dictionary has the specified key, else False.\n",
            "     |  \n",
            "     |  __delitem__(self, key, /)\n",
            "     |      Delete self[key].\n",
            "     |  \n",
            "     |  __eq__(self, value, /)\n",
            "     |      Return self==value.\n",
            "     |  \n",
            "     |  __ge__(self, value, /)\n",
            "     |      Return self>=value.\n",
            "     |  \n",
            "     |  __getitem__(...)\n",
            "     |      x.__getitem__(y) <==> x[y]\n",
            "     |  \n",
            "     |  __gt__(self, value, /)\n",
            "     |      Return self>value.\n",
            "     |  \n",
            "     |  __ior__(self, value, /)\n",
            "     |      Return self|=value.\n",
            "     |  \n",
            "     |  __iter__(self, /)\n",
            "     |      Implement iter(self).\n",
            "     |  \n",
            "     |  __le__(self, value, /)\n",
            "     |      Return self<=value.\n",
            "     |  \n",
            "     |  __len__(self, /)\n",
            "     |      Return len(self).\n",
            "     |  \n",
            "     |  __lt__(self, value, /)\n",
            "     |      Return self<value.\n",
            "     |  \n",
            "     |  __ne__(self, value, /)\n",
            "     |      Return self!=value.\n",
            "     |  \n",
            "     |  __reversed__(self, /)\n",
            "     |      Return a reverse iterator over the dict keys.\n",
            "     |  \n",
            "     |  __setitem__(self, key, value, /)\n",
            "     |      Set self[key] to value.\n",
            "     |  \n",
            "     |  __sizeof__(...)\n",
            "     |      D.__sizeof__() -> size of D in memory, in bytes\n",
            "     |  \n",
            "     |  clear(...)\n",
            "     |      D.clear() -> None.  Remove all items from D.\n",
            "     |  \n",
            "     |  get(self, key, default=None, /)\n",
            "     |      Return the value for key if key is in the dictionary, else default.\n",
            "     |  \n",
            "     |  items(...)\n",
            "     |      D.items() -> a set-like object providing a view on D's items\n",
            "     |  \n",
            "     |  keys(...)\n",
            "     |      D.keys() -> a set-like object providing a view on D's keys\n",
            "     |  \n",
            "     |  pop(...)\n",
            "     |      D.pop(k[,d]) -> v, remove specified key and return the corresponding value.\n",
            "     |      \n",
            "     |      If the key is not found, return the default if given; otherwise,\n",
            "     |      raise a KeyError.\n",
            "     |  \n",
            "     |  popitem(self, /)\n",
            "     |      Remove and return a (key, value) pair as a 2-tuple.\n",
            "     |      \n",
            "     |      Pairs are returned in LIFO (last-in, first-out) order.\n",
            "     |      Raises KeyError if the dict is empty.\n",
            "     |  \n",
            "     |  setdefault(self, key, default=None, /)\n",
            "     |      Insert key with a value of default if key is not in the dictionary.\n",
            "     |      \n",
            "     |      Return the value for key if key is in the dictionary, else default.\n",
            "     |  \n",
            "     |  update(...)\n",
            "     |      D.update([E, ]**F) -> None.  Update D from dict/iterable E and F.\n",
            "     |      If E is present and has a .keys() method, then does:  for k in E: D[k] = E[k]\n",
            "     |      If E is present and lacks a .keys() method, then does:  for k, v in E: D[k] = v\n",
            "     |      In either case, this is followed by: for k in F:  D[k] = F[k]\n",
            "     |  \n",
            "     |  values(...)\n",
            "     |      D.values() -> an object providing a view on D's values\n",
            "     |  \n",
            "     |  ----------------------------------------------------------------------\n",
            "     |  Class methods inherited from builtins.dict:\n",
            "     |  \n",
            "     |  fromkeys(iterable, value=None, /)\n",
            "     |      Create a new dictionary with keys from iterable and values set to value.\n",
            "     |  \n",
            "     |  ----------------------------------------------------------------------\n",
            "     |  Static methods inherited from builtins.dict:\n",
            "     |  \n",
            "     |  __new__(*args, **kwargs) class method of builtins.dict\n",
            "     |      Create and return a new object.  See help(type) for accurate signature.\n",
            "     |  \n",
            "     |  ----------------------------------------------------------------------\n",
            "     |  Data and other attributes inherited from builtins.dict:\n",
            "     |  \n",
            "     |  __hash__ = None\n",
            "    \n",
            "    class deque(builtins.object)\n",
            "     |  deque([iterable[, maxlen]]) --> deque object\n",
            "     |  \n",
            "     |  A list-like sequence optimized for data accesses near its endpoints.\n",
            "     |  \n",
            "     |  Methods defined here:\n",
            "     |  \n",
            "     |  __add__(self, value, /)\n",
            "     |      Return self+value.\n",
            "     |  \n",
            "     |  __contains__(self, key, /)\n",
            "     |      Return key in self.\n",
            "     |  \n",
            "     |  __copy__(...)\n",
            "     |      Return a shallow copy of a deque.\n",
            "     |  \n",
            "     |  __delitem__(self, key, /)\n",
            "     |      Delete self[key].\n",
            "     |  \n",
            "     |  __eq__(self, value, /)\n",
            "     |      Return self==value.\n",
            "     |  \n",
            "     |  __ge__(self, value, /)\n",
            "     |      Return self>=value.\n",
            "     |  \n",
            "     |  __getattribute__(self, name, /)\n",
            "     |      Return getattr(self, name).\n",
            "     |  \n",
            "     |  __getitem__(self, key, /)\n",
            "     |      Return self[key].\n",
            "     |  \n",
            "     |  __gt__(self, value, /)\n",
            "     |      Return self>value.\n",
            "     |  \n",
            "     |  __iadd__(self, value, /)\n",
            "     |      Implement self+=value.\n",
            "     |  \n",
            "     |  __imul__(self, value, /)\n",
            "     |      Implement self*=value.\n",
            "     |  \n",
            "     |  __init__(self, /, *args, **kwargs)\n",
            "     |      Initialize self.  See help(type(self)) for accurate signature.\n",
            "     |  \n",
            "     |  __iter__(self, /)\n",
            "     |      Implement iter(self).\n",
            "     |  \n",
            "     |  __le__(self, value, /)\n",
            "     |      Return self<=value.\n",
            "     |  \n",
            "     |  __len__(self, /)\n",
            "     |      Return len(self).\n",
            "     |  \n",
            "     |  __lt__(self, value, /)\n",
            "     |      Return self<value.\n",
            "     |  \n",
            "     |  __mul__(self, value, /)\n",
            "     |      Return self*value.\n",
            "     |  \n",
            "     |  __ne__(self, value, /)\n",
            "     |      Return self!=value.\n",
            "     |  \n",
            "     |  __reduce__(...)\n",
            "     |      Return state information for pickling.\n",
            "     |  \n",
            "     |  __repr__(self, /)\n",
            "     |      Return repr(self).\n",
            "     |  \n",
            "     |  __reversed__(...)\n",
            "     |      D.__reversed__() -- return a reverse iterator over the deque\n",
            "     |  \n",
            "     |  __rmul__(self, value, /)\n",
            "     |      Return value*self.\n",
            "     |  \n",
            "     |  __setitem__(self, key, value, /)\n",
            "     |      Set self[key] to value.\n",
            "     |  \n",
            "     |  __sizeof__(...)\n",
            "     |      D.__sizeof__() -- size of D in memory, in bytes\n",
            "     |  \n",
            "     |  append(...)\n",
            "     |      Add an element to the right side of the deque.\n",
            "     |  \n",
            "     |  appendleft(...)\n",
            "     |      Add an element to the left side of the deque.\n",
            "     |  \n",
            "     |  clear(...)\n",
            "     |      Remove all elements from the deque.\n",
            "     |  \n",
            "     |  copy(...)\n",
            "     |      Return a shallow copy of a deque.\n",
            "     |  \n",
            "     |  count(...)\n",
            "     |      D.count(value) -- return number of occurrences of value\n",
            "     |  \n",
            "     |  extend(...)\n",
            "     |      Extend the right side of the deque with elements from the iterable\n",
            "     |  \n",
            "     |  extendleft(...)\n",
            "     |      Extend the left side of the deque with elements from the iterable\n",
            "     |  \n",
            "     |  index(...)\n",
            "     |      D.index(value, [start, [stop]]) -- return first index of value.\n",
            "     |      Raises ValueError if the value is not present.\n",
            "     |  \n",
            "     |  insert(...)\n",
            "     |      D.insert(index, object) -- insert object before index\n",
            "     |  \n",
            "     |  pop(...)\n",
            "     |      Remove and return the rightmost element.\n",
            "     |  \n",
            "     |  popleft(...)\n",
            "     |      Remove and return the leftmost element.\n",
            "     |  \n",
            "     |  remove(...)\n",
            "     |      D.remove(value) -- remove first occurrence of value.\n",
            "     |  \n",
            "     |  reverse(...)\n",
            "     |      D.reverse() -- reverse *IN PLACE*\n",
            "     |  \n",
            "     |  rotate(...)\n",
            "     |      Rotate the deque n steps to the right (default n=1).  If n is negative, rotates left.\n",
            "     |  \n",
            "     |  ----------------------------------------------------------------------\n",
            "     |  Class methods defined here:\n",
            "     |  \n",
            "     |  __class_getitem__(...)\n",
            "     |      See PEP 585\n",
            "     |  \n",
            "     |  ----------------------------------------------------------------------\n",
            "     |  Static methods defined here:\n",
            "     |  \n",
            "     |  __new__(*args, **kwargs)\n",
            "     |      Create and return a new object.  See help(type) for accurate signature.\n",
            "     |  \n",
            "     |  ----------------------------------------------------------------------\n",
            "     |  Data descriptors defined here:\n",
            "     |  \n",
            "     |  maxlen\n",
            "     |      maximum size of a deque or None if unbounded\n",
            "     |  \n",
            "     |  ----------------------------------------------------------------------\n",
            "     |  Data and other attributes defined here:\n",
            "     |  \n",
            "     |  __hash__ = None\n",
            "\n",
            "FUNCTIONS\n",
            "    namedtuple(typename, field_names, *, rename=False, defaults=None, module=None)\n",
            "        Returns a new subclass of tuple with named fields.\n",
            "        \n",
            "        >>> Point = namedtuple('Point', ['x', 'y'])\n",
            "        >>> Point.__doc__                   # docstring for the new class\n",
            "        'Point(x, y)'\n",
            "        >>> p = Point(11, y=22)             # instantiate with positional args or keywords\n",
            "        >>> p[0] + p[1]                     # indexable like a plain tuple\n",
            "        33\n",
            "        >>> x, y = p                        # unpack like a regular tuple\n",
            "        >>> x, y\n",
            "        (11, 22)\n",
            "        >>> p.x + p.y                       # fields also accessible by name\n",
            "        33\n",
            "        >>> d = p._asdict()                 # convert to a dictionary\n",
            "        >>> d['x']\n",
            "        11\n",
            "        >>> Point(**d)                      # convert from a dictionary\n",
            "        Point(x=11, y=22)\n",
            "        >>> p._replace(x=100)               # _replace() is like str.replace() but targets named fields\n",
            "        Point(x=100, y=22)\n",
            "\n",
            "DATA\n",
            "    __all__ = ['ChainMap', 'Counter', 'OrderedDict', 'UserDict', 'UserList...\n",
            "\n",
            "FILE\n",
            "    /usr/lib/python3.11/collections/__init__.py\n",
            "\n",
            "\n"
          ]
        }
      ]
    },
    {
      "cell_type": "markdown",
      "metadata": {
        "id": "66HhYz3MNPcF"
      },
      "source": [
        "You could import the entire contents of a module into your\n",
        "namespace, which might inadvertently overwrite variables you’ve already defined:"
      ]
    },
    {
      "cell_type": "code",
      "execution_count": null,
      "metadata": {
        "id": "iCyVXllJNPcG",
        "outputId": "049b408e-5c63-44d3-bf68-e0aa01f1716f"
      },
      "outputs": [
        {
          "name": "stdout",
          "output_type": "stream",
          "text": [
            "<function match at 0x0000018D3E7BAF28>\n"
          ]
        }
      ],
      "source": [
        "match = 10\n",
        "from re import *     # uh oh, re has a match function\n",
        "print(match)          # \"<function re.match>\""
      ]
    },
    {
      "cell_type": "code",
      "execution_count": null,
      "metadata": {
        "id": "e1gNFCmcsUCi",
        "outputId": "8cd9e125-cff2-4180-b696-7e755abc7e31"
      },
      "outputs": [
        {
          "data": {
            "text/plain": [
              "['A',\n",
              " 'ASCII',\n",
              " 'DEBUG',\n",
              " 'DOTALL',\n",
              " 'I',\n",
              " 'IGNORECASE',\n",
              " 'L',\n",
              " 'LOCALE',\n",
              " 'M',\n",
              " 'MULTILINE',\n",
              " 'Match',\n",
              " 'Pattern',\n",
              " 'RegexFlag',\n",
              " 'S',\n",
              " 'Scanner',\n",
              " 'T',\n",
              " 'TEMPLATE',\n",
              " 'U',\n",
              " 'UNICODE',\n",
              " 'VERBOSE',\n",
              " 'X',\n",
              " '_MAXCACHE',\n",
              " '__all__',\n",
              " '__builtins__',\n",
              " '__cached__',\n",
              " '__doc__',\n",
              " '__file__',\n",
              " '__loader__',\n",
              " '__name__',\n",
              " '__package__',\n",
              " '__spec__',\n",
              " '__version__',\n",
              " '_cache',\n",
              " '_compile',\n",
              " '_compile_repl',\n",
              " '_expand',\n",
              " '_locale',\n",
              " '_pickle',\n",
              " '_special_chars_map',\n",
              " '_subx',\n",
              " 'compile',\n",
              " 'copyreg',\n",
              " 'enum',\n",
              " 'error',\n",
              " 'escape',\n",
              " 'findall',\n",
              " 'finditer',\n",
              " 'fullmatch',\n",
              " 'functools',\n",
              " 'match',\n",
              " 'purge',\n",
              " 'search',\n",
              " 'split',\n",
              " 'sre_compile',\n",
              " 'sre_parse',\n",
              " 'sub',\n",
              " 'subn',\n",
              " 'template']"
            ]
          },
          "execution_count": 12,
          "metadata": {},
          "output_type": "execute_result"
        }
      ],
      "source": [
        "dir(re)"
      ]
    },
    {
      "cell_type": "markdown",
      "metadata": {
        "id": "7e6WDY87NPcG"
      },
      "source": [
        "### Arithmetic\n",
        "\n",
        "Remember **quotient-remainder theorem**\n",
        "\n",
        "$$n = d \\cdot q + r$$\n",
        "\n",
        "- $d$ is a divisor, $q$ is a quotient, $r$ is a remainder,\n",
        "- $0 \\leq r \\lt q$ when $q$ is positive and $q \\lt r \\leq 0$ when $q$ is negative"
      ]
    },
    {
      "cell_type": "code",
      "execution_count": null,
      "metadata": {
        "id": "2l3IerNUNPcH"
      },
      "outputs": [],
      "source": [
        "print(2 ** 10)       # 1024\n",
        "print(2 ** 0.5)      # 1.414...\n",
        "print(2 ** -0.5)     #\n",
        "print(5 / 2)         # 2.5\n",
        "print(5 % 3)         # 2\n",
        "print(5 // 3)        # 1\n",
        "print((-5) % 3)      # 1\n",
        "print((-5) // 3)     # -2\n",
        "print(5 % (-3))      # -1\n",
        "print(5 // (-3))      # -2\n",
        "print((-5) // (-3))  # 1\n",
        "print((-5) % (-3))   # -2\n",
        "print(7.2 // 3.5)    # 2.0\n",
        "print(7.2 % 3.5)     # 0.2"
      ]
    },
    {
      "cell_type": "markdown",
      "metadata": {
        "id": "ab2ZOxyTNPcH"
      },
      "source": [
        "### Functions\n",
        "\n",
        "- A function is a rule for taking zero or more inputs and returning a corresponding output"
      ]
    },
    {
      "cell_type": "code",
      "execution_count": null,
      "metadata": {
        "id": "iNGhxEvYNPcH",
        "outputId": "aeca41a8-9363-48b2-bbd8-b4076e82a749"
      },
      "outputs": [
        {
          "data": {
            "text/plain": [
              "4"
            ]
          },
          "execution_count": 2,
          "metadata": {},
          "output_type": "execute_result"
        }
      ],
      "source": [
        "# This\n",
        "# is\n",
        "# a\n",
        "# comment\n",
        "# CTRL + / toggles comment/uncomment\n",
        "\n",
        "\n",
        "# for PEP on docstring, refer to https://www.python.org/dev/peps/pep-0257/#abstract\n",
        "def double(x):\n",
        "    \"\"\"this is where you put an optional docstring\n",
        "    that explains what the function does.\n",
        "    for example, this function multiplies its input by 2\"\"\"\n",
        "    return x * 2\n",
        "\n",
        "double(2)"
      ]
    },
    {
      "cell_type": "code",
      "execution_count": null,
      "metadata": {
        "scrolled": true,
        "id": "LvOt03sGsUCk",
        "outputId": "34106203-c97a-41b2-9c8b-b0326d42b4a2"
      },
      "outputs": [
        {
          "name": "stdout",
          "output_type": "stream",
          "text": [
            "Help on function double in module __main__:\n",
            "\n",
            "double(x)\n",
            "    this is where you put an optional docstring\n",
            "    that explains what the function does.\n",
            "    for example, this function multiplies its input by 2\n",
            "\n"
          ]
        }
      ],
      "source": [
        "help(double)"
      ]
    },
    {
      "cell_type": "code",
      "execution_count": null,
      "metadata": {
        "id": "MmYy4im1sUCl",
        "outputId": "a6c2eac2-78e1-43f1-8781-e82e0cc807d8"
      },
      "outputs": [
        {
          "data": {
            "text/plain": [
              "0.0"
            ]
          },
          "execution_count": 4,
          "metadata": {},
          "output_type": "execute_result"
        }
      ],
      "source": [
        "import math\n",
        "\n",
        "math.sin(0)"
      ]
    },
    {
      "cell_type": "code",
      "execution_count": null,
      "metadata": {
        "id": "M__FaZ6rsUCu",
        "outputId": "d25fd511-d3c3-436d-d95e-32185d9a0bbe"
      },
      "outputs": [
        {
          "name": "stdout",
          "output_type": "stream",
          "text": [
            "Help on built-in function sin in module math:\n",
            "\n",
            "sin(x, /)\n",
            "    Return the sine of x (measured in radians).\n",
            "\n"
          ]
        }
      ],
      "source": [
        "help(math.sin)"
      ]
    },
    {
      "cell_type": "markdown",
      "metadata": {
        "id": "nPbFCeBANPcI"
      },
      "source": [
        "Python functions are **first-class**, which means that we can assign them to variables and\n",
        "pass them into functions just like any other arguments:"
      ]
    },
    {
      "cell_type": "code",
      "execution_count": null,
      "metadata": {
        "id": "hu58p4iENPcI",
        "outputId": "daf85c23-7fdf-4439-beb5-ec0d4c2152b7"
      },
      "outputs": [
        {
          "name": "stdout",
          "output_type": "stream",
          "text": [
            "0.8414709848078965\n"
          ]
        }
      ],
      "source": [
        "def apply_to_one(f):\n",
        "    \"\"\"calls the function f with 1 as its argument\"\"\"\n",
        "    return f(1)\n",
        "\n",
        "my_double = math.sin\n",
        "x = apply_to_one(my_double)\n",
        "\n",
        "print(x)"
      ]
    },
    {
      "cell_type": "code",
      "execution_count": null,
      "metadata": {
        "outputId": "daf85c23-7fdf-4439-beb5-ec0d4c2152b7",
        "id": "Qtvvh8LbsUCw"
      },
      "outputs": [
        {
          "name": "stdout",
          "output_type": "stream",
          "text": [
            "101\n"
          ]
        }
      ],
      "source": [
        "def apply_to_one(f):\n",
        "    \"\"\"calls the function f with 1 as its argument\"\"\"\n",
        "    return f(1)\n",
        "\n",
        "my_double = lambda x: x + 100\n",
        "x = apply_to_one(my_double)\n",
        "\n",
        "print(x)"
      ]
    },
    {
      "cell_type": "markdown",
      "metadata": {
        "id": "BlGqOvGXNPcI"
      },
      "source": [
        "**Lambda function**: short anonymous functions"
      ]
    },
    {
      "cell_type": "code",
      "execution_count": null,
      "metadata": {
        "id": "fQxR9vyUNPcI",
        "outputId": "5d1f128b-c715-4ca2-9fcc-9bcb631e1eea"
      },
      "outputs": [
        {
          "name": "stdout",
          "output_type": "stream",
          "text": [
            "5\n"
          ]
        }
      ],
      "source": [
        "y = apply_to_one(lambda x: x + 4)\n",
        "\n",
        "print(y)"
      ]
    },
    {
      "cell_type": "code",
      "execution_count": null,
      "metadata": {
        "id": "c45waE8ENPcJ"
      },
      "outputs": [],
      "source": [
        "another_double = lambda x: 2 * x\n",
        "def another_double(x): return 2 * x   # more readable"
      ]
    },
    {
      "cell_type": "code",
      "execution_count": null,
      "metadata": {
        "id": "w6U0tC_CNPcJ",
        "outputId": "38d510cc-78d0-4e29-f3c7-67ca793a86bc"
      },
      "outputs": [
        {
          "data": {
            "text/plain": [
              "3"
            ]
          },
          "execution_count": 9,
          "metadata": {},
          "output_type": "execute_result"
        }
      ],
      "source": [
        "add = lambda x, y : x + y\n",
        "add(1,2)"
      ]
    },
    {
      "cell_type": "markdown",
      "metadata": {
        "id": "tuohpR4SNPcJ"
      },
      "source": [
        "Function parameters can also be given **default arguments**"
      ]
    },
    {
      "cell_type": "code",
      "execution_count": null,
      "metadata": {
        "id": "VCdCGl0NNPcJ"
      },
      "outputs": [],
      "source": [
        "def my_print(message=\"my default message\"):\n",
        "    print(message)\n",
        "\n",
        "my_print(\"hello\")  # prints 'hello'\n",
        "my_print()         # prints 'my default message'"
      ]
    },
    {
      "cell_type": "code",
      "execution_count": null,
      "metadata": {
        "scrolled": true,
        "id": "ef0Pl_r7sUCy",
        "outputId": "ecb65aaf-f956-4d06-eef7-afe36840ad58"
      },
      "outputs": [
        {
          "data": {
            "image/png": "[encoded data removed]",
            "text/plain": [
              "<Figure size 432x288 with 1 Axes>"
            ]
          },
          "metadata": {
            "needs_background": "light"
          },
          "output_type": "display_data"
        }
      ],
      "source": [
        "import matplotlib.pyplot as plt\n",
        "\n",
        "xs = [1,2,1]\n",
        "plt.plot(xs)\n",
        "plt.show()"
      ]
    },
    {
      "cell_type": "code",
      "execution_count": null,
      "metadata": {
        "id": "-8qL-BHrsUCz",
        "outputId": "9f72b65d-6c26-4a95-e6c3-471185139800"
      },
      "outputs": [
        {
          "name": "stdout",
          "output_type": "stream",
          "text": [
            "Help on function plot in module matplotlib.pyplot:\n",
            "\n",
            "plot(*args, scalex=True, scaley=True, data=None, **kwargs)\n",
            "    Plot y versus x as lines and/or markers.\n",
            "    \n",
            "    Call signatures::\n",
            "    \n",
            "        plot([x], y, [fmt], *, data=None, **kwargs)\n",
            "        plot([x], y, [fmt], [x2], y2, [fmt2], ..., **kwargs)\n",
            "    \n",
            "    The coordinates of the points or line nodes are given by *x*, *y*.\n",
            "    \n",
            "    The optional parameter *fmt* is a convenient way for defining basic\n",
            "    formatting like color, marker and linestyle. It's a shortcut string\n",
            "    notation described in the *Notes* section below.\n",
            "    \n",
            "    >>> plot(x, y)        # plot x and y using default line style and color\n",
            "    >>> plot(x, y, 'bo')  # plot x and y using blue circle markers\n",
            "    >>> plot(y)           # plot y using x as index array 0..N-1\n",
            "    >>> plot(y, 'r+')     # ditto, but with red plusses\n",
            "    \n",
            "    You can use `.Line2D` properties as keyword arguments for more\n",
            "    control on the appearance. Line properties and *fmt* can be mixed.\n",
            "    The following two calls yield identical results:\n",
            "    \n",
            "    >>> plot(x, y, 'go--', linewidth=2, markersize=12)\n",
            "    >>> plot(x, y, color='green', marker='o', linestyle='dashed',\n",
            "    ...      linewidth=2, markersize=12)\n",
            "    \n",
            "    When conflicting with *fmt*, keyword arguments take precedence.\n",
            "    \n",
            "    \n",
            "    **Plotting labelled data**\n",
            "    \n",
            "    There's a convenient way for plotting objects with labelled data (i.e.\n",
            "    data that can be accessed by index ``obj['y']``). Instead of giving\n",
            "    the data in *x* and *y*, you can provide the object in the *data*\n",
            "    parameter and just give the labels for *x* and *y*::\n",
            "    \n",
            "    >>> plot('xlabel', 'ylabel', data=obj)\n",
            "    \n",
            "    All indexable objects are supported. This could e.g. be a `dict`, a\n",
            "    `pandas.DataFame` or a structured numpy array.\n",
            "    \n",
            "    \n",
            "    **Plotting multiple sets of data**\n",
            "    \n",
            "    There are various ways to plot multiple sets of data.\n",
            "    \n",
            "    - The most straight forward way is just to call `plot` multiple times.\n",
            "      Example:\n",
            "    \n",
            "      >>> plot(x1, y1, 'bo')\n",
            "      >>> plot(x2, y2, 'go')\n",
            "    \n",
            "    - Alternatively, if your data is already a 2d array, you can pass it\n",
            "      directly to *x*, *y*. A separate data set will be drawn for every\n",
            "      column.\n",
            "    \n",
            "      Example: an array ``a`` where the first column represents the *x*\n",
            "      values and the other columns are the *y* columns::\n",
            "    \n",
            "      >>> plot(a[0], a[1:])\n",
            "    \n",
            "    - The third way is to specify multiple sets of *[x]*, *y*, *[fmt]*\n",
            "      groups::\n",
            "    \n",
            "      >>> plot(x1, y1, 'g^', x2, y2, 'g-')\n",
            "    \n",
            "      In this case, any additional keyword argument applies to all\n",
            "      datasets. Also this syntax cannot be combined with the *data*\n",
            "      parameter.\n",
            "    \n",
            "    By default, each line is assigned a different style specified by a\n",
            "    'style cycle'. The *fmt* and line property parameters are only\n",
            "    necessary if you want explicit deviations from these defaults.\n",
            "    Alternatively, you can also change the style cycle using\n",
            "    :rc:`axes.prop_cycle`.\n",
            "    \n",
            "    \n",
            "    Parameters\n",
            "    ----------\n",
            "    x, y : array-like or scalar\n",
            "        The horizontal / vertical coordinates of the data points.\n",
            "        *x* values are optional and default to `range(len(y))`.\n",
            "    \n",
            "        Commonly, these parameters are 1D arrays.\n",
            "    \n",
            "        They can also be scalars, or two-dimensional (in that case, the\n",
            "        columns represent separate data sets).\n",
            "    \n",
            "        These arguments cannot be passed as keywords.\n",
            "    \n",
            "    fmt : str, optional\n",
            "        A format string, e.g. 'ro' for red circles. See the *Notes*\n",
            "        section for a full description of the format strings.\n",
            "    \n",
            "        Format strings are just an abbreviation for quickly setting\n",
            "        basic line properties. All of these and more can also be\n",
            "        controlled by keyword arguments.\n",
            "    \n",
            "        This argument cannot be passed as keyword.\n",
            "    \n",
            "    data : indexable object, optional\n",
            "        An object with labelled data. If given, provide the label names to\n",
            "        plot in *x* and *y*.\n",
            "    \n",
            "        .. note::\n",
            "            Technically there's a slight ambiguity in calls where the\n",
            "            second label is a valid *fmt*. `plot('n', 'o', data=obj)`\n",
            "            could be `plt(x, y)` or `plt(y, fmt)`. In such cases,\n",
            "            the former interpretation is chosen, but a warning is issued.\n",
            "            You may suppress the warning by adding an empty format string\n",
            "            `plot('n', 'o', '', data=obj)`.\n",
            "    \n",
            "    Other Parameters\n",
            "    ----------------\n",
            "    scalex, scaley : bool, optional, default: True\n",
            "        These parameters determined if the view limits are adapted to\n",
            "        the data limits. The values are passed on to `autoscale_view`.\n",
            "    \n",
            "    **kwargs : `.Line2D` properties, optional\n",
            "        *kwargs* are used to specify properties like a line label (for\n",
            "        auto legends), linewidth, antialiasing, marker face color.\n",
            "        Example::\n",
            "    \n",
            "        >>> plot([1, 2, 3], [1, 2, 3], 'go-', label='line 1', linewidth=2)\n",
            "        >>> plot([1, 2, 3], [1, 4, 9], 'rs', label='line 2')\n",
            "    \n",
            "        If you make multiple lines with one plot command, the kwargs\n",
            "        apply to all those lines.\n",
            "    \n",
            "        Here is a list of available `.Line2D` properties:\n",
            "    \n",
            "        Properties:\n",
            "        agg_filter: a filter function, which takes a (m, n, 3) float array and a dpi value, and returns a (m, n, 3) array\n",
            "        alpha: float or None\n",
            "        animated: bool\n",
            "        antialiased or aa: bool\n",
            "        clip_box: `.Bbox`\n",
            "        clip_on: bool\n",
            "        clip_path: Patch or (Path, Transform) or None\n",
            "        color or c: color\n",
            "        contains: callable\n",
            "        dash_capstyle: {'butt', 'round', 'projecting'}\n",
            "        dash_joinstyle: {'miter', 'round', 'bevel'}\n",
            "        dashes: sequence of floats (on/off ink in points) or (None, None)\n",
            "        data: (2, N) array or two 1D arrays\n",
            "        drawstyle or ds: {'default', 'steps', 'steps-pre', 'steps-mid', 'steps-post'}, default: 'default'\n",
            "        figure: `.Figure`\n",
            "        fillstyle: {'full', 'left', 'right', 'bottom', 'top', 'none'}\n",
            "        gid: str\n",
            "        in_layout: bool\n",
            "        label: object\n",
            "        linestyle or ls: {'-', '--', '-.', ':', '', (offset, on-off-seq), ...}\n",
            "        linewidth or lw: float\n",
            "        marker: marker style\n",
            "        markeredgecolor or mec: color\n",
            "        markeredgewidth or mew: float\n",
            "        markerfacecolor or mfc: color\n",
            "        markerfacecoloralt or mfcalt: color\n",
            "        markersize or ms: float\n",
            "        markevery: None or int or (int, int) or slice or List[int] or float or (float, float)\n",
            "        path_effects: `.AbstractPathEffect`\n",
            "        picker: float or callable[[Artist, Event], Tuple[bool, dict]]\n",
            "        pickradius: float\n",
            "        rasterized: bool or None\n",
            "        sketch_params: (scale: float, length: float, randomness: float)\n",
            "        snap: bool or None\n",
            "        solid_capstyle: {'butt', 'round', 'projecting'}\n",
            "        solid_joinstyle: {'miter', 'round', 'bevel'}\n",
            "        transform: `matplotlib.transforms.Transform`\n",
            "        url: str\n",
            "        visible: bool\n",
            "        xdata: 1D array\n",
            "        ydata: 1D array\n",
            "        zorder: float\n",
            "    \n",
            "    Returns\n",
            "    -------\n",
            "    lines\n",
            "        A list of `.Line2D` objects representing the plotted data.\n",
            "    \n",
            "    See Also\n",
            "    --------\n",
            "    scatter : XY scatter plot with markers of varying size and/or color (\n",
            "        sometimes also called bubble chart).\n",
            "    \n",
            "    Notes\n",
            "    -----\n",
            "    **Format Strings**\n",
            "    \n",
            "    A format string consists of a part for color, marker and line::\n",
            "    \n",
            "        fmt = '[marker][line][color]'\n",
            "    \n",
            "    Each of them is optional. If not provided, the value from the style\n",
            "    cycle is used. Exception: If ``line`` is given, but no ``marker``,\n",
            "    the data will be a line without markers.\n",
            "    \n",
            "    Other combinations such as ``[color][marker][line]`` are also\n",
            "    supported, but note that their parsing may be ambiguous.\n",
            "    \n",
            "    **Markers**\n",
            "    \n",
            "    =============    ===============================\n",
            "    character        description\n",
            "    =============    ===============================\n",
            "    ``'.'``          point marker\n",
            "    ``','``          pixel marker\n",
            "    ``'o'``          circle marker\n",
            "    ``'v'``          triangle_down marker\n",
            "    ``'^'``          triangle_up marker\n",
            "    ``'<'``          triangle_left marker\n",
            "    ``'>'``          triangle_right marker\n",
            "    ``'1'``          tri_down marker\n",
            "    ``'2'``          tri_up marker\n",
            "    ``'3'``          tri_left marker\n",
            "    ``'4'``          tri_right marker\n",
            "    ``'s'``          square marker\n",
            "    ``'p'``          pentagon marker\n",
            "    ``'*'``          star marker\n",
            "    ``'h'``          hexagon1 marker\n",
            "    ``'H'``          hexagon2 marker\n",
            "    ``'+'``          plus marker\n",
            "    ``'x'``          x marker\n",
            "    ``'D'``          diamond marker\n",
            "    ``'d'``          thin_diamond marker\n",
            "    ``'|'``          vline marker\n",
            "    ``'_'``          hline marker\n",
            "    =============    ===============================\n",
            "    \n",
            "    **Line Styles**\n",
            "    \n",
            "    =============    ===============================\n",
            "    character        description\n",
            "    =============    ===============================\n",
            "    ``'-'``          solid line style\n",
            "    ``'--'``         dashed line style\n",
            "    ``'-.'``         dash-dot line style\n",
            "    ``':'``          dotted line style\n",
            "    =============    ===============================\n",
            "    \n",
            "    Example format strings::\n",
            "    \n",
            "        'b'    # blue markers with default shape\n",
            "        'or'   # red circles\n",
            "        '-g'   # green solid line\n",
            "        '--'   # dashed line with default color\n",
            "        '^k:'  # black triangle_up markers connected by a dotted line\n",
            "    \n",
            "    **Colors**\n",
            "    \n",
            "    The supported color abbreviations are the single letter codes\n",
            "    \n",
            "    =============    ===============================\n",
            "    character        color\n",
            "    =============    ===============================\n",
            "    ``'b'``          blue\n",
            "    ``'g'``          green\n",
            "    ``'r'``          red\n",
            "    ``'c'``          cyan\n",
            "    ``'m'``          magenta\n",
            "    ``'y'``          yellow\n",
            "    ``'k'``          black\n",
            "    ``'w'``          white\n",
            "    =============    ===============================\n",
            "    \n",
            "    and the ``'CN'`` colors that index into the default property cycle.\n",
            "    \n",
            "    If the color is the only part of the format string, you can\n",
            "    additionally use any  `matplotlib.colors` spec, e.g. full names\n",
            "    (``'green'``) or hex strings (``'#008000'``).\n",
            "\n"
          ]
        }
      ],
      "source": [
        "help(plt.plot)"
      ]
    },
    {
      "cell_type": "code",
      "execution_count": null,
      "metadata": {
        "id": "alT9nL4eNPcJ"
      },
      "outputs": [],
      "source": [
        "def subtract(a=0, b=0):\n",
        "    return a - b\n",
        "\n",
        "subtract(10, 5) # returns 5\n",
        "subtract(0, 5)  # returns -5\n",
        "# subtract(b=5)   # same as previous\n",
        "# subtract(b=5, a=20)"
      ]
    },
    {
      "cell_type": "markdown",
      "metadata": {
        "id": "Ph7ezg66NPcK"
      },
      "source": [
        "### Strings\n",
        "\n",
        "- Strings can be delimited by single or double quotation marks"
      ]
    },
    {
      "cell_type": "code",
      "execution_count": null,
      "metadata": {
        "id": "JIplPI39NPcK"
      },
      "outputs": [],
      "source": [
        "single_quoted_string = 'data science'\n",
        "double_quoted_string = \"data science\""
      ]
    },
    {
      "cell_type": "code",
      "execution_count": null,
      "metadata": {
        "id": "LTF6RSkzNPcK"
      },
      "outputs": [],
      "source": [
        "tab_string = \"\\t\"   # represents the tab character\n",
        "len(tab_string)     # is 1"
      ]
    },
    {
      "cell_type": "markdown",
      "metadata": {
        "id": "7S6LMSN7NPcK"
      },
      "source": [
        "multiline strings using triple-double-quotes"
      ]
    },
    {
      "cell_type": "code",
      "execution_count": null,
      "metadata": {
        "id": "CfMXPjNuNPcL"
      },
      "outputs": [],
      "source": [
        "multi_line_string = \"\"\"This is the first line.\n",
        "and this is the second line\n",
        "and this is the third line\"\"\""
      ]
    },
    {
      "cell_type": "code",
      "execution_count": null,
      "metadata": {
        "id": "S8MJPiDmNPcL"
      },
      "outputs": [],
      "source": [
        "multi_line_string"
      ]
    },
    {
      "cell_type": "markdown",
      "metadata": {
        "id": "ttib5yGnNPcL"
      },
      "source": [
        "### Exceptions\n",
        "\n",
        "- When something goes wrong, Python raises an exception."
      ]
    },
    {
      "cell_type": "code",
      "execution_count": null,
      "metadata": {
        "id": "sE4M3LQ0NPcL"
      },
      "outputs": [],
      "source": [
        "try:\n",
        "    print(0 / 0)\n",
        "except ZeroDivisionError:\n",
        "    print(\"cannot divide by zero\")"
      ]
    },
    {
      "cell_type": "markdown",
      "metadata": {
        "id": "iK-uXTomNPcL"
      },
      "source": [
        "## Lists\n",
        "\n",
        "- the most fundamental data structure in Python"
      ]
    },
    {
      "cell_type": "code",
      "execution_count": null,
      "metadata": {
        "id": "Ap0fG7HPNPcL"
      },
      "outputs": [],
      "source": [
        "integer_list = [1, 2, 3]\n",
        "heterogeneous_list = [\"string\", 0.1, True]\n",
        "list_of_lists = [ integer_list, heterogeneous_list, [] ]\n",
        "\n",
        "list_length = len(integer_list)    # equals 3\n",
        "list_sum    = sum(integer_list)    # equals 6"
      ]
    },
    {
      "cell_type": "code",
      "execution_count": null,
      "metadata": {
        "id": "PhsWrh62sUC3",
        "outputId": "4122cbbf-09d5-4fdd-ff7d-4dd3ba01181f"
      },
      "outputs": [
        {
          "data": {
            "text/plain": [
              "bool"
            ]
          },
          "execution_count": 19,
          "metadata": {},
          "output_type": "execute_result"
        }
      ],
      "source": [
        "type(True)"
      ]
    },
    {
      "cell_type": "markdown",
      "metadata": {
        "id": "OE_OU80xNPcL"
      },
      "source": [
        "You can get or set the nth element of a list with square brackets"
      ]
    },
    {
      "cell_type": "code",
      "execution_count": null,
      "metadata": {
        "id": "ZcplBiQ3NPcM"
      },
      "outputs": [],
      "source": [
        "x = list(range(10))      # is the list [0, 1, ..., 9]\n",
        "# zero = x[0]        # equals 0, lists are 0-indexed\n",
        "# one = x[1]         # equals 1\n",
        "# nine = x[-1]       # equals 9, 'Pythonic' for last   element\n",
        "# eight = x[-2]      # equals 8, 'Pythonic' for next-to-last element\n",
        "# x[0] = -1          # now x is [-1, 1, 2, 3, ..., 9]"
      ]
    },
    {
      "cell_type": "code",
      "execution_count": null,
      "metadata": {
        "colab": {
          "base_uri": "https://localhost:8080/"
        },
        "id": "PtbXwebcsUC4",
        "outputId": "0eb760c4-9710-4aa7-826d-bcad7f1b3c43"
      },
      "outputs": [
        {
          "output_type": "execute_result",
          "data": {
            "text/plain": [
              "[0, 1, 2, 3, 4, 5, 6, 7, 8, 9]"
            ]
          },
          "metadata": {},
          "execution_count": 21
        }
      ],
      "source": [
        "x"
      ]
    },
    {
      "cell_type": "code",
      "execution_count": null,
      "metadata": {
        "id": "3ZBYcbsVsUC4",
        "outputId": "fde7e286-ea8b-463c-99c7-be5f66344111"
      },
      "outputs": [
        {
          "data": {
            "text/plain": [
              "[100, 1, 101, 3, 102, 5, 104, 7, 105, 9]"
            ]
          },
          "execution_count": 27,
          "metadata": {},
          "output_type": "execute_result"
        }
      ],
      "source": [
        "x[::2] = [100, 101, 102, 104, 105]\n",
        "x"
      ]
    },
    {
      "cell_type": "code",
      "execution_count": null,
      "metadata": {
        "id": "2HK6xf6WsUC5"
      },
      "outputs": [],
      "source": [
        "# rvalue: copy\n",
        "y = x[::2]"
      ]
    },
    {
      "cell_type": "code",
      "execution_count": null,
      "metadata": {
        "id": "vZ5Dp6TbsUC5"
      },
      "outputs": [],
      "source": [
        "y"
      ]
    },
    {
      "cell_type": "code",
      "execution_count": null,
      "metadata": {
        "scrolled": true,
        "id": "DXo2-juVsUC5"
      },
      "outputs": [],
      "source": [
        "# lvalue : indexing\n",
        "x[::2] = tuple(range(100,105))"
      ]
    },
    {
      "cell_type": "code",
      "execution_count": null,
      "metadata": {
        "scrolled": false,
        "id": "By3w6gP8sUC6"
      },
      "outputs": [],
      "source": [
        "for i in iter(range(10)):\n",
        "    print(i)"
      ]
    },
    {
      "cell_type": "code",
      "execution_count": null,
      "metadata": {
        "id": "BXLfzv2gsUC6"
      },
      "outputs": [],
      "source": [
        "y[0] = 100"
      ]
    },
    {
      "cell_type": "code",
      "execution_count": null,
      "metadata": {
        "id": "VH6Xhj2lsUC6"
      },
      "outputs": [],
      "source": [
        "y"
      ]
    },
    {
      "cell_type": "markdown",
      "metadata": {
        "id": "OCLkzFgwNPcM"
      },
      "source": [
        "You can also use square brackets to “slice” lists:"
      ]
    },
    {
      "cell_type": "code",
      "execution_count": null,
      "metadata": {
        "id": "IDZPskv5NPcM"
      },
      "outputs": [],
      "source": [
        "first_three = x[:3]               # [-1, 1, 2]\n",
        "three_to_end = x[3:]              # [3, 4, ..., 9]\n",
        "one_to_four = x[1:5]              # [1, 2, 3, 4]\n",
        "last_three = x[-3:]               # [7, 8, 9]\n",
        "without_first_and_last = x[1:-1]  # [1, 2, ..., 8]\n",
        "copy_of_x = x[:]                  # [-1, 1, 2, ..., 9]\n"
      ]
    },
    {
      "cell_type": "code",
      "execution_count": null,
      "metadata": {
        "id": "9hspAELWsUC8"
      },
      "outputs": [],
      "source": [
        "copy_of_x[0] = 99999"
      ]
    },
    {
      "cell_type": "code",
      "execution_count": null,
      "metadata": {
        "id": "WZBam0MasUC8"
      },
      "outputs": [],
      "source": [
        "copy_of_x\n"
      ]
    },
    {
      "cell_type": "code",
      "execution_count": null,
      "metadata": {
        "id": "NUySKtSdsUC8"
      },
      "outputs": [],
      "source": [
        "x.copy()"
      ]
    },
    {
      "cell_type": "code",
      "execution_count": null,
      "metadata": {
        "id": "wGfIuUg2NPcM"
      },
      "outputs": [],
      "source": [
        "print(x[::2])\n",
        "print(x[::-1])"
      ]
    },
    {
      "cell_type": "markdown",
      "metadata": {
        "id": "a-N-_ReeNPcM"
      },
      "source": [
        "**in** operator to check for list membership"
      ]
    },
    {
      "cell_type": "code",
      "execution_count": null,
      "metadata": {
        "id": "lqs3YhmUNPcM",
        "outputId": "dc3d6d78-eb6f-4269-e640-2856b98e676a"
      },
      "outputs": [
        {
          "data": {
            "text/plain": [
              "False"
            ]
          },
          "execution_count": 28,
          "metadata": {},
          "output_type": "execute_result"
        }
      ],
      "source": [
        "1 in [1, 2, 3]  # True\n",
        "0 in [1, 2, 3]  # False"
      ]
    },
    {
      "cell_type": "code",
      "execution_count": null,
      "metadata": {
        "id": "v4dzs2jbsUDA"
      },
      "outputs": [],
      "source": [
        "t = set(range(10000000))"
      ]
    },
    {
      "cell_type": "code",
      "execution_count": null,
      "metadata": {
        "id": "53LAntDmsUDB"
      },
      "outputs": [],
      "source": [
        "t = {i : i for i in range(1000000)}"
      ]
    },
    {
      "cell_type": "code",
      "execution_count": null,
      "metadata": {
        "id": "CWTSB2bnsUDC"
      },
      "outputs": [],
      "source": [
        "t = list(range(1000000))"
      ]
    },
    {
      "cell_type": "code",
      "execution_count": null,
      "metadata": {
        "colab": {
          "base_uri": "https://localhost:8080/"
        },
        "id": "6sziCrclsUDC",
        "outputId": "32a8b0c3-5212-4f67-a82c-d76e7e8b05d5"
      },
      "outputs": [
        {
          "output_type": "stream",
          "name": "stdout",
          "text": [
            "CPU times: user 14.7 ms, sys: 0 ns, total: 14.7 ms\n",
            "Wall time: 14.5 ms\n"
          ]
        },
        {
          "output_type": "execute_result",
          "data": {
            "text/plain": [
              "False"
            ]
          },
          "metadata": {},
          "execution_count": 54
        }
      ],
      "source": [
        "%%time\n",
        "9999999 in t"
      ]
    },
    {
      "cell_type": "markdown",
      "metadata": {
        "id": "suv7nkypNPcN"
      },
      "source": [
        "To concatenate lists together:"
      ]
    },
    {
      "cell_type": "code",
      "execution_count": null,
      "metadata": {
        "id": "fxX-YGLSsUDD"
      },
      "outputs": [],
      "source": [
        "x = [1, 2, 3]\n",
        "x.extend([4,5])\n",
        "x"
      ]
    },
    {
      "cell_type": "code",
      "execution_count": null,
      "metadata": {
        "id": "VBij1DCcNPcN"
      },
      "outputs": [],
      "source": [
        "x = [1, 2, 3]\n",
        "x.extend([4, 5, 6])  # x is now [1,2,3,4,5,6]"
      ]
    },
    {
      "cell_type": "code",
      "execution_count": null,
      "metadata": {
        "id": "l-MqaxRLsUDE"
      },
      "outputs": [],
      "source": [
        "x"
      ]
    },
    {
      "cell_type": "code",
      "execution_count": null,
      "metadata": {
        "id": "9Hw61vK2NPcN"
      },
      "outputs": [],
      "source": [
        "x = [1, 2, 3]\n",
        "y = x + [4, 5, 6]  # y is [1, 2, 3, 4, 5, 6]; x is unchanged"
      ]
    },
    {
      "cell_type": "code",
      "execution_count": null,
      "metadata": {
        "id": "wju8bnLFsUDF"
      },
      "outputs": [],
      "source": [
        "x"
      ]
    },
    {
      "cell_type": "markdown",
      "metadata": {
        "id": "ow7RQQwwNPcN"
      },
      "source": [
        "To append to lists one item at a time:"
      ]
    },
    {
      "cell_type": "code",
      "execution_count": null,
      "metadata": {
        "id": "pV72wXZzNPcN"
      },
      "outputs": [],
      "source": [
        "x = [1, 2, 3]\n",
        "x.append(0)  # x is now [1, 2, 3, 0]\n",
        "y = x[-1]    # equals 0\n",
        "z = len(x)   # equals 4\n"
      ]
    },
    {
      "cell_type": "code",
      "execution_count": null,
      "metadata": {
        "colab": {
          "base_uri": "https://localhost:8080/"
        },
        "id": "r90vuatpsUDG",
        "outputId": "58d0b702-11ad-4f4f-d1f7-552c60534190"
      },
      "outputs": [
        {
          "output_type": "execute_result",
          "data": {
            "text/plain": [
              "[0, 200, 1, 2, 3, 4, 5, 6, 7, 8, 9]"
            ]
          },
          "metadata": {},
          "execution_count": 55
        }
      ],
      "source": [
        "x.insert(1, 200)\n",
        "x"
      ]
    },
    {
      "cell_type": "markdown",
      "metadata": {
        "id": "zVJCAY8dNPcN"
      },
      "source": [
        "It is convenient to unpack lists:"
      ]
    },
    {
      "cell_type": "code",
      "execution_count": null,
      "metadata": {
        "id": "iYq1sg8ONPcN"
      },
      "outputs": [],
      "source": [
        "x, y = [1, 2]  # now x is 1, y is 2"
      ]
    },
    {
      "cell_type": "code",
      "execution_count": null,
      "metadata": {
        "id": "pXLDiPobNPcN"
      },
      "outputs": [],
      "source": [
        "_, y = [1, 2] # now y == 2, didn't care about the first element"
      ]
    },
    {
      "cell_type": "markdown",
      "metadata": {
        "id": "8GrvFITtNPcO"
      },
      "source": [
        "### Tuples\n",
        "\n",
        "- Tuples are lists’ **immutable** cousins."
      ]
    },
    {
      "cell_type": "code",
      "execution_count": null,
      "metadata": {
        "colab": {
          "base_uri": "https://localhost:8080/"
        },
        "id": "rF5DeLONsUDH",
        "outputId": "2ee5c3bb-5b65-4d8a-c14f-68fbf5e67b7f"
      },
      "outputs": [
        {
          "output_type": "execute_result",
          "data": {
            "text/plain": [
              "(1, 2, 3)"
            ]
          },
          "metadata": {},
          "execution_count": 57
        }
      ],
      "source": [
        "t = (1,2,3)\n",
        "# t[0]  = 100\n",
        "t"
      ]
    },
    {
      "cell_type": "code",
      "execution_count": null,
      "metadata": {
        "colab": {
          "base_uri": "https://localhost:8080/"
        },
        "id": "NLVs37JcsUDH",
        "outputId": "9fac0439-1ab7-423f-9778-75edc2858c8e"
      },
      "outputs": [
        {
          "output_type": "execute_result",
          "data": {
            "text/plain": [
              "tuple"
            ]
          },
          "metadata": {},
          "execution_count": 58
        }
      ],
      "source": [
        "t = 1,2\n",
        "type(t)"
      ]
    },
    {
      "cell_type": "code",
      "execution_count": null,
      "metadata": {
        "id": "i7hDyZFMNPcO"
      },
      "outputs": [],
      "source": [
        "my_list = [1, 2]\n",
        "my_tuple = (1, 2)\n",
        "other_tuple = 3, 4\n",
        "my_list[1] = 3   # my_list is now [1, 3]\n",
        "\n",
        "try:\n",
        "    my_tuple[1] = 3\n",
        "except TypeError:\n",
        "    print(\"cannot modify a tuple\")\n"
      ]
    },
    {
      "cell_type": "code",
      "execution_count": null,
      "metadata": {
        "id": "oRIj3UQ0sUDI"
      },
      "outputs": [],
      "source": [
        "t = (1, 2, 2, 5,)\n",
        "t\n",
        "len(t)"
      ]
    },
    {
      "cell_type": "code",
      "execution_count": null,
      "metadata": {
        "id": "APF0AeofsUDI"
      },
      "outputs": [],
      "source": [
        "x = 1\n",
        "y = 2\n",
        "x, y = y, x"
      ]
    },
    {
      "cell_type": "markdown",
      "metadata": {
        "id": "_jOP6m1QNPcO"
      },
      "source": [
        "Tuples are a convenient way to **return multiple values** from functions:"
      ]
    },
    {
      "cell_type": "code",
      "execution_count": null,
      "metadata": {
        "id": "suycNfx8NPcP"
      },
      "outputs": [],
      "source": [
        "def sum_and_product(x, y):\n",
        "    return (x + y),(x * y)\n",
        "\n",
        "sp = sum_and_product(2, 3)    # equals (5, 6)\n",
        "s, p = sum_and_product(5, 10) # s is 15, p is 50"
      ]
    },
    {
      "cell_type": "markdown",
      "metadata": {
        "id": "ZVv-IbXGNPcP"
      },
      "source": [
        "Tuples (and lists) can also be used for **multiple assignment**:"
      ]
    },
    {
      "cell_type": "code",
      "execution_count": null,
      "metadata": {
        "id": "FcwXFHiYNPcP"
      },
      "outputs": [],
      "source": [
        "x, y = 1, 2   # now x is 1, y is 2\n",
        "x, y = y, x   # Pythonic way to swap variables; now x is 2, y is 1\n"
      ]
    },
    {
      "cell_type": "markdown",
      "metadata": {
        "id": "LtqfCDtONPcQ"
      },
      "source": [
        "Python tuple\n",
        "\n",
        "https://wiki.python.org/moin/TupleSyntax\n",
        "\n",
        "Python tuple is defined by trailing comma, not by parenthesis\n",
        "1,\n",
        "1,2,\n",
        "1,2,3,\n",
        "parenthesis is optional"
      ]
    },
    {
      "cell_type": "markdown",
      "metadata": {
        "id": "yH8VwndJNPcQ"
      },
      "source": [
        "### Dictionaries\n",
        "\n",
        "- Another fundamental data structure which associates **values with keys**\n",
        "- It allows you to quickly retrieve the value corresponding to a given key:"
      ]
    },
    {
      "cell_type": "code",
      "execution_count": null,
      "metadata": {
        "id": "cm6dY2JZNPcQ"
      },
      "outputs": [],
      "source": [
        "empty_dict = {}                      # Pythonic\n",
        "empty_dict2 = dict()                 # less Pythonic\n",
        "grades = { \"Joel\" : 80, \"Tim\" : 95 } # dictionary literal"
      ]
    },
    {
      "cell_type": "code",
      "execution_count": null,
      "metadata": {
        "id": "m4Pgk9susUDK",
        "outputId": "f43b296b-933c-4e90-85b4-ba0784f83b15"
      },
      "outputs": [
        {
          "data": {
            "text/plain": [
              "dict_items([('Joel', 80), ('Tim', 95)])"
            ]
          },
          "execution_count": 16,
          "metadata": {},
          "output_type": "execute_result"
        }
      ],
      "source": [
        "grades.items()"
      ]
    },
    {
      "cell_type": "code",
      "execution_count": null,
      "metadata": {
        "colab": {
          "base_uri": "https://localhost:8080/"
        },
        "id": "cOZGqzKwsUDK",
        "outputId": "bb967f0a-37a3-4b98-ae03-40f96f7dcc11"
      },
      "outputs": [
        {
          "output_type": "stream",
          "name": "stdout",
          "text": [
            "Joel 80\n",
            "Tim 95\n"
          ]
        }
      ],
      "source": [
        "for k, v in grades.items():\n",
        "    print(k, v)"
      ]
    },
    {
      "cell_type": "code",
      "execution_count": null,
      "metadata": {
        "id": "U4_jD_sHsUDK",
        "outputId": "eae9dc69-92fa-42c5-8539-b5c66563d4f8"
      },
      "outputs": [
        {
          "data": {
            "text/plain": [
              "80"
            ]
          },
          "execution_count": 13,
          "metadata": {},
          "output_type": "execute_result"
        }
      ],
      "source": [
        "grades[\"Joel\"]"
      ]
    },
    {
      "cell_type": "markdown",
      "metadata": {
        "id": "lxJaoGydNPcQ"
      },
      "source": [
        "You can look up the value for a **key using square brackets**:"
      ]
    },
    {
      "cell_type": "code",
      "execution_count": null,
      "metadata": {
        "id": "DBMas9sENPcQ"
      },
      "outputs": [],
      "source": [
        "joels_grade = grades[\"Joel\"]         # equals 80"
      ]
    },
    {
      "cell_type": "code",
      "execution_count": null,
      "metadata": {
        "id": "2BN2uHeRNPcQ"
      },
      "outputs": [],
      "source": [
        "grades = { \"Joel\" : 80, \"Tim\" : 95, \"Tim\" : 94 } # dictionary literal\n",
        "grades"
      ]
    },
    {
      "cell_type": "code",
      "execution_count": null,
      "metadata": {
        "id": "d7iFZ1jFNPcR"
      },
      "outputs": [],
      "source": [
        "len(grades)"
      ]
    },
    {
      "cell_type": "code",
      "execution_count": null,
      "metadata": {
        "id": "3bUDzdDaNPcR"
      },
      "outputs": [],
      "source": [
        "grades.keys()"
      ]
    },
    {
      "cell_type": "code",
      "execution_count": null,
      "metadata": {
        "id": "-K4eBYzsNPcR"
      },
      "outputs": [],
      "source": [
        "grades.values()"
      ]
    },
    {
      "cell_type": "code",
      "execution_count": null,
      "metadata": {
        "id": "0cxSbf_hNPcR"
      },
      "outputs": [],
      "source": [
        "grades[\"Tim\"]"
      ]
    },
    {
      "cell_type": "markdown",
      "metadata": {
        "id": "2odDRXqcNPcS"
      },
      "source": [
        "**KeyError** if you ask for a key that’s not in the dictionary:"
      ]
    },
    {
      "cell_type": "code",
      "execution_count": null,
      "metadata": {
        "id": "4pZ17YtVNPcS",
        "outputId": "cd84234a-1e67-4a11-fbfb-292843a8858d"
      },
      "outputs": [
        {
          "name": "stdout",
          "output_type": "stream",
          "text": [
            "no grade for Kate!\n"
          ]
        }
      ],
      "source": [
        "try:\n",
        "    kates_grade = grades[\"Kate\"]\n",
        "except KeyError:\n",
        "    print(\"no grade for Kate!\")"
      ]
    },
    {
      "cell_type": "markdown",
      "metadata": {
        "id": "n3t6xXc5NPcS"
      },
      "source": [
        "You can **check for the existence of a key** using in :"
      ]
    },
    {
      "cell_type": "code",
      "execution_count": null,
      "metadata": {
        "id": "wX8pG-oBNPcS"
      },
      "outputs": [],
      "source": [
        "joel_has_grade = \"Joel\" in grades    # True\n",
        "kate_has_grade = \"Kate\" in grades    # False"
      ]
    },
    {
      "cell_type": "markdown",
      "metadata": {
        "id": "ggGnixIINPcS"
      },
      "source": [
        "Dictionaries have a get method that returns a default value (**instead of raising an\n",
        "exception**) when you look up a key that’s not in the dictionary:"
      ]
    },
    {
      "cell_type": "code",
      "execution_count": null,
      "metadata": {
        "id": "L7rSpQkeNPcT"
      },
      "outputs": [],
      "source": [
        "joels_grade = grades.get(\"Joel\", 0)    # equals 80\n",
        "kates_grade = grades.get(\"Kate\", 0)    # equals 0\n",
        "no_ones_grade = grades.get(\"No One\")   # default default is None\n",
        "no_ones_grade == None"
      ]
    },
    {
      "cell_type": "markdown",
      "metadata": {
        "id": "uJn2xcbxNPcT"
      },
      "source": [
        "You assign key-value pairs using the same square brackets:"
      ]
    },
    {
      "cell_type": "code",
      "execution_count": null,
      "metadata": {
        "id": "dc3KOLjpNPcT"
      },
      "outputs": [],
      "source": [
        "grades[\"Tim\"] = 99          # replaces the old value\n",
        "grades[\"Kate\"] = 100        # adds a third entry\n",
        "num_students = len(grades)  # equals 3"
      ]
    },
    {
      "cell_type": "markdown",
      "metadata": {
        "id": "1t392bZ-NPcT"
      },
      "source": [
        "We will frequently use dictionaries as a simple way to represent **structured data**:"
      ]
    },
    {
      "cell_type": "code",
      "execution_count": null,
      "metadata": {
        "id": "o-0PJpqFNPcT"
      },
      "outputs": [],
      "source": [
        "tweet = {\n",
        "    \"user\" : \"joelgrus\",\n",
        "    \"text\" : \"Data Science is Awesome\",\n",
        "    \"retweet_count\" : 100,\n",
        "    \"hashtags\" : [\"#data\", \"#science\", \"#datascience\", \"#awesome\", \"#yolo\"]\n",
        "}"
      ]
    },
    {
      "cell_type": "markdown",
      "metadata": {
        "id": "GpghenCsNPcT"
      },
      "source": [
        "**Iteration**: we can look at all of them"
      ]
    },
    {
      "cell_type": "code",
      "execution_count": null,
      "metadata": {
        "id": "1Od5mBF7NPcT"
      },
      "outputs": [],
      "source": [
        "tweet_keys   = tweet.keys()     # list of keys\n",
        "tweet_values = tweet.values()   # list of values\n",
        "tweet_items  = tweet.items()    # list of (key, value) tuples\n",
        "\n",
        "\"user\" in tweet_keys            # True, but uses a slow list in\n",
        "\"user\" in tweet                 # more Pythonic, uses faster dict in\n",
        "\n",
        "\"joelgrus\" in tweet_values      # True"
      ]
    },
    {
      "cell_type": "code",
      "execution_count": null,
      "metadata": {
        "id": "xCUJm80SNPcU"
      },
      "outputs": [],
      "source": [
        "tweet_values"
      ]
    },
    {
      "cell_type": "markdown",
      "metadata": {
        "id": "xnQiUlsuNPcU"
      },
      "source": [
        "**WordCount Example**: Create a dictionary in which the keys are words and the values are counts."
      ]
    },
    {
      "cell_type": "code",
      "execution_count": null,
      "metadata": {
        "id": "o-ZV9uCXNPcU"
      },
      "outputs": [],
      "source": [
        "document = ['I', 'am', 'a', 'boy', 'I', 'love', 'you']"
      ]
    },
    {
      "cell_type": "markdown",
      "metadata": {
        "id": "L_U_Vum1NPcU"
      },
      "source": [
        "**First Approach:**"
      ]
    },
    {
      "cell_type": "code",
      "execution_count": null,
      "metadata": {
        "id": "Itr6X15ANPcU"
      },
      "outputs": [],
      "source": [
        "word_counts = {}\n",
        "for word in document:\n",
        "    if word in word_counts:\n",
        "        word_counts[word] += 1\n",
        "    else:\n",
        "        word_counts[word] = 1"
      ]
    },
    {
      "cell_type": "code",
      "execution_count": null,
      "metadata": {
        "id": "r8exn_rQsUDV",
        "outputId": "abfc193e-b64c-4b71-8339-dbb8ad63d511"
      },
      "outputs": [
        {
          "data": {
            "text/plain": [
              "{'I': 2, 'am': 1, 'a': 1, 'boy': 1, 'love': 1, 'you': 1}"
            ]
          },
          "execution_count": 23,
          "metadata": {},
          "output_type": "execute_result"
        }
      ],
      "source": [
        "word_counts"
      ]
    },
    {
      "cell_type": "markdown",
      "metadata": {
        "id": "oGHV7Un7NPcU"
      },
      "source": [
        "**Second Approach:**"
      ]
    },
    {
      "cell_type": "code",
      "execution_count": null,
      "metadata": {
        "id": "qsLTG3mONPcU"
      },
      "outputs": [],
      "source": [
        "word_counts = {}\n",
        "for word in document:\n",
        "    try:\n",
        "        word_counts[word] += 1\n",
        "    except KeyError:\n",
        "        word_counts[word] = 1\n"
      ]
    },
    {
      "cell_type": "markdown",
      "metadata": {
        "id": "KtiDM-VcNPcV"
      },
      "source": [
        "**Third Approach:**"
      ]
    },
    {
      "cell_type": "code",
      "execution_count": null,
      "metadata": {
        "id": "_SntpAthNPcV"
      },
      "outputs": [],
      "source": [
        "word_counts = {}\n",
        "for word in document:\n",
        "    previous_count = word_counts.get(word, 0)\n",
        "    word_counts[word] = previous_count + 1\n",
        "\n",
        "word_counts"
      ]
    },
    {
      "cell_type": "code",
      "execution_count": null,
      "metadata": {
        "id": "gwfl8hKONPcV"
      },
      "outputs": [],
      "source": [
        "word_counts"
      ]
    },
    {
      "cell_type": "markdown",
      "metadata": {
        "id": "kh7O18ecNPcV"
      },
      "source": [
        "### defaultdict\n",
        "\n",
        "- A defaultdict is like a regular dictionary, except that when you try to look up a key it doesn’t contain, it first adds a value for it using a **zero-argument function** you provided when you created it."
      ]
    },
    {
      "cell_type": "code",
      "execution_count": null,
      "metadata": {
        "id": "WCR-hbVANPcY"
      },
      "outputs": [],
      "source": [
        "from collections import defaultdict\n",
        "\n",
        "word_counts = defaultdict(int)    # int() produces 0\n",
        "# word_counts = defaultdict(lambda: 100)    # returns 100\n",
        "for word in document:\n",
        "    word_counts[word] += 1\n",
        "\n",
        "print(word_counts)"
      ]
    },
    {
      "cell_type": "code",
      "execution_count": null,
      "metadata": {
        "id": "SZiCFKPJsUDX"
      },
      "outputs": [],
      "source": [
        "(lambda : 'abc')()"
      ]
    },
    {
      "cell_type": "code",
      "execution_count": null,
      "metadata": {
        "scrolled": false,
        "id": "5GOZEG6_sUDX"
      },
      "outputs": [],
      "source": [
        "import collections\n",
        "help(collections.defaultdict)"
      ]
    },
    {
      "cell_type": "code",
      "execution_count": null,
      "metadata": {
        "id": "rlnVHXI-sUDX",
        "outputId": "6c48f868-f7e3-4d25-8aed-22e862f90df0"
      },
      "outputs": [
        {
          "data": {
            "text/plain": [
              "''"
            ]
          },
          "execution_count": 35,
          "metadata": {},
          "output_type": "execute_result"
        }
      ],
      "source": [
        "str()"
      ]
    },
    {
      "cell_type": "code",
      "execution_count": null,
      "metadata": {
        "id": "c9Rr-WG4sUDY",
        "outputId": "1a72b105-0abf-4755-fd6e-d6c7553dfc9a"
      },
      "outputs": [
        {
          "data": {
            "text/plain": [
              "100"
            ]
          },
          "execution_count": 38,
          "metadata": {},
          "output_type": "execute_result"
        }
      ],
      "source": [
        "from collections import defaultdict\n",
        "\n",
        "t = defaultdict(lambda : 100)\n",
        "t[0]"
      ]
    },
    {
      "cell_type": "code",
      "execution_count": null,
      "metadata": {
        "id": "bD3D_Hi0sUDZ",
        "outputId": "989b5fd1-549c-4efd-d67a-a55ea26423c8"
      },
      "outputs": [
        {
          "data": {
            "text/plain": [
              "{}"
            ]
          },
          "execution_count": 43,
          "metadata": {},
          "output_type": "execute_result"
        }
      ],
      "source": [
        "dict()"
      ]
    },
    {
      "cell_type": "code",
      "execution_count": null,
      "metadata": {
        "id": "9kCaiAF2NPcY"
      },
      "outputs": [],
      "source": [
        "dd_list = defaultdict(list)          # list() produces an empty list\n",
        "dd_list[2].append(1)                 # now dd_list contains {2: [1]}\n",
        "\n",
        "dd_dict = defaultdict(dict)          # dict() produces an empty dict\n",
        "dd_dict[\"Joel\"][\"City\"] = \"Seattle\"  # { \"Joel\" : { \"City\" : Seattle\"}}\n",
        "\n",
        "dd_pair = defaultdict(lambda: [0, 0])\n",
        "dd_pair[2][1] = 1                    # now dd_pair contains {2: [0,1]}"
      ]
    },
    {
      "cell_type": "markdown",
      "metadata": {
        "id": "YtBS5X2_NPcZ"
      },
      "source": [
        "### Counter\n",
        "\n",
        "- A Counter turns a sequence of values into a defaultdict(int)-like object mapping keys to counts.\n",
        "- We will primarily use it to create **histograms**"
      ]
    },
    {
      "cell_type": "code",
      "execution_count": null,
      "metadata": {
        "id": "g4jsHeGKsUDZ"
      },
      "outputs": [],
      "source": [
        "import collections"
      ]
    },
    {
      "cell_type": "code",
      "execution_count": null,
      "metadata": {
        "id": "5rpabLdbsUDa",
        "outputId": "23b93ab9-36e5-41fe-ba3c-fce440a2813f"
      },
      "outputs": [
        {
          "data": {
            "text/plain": [
              "['ChainMap',\n",
              " 'Counter',\n",
              " 'OrderedDict',\n",
              " 'UserDict',\n",
              " 'UserList',\n",
              " 'UserString',\n",
              " '_Link',\n",
              " '_OrderedDictItemsView',\n",
              " '_OrderedDictKeysView',\n",
              " '_OrderedDictValuesView',\n",
              " '__all__',\n",
              " '__builtins__',\n",
              " '__cached__',\n",
              " '__doc__',\n",
              " '__file__',\n",
              " '__getattr__',\n",
              " '__loader__',\n",
              " '__name__',\n",
              " '__package__',\n",
              " '__path__',\n",
              " '__spec__',\n",
              " '_chain',\n",
              " '_collections_abc',\n",
              " '_count_elements',\n",
              " '_eq',\n",
              " '_heapq',\n",
              " '_iskeyword',\n",
              " '_itemgetter',\n",
              " '_nt_itemgetters',\n",
              " '_proxy',\n",
              " '_recursive_repr',\n",
              " '_repeat',\n",
              " '_starmap',\n",
              " '_sys',\n",
              " 'abc',\n",
              " 'defaultdict',\n",
              " 'deque',\n",
              " 'namedtuple']"
            ]
          },
          "execution_count": 26,
          "metadata": {},
          "output_type": "execute_result"
        }
      ],
      "source": [
        "dir(collections)"
      ]
    },
    {
      "cell_type": "code",
      "execution_count": null,
      "metadata": {
        "id": "d9kcrXxBNPcZ"
      },
      "outputs": [],
      "source": [
        "from collections import Counter\n",
        "c = Counter([0, 1, 2, 0, 0,0,0])  # c is (basically) { 0 : 2, 1 : 1, 2 : 1 }"
      ]
    },
    {
      "cell_type": "code",
      "execution_count": null,
      "metadata": {
        "id": "Blv_KbDmsUDa"
      },
      "outputs": [],
      "source": [
        "c.keys()"
      ]
    },
    {
      "cell_type": "code",
      "execution_count": null,
      "metadata": {
        "id": "UlZ15fvQsUDa",
        "outputId": "1f62ce42-6a17-4f3a-80e2-a44be56b0099"
      },
      "outputs": [
        {
          "data": {
            "text/plain": [
              "Counter({0: 5, 1: 1, 2: 1})"
            ]
          },
          "execution_count": 28,
          "metadata": {},
          "output_type": "execute_result"
        }
      ],
      "source": [
        "c"
      ]
    },
    {
      "cell_type": "code",
      "execution_count": null,
      "metadata": {
        "id": "VfC7S6mXsUDb",
        "outputId": "860f85be-8e82-4ea2-e40a-44d63dd3c20a"
      },
      "outputs": [
        {
          "data": {
            "text/plain": [
              "[(0, 5), (1, 1)]"
            ]
          },
          "execution_count": 30,
          "metadata": {},
          "output_type": "execute_result"
        }
      ],
      "source": [
        "c.most_common(2)"
      ]
    },
    {
      "cell_type": "code",
      "execution_count": null,
      "metadata": {
        "id": "PeIV85q3sUDb",
        "outputId": "481c6afd-6aa5-4f6e-cdd7-83e6f8a7708c"
      },
      "outputs": [
        {
          "data": {
            "text/plain": [
              "[(1, 1), (2, 1)]"
            ]
          },
          "execution_count": 32,
          "metadata": {},
          "output_type": "execute_result"
        }
      ],
      "source": [
        "c.most_common()[-2:]"
      ]
    },
    {
      "cell_type": "code",
      "execution_count": null,
      "metadata": {
        "id": "PMSKDpjQNPcZ"
      },
      "outputs": [],
      "source": [
        "word_counts = Counter(document)\n",
        "word_counts"
      ]
    },
    {
      "cell_type": "code",
      "execution_count": null,
      "metadata": {
        "id": "f2eBrUC-sUDb"
      },
      "outputs": [],
      "source": [
        "# least common\n",
        "word_counts.most_common()[-3:]"
      ]
    },
    {
      "cell_type": "code",
      "execution_count": null,
      "metadata": {
        "scrolled": false,
        "id": "V-8fd2S1sUDc"
      },
      "outputs": [],
      "source": [
        "help(Counter)"
      ]
    },
    {
      "cell_type": "markdown",
      "metadata": {
        "id": "nEOxlhcWNPcZ"
      },
      "source": [
        "Use **help** function to see a man page"
      ]
    },
    {
      "cell_type": "code",
      "execution_count": null,
      "metadata": {
        "colab": {
          "base_uri": "https://localhost:8080/"
        },
        "id": "3VhUAEZCsUDc",
        "outputId": "60c5d380-6be9-4136-b1a5-8eca6ab04f07"
      },
      "outputs": [
        {
          "output_type": "execute_result",
          "data": {
            "text/plain": [
              "Counter({'a': 1, 'b': 3, 'c': 2, 'd': 1})"
            ]
          },
          "metadata": {},
          "execution_count": 64
        }
      ],
      "source": [
        "Counter('abbbc') + Counter('bccd')\n",
        "Counter('abbbc') - Counter('bccd')\n",
        "Counter('abbbc') & Counter('bccd')\n",
        "Counter('abbbc') | Counter('bccd')"
      ]
    },
    {
      "cell_type": "code",
      "execution_count": null,
      "metadata": {
        "id": "HQuKSDJ-sUDd"
      },
      "outputs": [],
      "source": [
        "Counter('abbbbcccd')"
      ]
    },
    {
      "cell_type": "code",
      "execution_count": null,
      "metadata": {
        "id": "l4nurAwCsUDd"
      },
      "outputs": [],
      "source": [
        "Counter('abbbc') - Counter('bccd')"
      ]
    },
    {
      "cell_type": "code",
      "execution_count": null,
      "metadata": {
        "id": "a0qSR2BLsUDe"
      },
      "outputs": [],
      "source": [
        "Counter('abb')"
      ]
    },
    {
      "cell_type": "code",
      "execution_count": null,
      "metadata": {
        "id": "gEatq-XrsUDe"
      },
      "outputs": [],
      "source": [
        "Counter('abbbc')"
      ]
    },
    {
      "cell_type": "code",
      "execution_count": null,
      "metadata": {
        "id": "4qBroy0-sUDf"
      },
      "outputs": [],
      "source": [
        "Counter('bccd')"
      ]
    },
    {
      "cell_type": "code",
      "execution_count": null,
      "metadata": {
        "id": "SmNaLWqJsUDf"
      },
      "outputs": [],
      "source": [
        "Counter('abbbc') | Counter('bccd')"
      ]
    },
    {
      "cell_type": "code",
      "execution_count": null,
      "metadata": {
        "id": "vTILsWpUNPcZ"
      },
      "outputs": [],
      "source": [
        "# print the 10 most common words and their counts\n",
        "for word, count in word_counts.most_common(10):\n",
        "    print(word, count)"
      ]
    },
    {
      "cell_type": "markdown",
      "metadata": {
        "id": "oaRs8Rh-NPca"
      },
      "source": [
        "### Sets\n",
        "\n",
        "- Another data structure is **set**, which represents a collection of **distinct** elements:"
      ]
    },
    {
      "cell_type": "code",
      "execution_count": null,
      "metadata": {
        "id": "mnXQ4GNLsUDh"
      },
      "outputs": [],
      "source": [
        "type(set())"
      ]
    },
    {
      "cell_type": "code",
      "execution_count": null,
      "metadata": {
        "id": "wz-KsYYMsUDh"
      },
      "outputs": [],
      "source": [
        "{1,2,2,2,2}"
      ]
    },
    {
      "cell_type": "code",
      "execution_count": null,
      "metadata": {
        "id": "6qGz-LQUsUDi"
      },
      "outputs": [],
      "source": [
        "type({})"
      ]
    },
    {
      "cell_type": "code",
      "execution_count": null,
      "metadata": {
        "id": "gkybr1mCNPca"
      },
      "outputs": [],
      "source": [
        "s = set()\n",
        "s.add(1)      # s is now { 1 }\n",
        "s.add(2)      # s is now { 1, 2 }\n",
        "s.add(2)      # s is still { 1, 2 }\n",
        "x = len(s)    # equals 2\n",
        "y = 2 in s    # equals True\n",
        "z = 3 in s    # equals False"
      ]
    },
    {
      "cell_type": "markdown",
      "metadata": {
        "id": "Py-DZM95NPca"
      },
      "source": [
        "- For a membership test, a set is more appropriate than a list\n",
        "- **in** is a very fast operation on sets."
      ]
    },
    {
      "cell_type": "code",
      "execution_count": null,
      "metadata": {
        "id": "PivbSZqMNPca"
      },
      "outputs": [],
      "source": [
        "hundreds_of_other_words = []\n",
        "stopwords_list = [\"a\",\"an\",\"at\"] + hundreds_of_other_words + [\"yet\", \"you\"]\n",
        "\n",
        "\"zip\" in stopwords_list  # False, but have to check every element\n",
        "\n",
        "stopwords_set = set(stopwords_list)\n",
        "\"zip\" in stopwords_set  # very fast to check; use hashing to find a member"
      ]
    },
    {
      "cell_type": "code",
      "execution_count": null,
      "metadata": {
        "id": "DG8P8m_ssUDj"
      },
      "outputs": [],
      "source": [
        "a = set(range(10000000))\n",
        "b = list(range(10000000))"
      ]
    },
    {
      "cell_type": "code",
      "execution_count": null,
      "metadata": {
        "colab": {
          "base_uri": "https://localhost:8080/"
        },
        "id": "gnzIUyvusUDj",
        "outputId": "d2270d50-0e46-493b-8f73-d505dd9f69c1"
      },
      "outputs": [
        {
          "output_type": "stream",
          "name": "stdout",
          "text": [
            "43.5 ns ± 0.548 ns per loop (mean ± std. dev. of 7 runs, 10000000 loops each)\n"
          ]
        }
      ],
      "source": [
        "%timeit 9999999 in a"
      ]
    },
    {
      "cell_type": "code",
      "execution_count": null,
      "metadata": {
        "colab": {
          "base_uri": "https://localhost:8080/"
        },
        "id": "hO1bEEhvsUDj",
        "outputId": "90f83b0c-ed75-4002-a399-247bfd3798a1"
      },
      "outputs": [
        {
          "output_type": "stream",
          "name": "stdout",
          "text": [
            "CPU times: user 2 µs, sys: 0 ns, total: 2 µs\n",
            "Wall time: 6.91 µs\n"
          ]
        },
        {
          "output_type": "execute_result",
          "data": {
            "text/plain": [
              "True"
            ]
          },
          "metadata": {},
          "execution_count": 67
        }
      ],
      "source": [
        "%time\n",
        "\n",
        "9999999 in a"
      ]
    },
    {
      "cell_type": "code",
      "execution_count": null,
      "metadata": {
        "colab": {
          "base_uri": "https://localhost:8080/"
        },
        "id": "IkhLaYY7sUDk",
        "outputId": "b7d2e1dc-8107-4c43-ac8e-62a38566d664"
      },
      "outputs": [
        {
          "output_type": "stream",
          "name": "stdout",
          "text": [
            "147 ms ± 31.2 ms per loop (mean ± std. dev. of 7 runs, 10 loops each)\n"
          ]
        }
      ],
      "source": [
        "%timeit 9999999 in b"
      ]
    },
    {
      "cell_type": "code",
      "execution_count": null,
      "metadata": {
        "id": "9vUU0Mp9sUDk"
      },
      "outputs": [],
      "source": [
        "%timeit 1 in a"
      ]
    },
    {
      "cell_type": "code",
      "execution_count": null,
      "metadata": {
        "id": "_H4W8Q01sUDk"
      },
      "outputs": [],
      "source": [
        "%timeit 1 in b"
      ]
    },
    {
      "cell_type": "code",
      "execution_count": null,
      "metadata": {
        "id": "KAkEdnf8sUDk"
      },
      "outputs": [],
      "source": [
        "%time\n",
        "result = []\n",
        "for i in range(10000000):\n",
        "    result.append(i ** 2)"
      ]
    },
    {
      "cell_type": "code",
      "execution_count": null,
      "metadata": {
        "id": "Zrz8LhpesUDk",
        "outputId": "32ee74a4-4518-4807-8d41-cf64da33f7b9"
      },
      "outputs": [
        {
          "name": "stderr",
          "output_type": "stream",
          "text": [
            "[nltk_data] Downloading package stopwords to\n",
            "[nltk_data]     C:\\Users\\ksohn\\AppData\\Roaming\\nltk_data...\n",
            "[nltk_data]   Package stopwords is already up-to-date!\n"
          ]
        },
        {
          "data": {
            "text/plain": [
              "True"
            ]
          },
          "execution_count": 44,
          "metadata": {},
          "output_type": "execute_result"
        }
      ],
      "source": [
        "import nltk\n",
        "nltk.download('stopwords')"
      ]
    },
    {
      "cell_type": "code",
      "execution_count": null,
      "metadata": {
        "scrolled": true,
        "id": "beIIGlEzsUDl",
        "outputId": "de907e2d-79d2-4935-bd21-d29235a583b9"
      },
      "outputs": [
        {
          "name": "stdout",
          "output_type": "stream",
          "text": [
            "['i', 'me', 'my', 'myself', 'we', 'our', 'ours', 'ourselves', 'you', \"you're\", \"you've\", \"you'll\", \"you'd\", 'your', 'yours', 'yourself', 'yourselves', 'he', 'him', 'his', 'himself', 'she', \"she's\", 'her', 'hers', 'herself', 'it', \"it's\", 'its', 'itself', 'they', 'them', 'their', 'theirs', 'themselves', 'what', 'which', 'who', 'whom', 'this', 'that', \"that'll\", 'these', 'those', 'am', 'is', 'are', 'was', 'were', 'be', 'been', 'being', 'have', 'has', 'had', 'having', 'do', 'does', 'did', 'doing', 'a', 'an', 'the', 'and', 'but', 'if', 'or', 'because', 'as', 'until', 'while', 'of', 'at', 'by', 'for', 'with', 'about', 'against', 'between', 'into', 'through', 'during', 'before', 'after', 'above', 'below', 'to', 'from', 'up', 'down', 'in', 'out', 'on', 'off', 'over', 'under', 'again', 'further', 'then', 'once', 'here', 'there', 'when', 'where', 'why', 'how', 'all', 'any', 'both', 'each', 'few', 'more', 'most', 'other', 'some', 'such', 'no', 'nor', 'not', 'only', 'own', 'same', 'so', 'than', 'too', 'very', 's', 't', 'can', 'will', 'just', 'don', \"don't\", 'should', \"should've\", 'now', 'd', 'll', 'm', 'o', 're', 've', 'y', 'ain', 'aren', \"aren't\", 'couldn', \"couldn't\", 'didn', \"didn't\", 'doesn', \"doesn't\", 'hadn', \"hadn't\", 'hasn', \"hasn't\", 'haven', \"haven't\", 'isn', \"isn't\", 'ma', 'mightn', \"mightn't\", 'mustn', \"mustn't\", 'needn', \"needn't\", 'shan', \"shan't\", 'shouldn', \"shouldn't\", 'wasn', \"wasn't\", 'weren', \"weren't\", 'won', \"won't\", 'wouldn', \"wouldn't\"]\n"
          ]
        }
      ],
      "source": [
        "from nltk.corpus import stopwords\n",
        "\n",
        "print(stopwords.words('english'))"
      ]
    },
    {
      "cell_type": "code",
      "execution_count": null,
      "metadata": {
        "id": "CK9t82U3sUDl",
        "outputId": "8a6d2203-d2a7-4f0f-cac7-0f3583b27bfa"
      },
      "outputs": [
        {
          "name": "stderr",
          "output_type": "stream",
          "text": [
            "[nltk_data] Downloading package punkt to\n",
            "[nltk_data]     C:\\Users\\ksohn\\AppData\\Roaming\\nltk_data...\n",
            "[nltk_data]   Package punkt is already up-to-date!\n"
          ]
        },
        {
          "data": {
            "text/plain": [
              "True"
            ]
          },
          "execution_count": 46,
          "metadata": {},
          "output_type": "execute_result"
        }
      ],
      "source": [
        "import nltk\n",
        "nltk.download('punkt')"
      ]
    },
    {
      "cell_type": "code",
      "execution_count": null,
      "metadata": {
        "scrolled": false,
        "id": "Zv3gnFyksUDm",
        "outputId": "097389de-5db6-4274-b6c5-dc4f1cd2efaa"
      },
      "outputs": [
        {
          "name": "stdout",
          "output_type": "stream",
          "text": [
            "['The', 'Natural', 'Language', 'Toolkit', ',', 'or', 'more', 'commonly', 'NLTK', ',', 'is', 'a', 'suite', 'of', 'libraries', 'and', 'programs', 'for', 'symbolic', 'and', 'statistical', 'natural', 'language', 'processing', 'for', 'English', 'written', 'in', 'the', 'Python', 'programming'] \n",
            "\n",
            "['Natural', 'Language', 'Toolkit', ',', 'commonly', 'NLTK', ',', 'suite', 'libraries', 'programs', 'symbolic', 'statistical', 'natural', 'language', 'processing', 'English', 'written', 'Python', 'programming']\n"
          ]
        }
      ],
      "source": [
        "from nltk.corpus import stopwords\n",
        "from nltk.tokenize import word_tokenize\n",
        "\n",
        "example = \"\"\"The Natural Language Toolkit, or more commonly NLTK,\n",
        "is a suite of libraries and programs for symbolic and statistical\n",
        "natural language processing for English written in the Python programming\"\"\"\n",
        "\n",
        "stop_words = set(stopwords.words('english') + ['the'])\n",
        "word_tokens = word_tokenize(example)\n",
        "result = []\n",
        "\n",
        "for w in word_tokens:\n",
        "    if w.lower() not in stop_words:\n",
        "        result.append(w)\n",
        "\n",
        "print(word_tokens,'\\n')\n",
        "print(result)"
      ]
    },
    {
      "cell_type": "markdown",
      "metadata": {
        "id": "2hAS5733NPca"
      },
      "source": [
        "To find the **distinct** items in a collection:"
      ]
    },
    {
      "cell_type": "code",
      "execution_count": null,
      "metadata": {
        "id": "RmJZauq5NPca"
      },
      "outputs": [],
      "source": [
        "item_list = [1, 2, 3, 1, 2, 3]\n",
        "num_items = len(item_list)          # 6\n",
        "item_set = set(item_list)           # {1, 2, 3}\n",
        "num_distinct_items = len(item_set)  # 3\n",
        "distinct_item_list = list(item_set) # [1, 2, 3]"
      ]
    },
    {
      "cell_type": "code",
      "execution_count": null,
      "metadata": {
        "id": "cCLsQF6gsUDm"
      },
      "outputs": [],
      "source": [
        "{1,2,3}.intersection({2,3,4})"
      ]
    },
    {
      "cell_type": "code",
      "execution_count": null,
      "metadata": {
        "id": "qHWLlSIEsUDn"
      },
      "outputs": [],
      "source": [
        "print({1,2,3} & {2,3,4})\n",
        "print({1,2,3} - {2,3,4})\n",
        "print({1,2,3} | {2,3,4})\n",
        "print({1,2}.issubset({1,2,3,4}))"
      ]
    },
    {
      "cell_type": "code",
      "execution_count": null,
      "metadata": {
        "id": "KSobks5LsUDn"
      },
      "outputs": [],
      "source": [
        "print({1,2}.issuperset({1,2,3,4}))"
      ]
    },
    {
      "cell_type": "markdown",
      "metadata": {
        "id": "cVbTnvhSNPca"
      },
      "source": [
        "### Control Flow"
      ]
    },
    {
      "cell_type": "markdown",
      "metadata": {
        "id": "403VTPuuNPca"
      },
      "source": [
        "**if** statement:"
      ]
    },
    {
      "cell_type": "code",
      "execution_count": null,
      "metadata": {
        "id": "jnVlemmmNPcb"
      },
      "outputs": [],
      "source": [
        "if 1 > 2:\n",
        "    message = \"if only 1 were greater than two...\"\n",
        "elif 1 > 3:\n",
        "    message = \"elif stands for 'else if'\"\n",
        "else:\n",
        "    message = \"when all else fails use else (if you want to)\""
      ]
    },
    {
      "cell_type": "markdown",
      "metadata": {
        "id": "5ugv4puJNPcb"
      },
      "source": [
        "a **ternary** if-then-else on one line"
      ]
    },
    {
      "cell_type": "code",
      "execution_count": null,
      "metadata": {
        "id": "khVHZoagsUDp",
        "outputId": "bc0030d7-55db-4385-a447-a81f18c54751"
      },
      "outputs": [
        {
          "data": {
            "text/plain": [
              "10"
            ]
          },
          "execution_count": 49,
          "metadata": {},
          "output_type": "execute_result"
        }
      ],
      "source": [
        "abs(-10)"
      ]
    },
    {
      "cell_type": "code",
      "execution_count": null,
      "metadata": {
        "id": "ihynXA4NNPcb"
      },
      "outputs": [],
      "source": [
        "parity = \"even\" if x % 2 == 0 else \"odd\""
      ]
    },
    {
      "cell_type": "markdown",
      "metadata": {
        "id": "a16Jte3zNPcb"
      },
      "source": [
        "**while** statement:"
      ]
    },
    {
      "cell_type": "code",
      "execution_count": null,
      "metadata": {
        "id": "TKBXD-R5NPcb"
      },
      "outputs": [],
      "source": [
        "x = 0\n",
        "while x < 10:\n",
        "    print(x, \"is less than 10\")\n",
        "    x += 1"
      ]
    },
    {
      "cell_type": "markdown",
      "metadata": {
        "id": "THtsbNQxNPcb"
      },
      "source": [
        "**for** statement"
      ]
    },
    {
      "cell_type": "code",
      "execution_count": null,
      "metadata": {
        "id": "aWZ_KxXdNPcb"
      },
      "outputs": [],
      "source": [
        "for x in range(10):\n",
        "    print(x, \"is less than 10\")"
      ]
    },
    {
      "cell_type": "code",
      "execution_count": null,
      "metadata": {
        "id": "sm3FS4PgsUDr"
      },
      "outputs": [],
      "source": [
        "# DONT; Too slow. WHY?\n",
        "for x in list(range(10)):\n",
        "    print(x, \"is less than 10\")"
      ]
    },
    {
      "cell_type": "markdown",
      "metadata": {
        "id": "KDXzS5GpNPcc"
      },
      "source": [
        "continue and break statement:"
      ]
    },
    {
      "cell_type": "code",
      "execution_count": null,
      "metadata": {
        "id": "8g6mOXq7NPcc"
      },
      "outputs": [],
      "source": [
        "for x in range(10):\n",
        "    if x == 3:\n",
        "        continue   # go immediately to the next iteration\n",
        "    if x == 5:\n",
        "        break      # quit the loop entirely\n",
        "    print(x)"
      ]
    },
    {
      "cell_type": "markdown",
      "metadata": {
        "id": "LHrINHBiNPcc"
      },
      "source": [
        "### Truthiness"
      ]
    },
    {
      "cell_type": "code",
      "execution_count": null,
      "metadata": {
        "id": "sNG53UWiNPcc"
      },
      "outputs": [],
      "source": [
        "one_is_less_than_two = 1 < 2       # equals True\n",
        "true_equals_false = True == False  # equals False"
      ]
    },
    {
      "cell_type": "markdown",
      "metadata": {
        "id": "aZgtS54yNPcc"
      },
      "source": [
        "Python uses the value **None** to indicate a nonexistent value"
      ]
    },
    {
      "cell_type": "code",
      "execution_count": null,
      "metadata": {
        "id": "_1AyUq5mNPcc"
      },
      "outputs": [],
      "source": [
        "x = None\n",
        "print(x == None)   # prints True, but is not Pythonic\n",
        "print(x is None)   # prints True, and is Pythonic\n",
        "print(x is not None)   # prints True, and is Pythonic"
      ]
    },
    {
      "cell_type": "markdown",
      "metadata": {
        "id": "_xSRCorWNPcd"
      },
      "source": [
        "The following are all “Falsy”:\n",
        "\n",
        "```python\n",
        "False\n",
        "None\n",
        "[] : (an empty list)\n",
        "{} : (an empty dict)\n",
        "\"\"\n",
        "set()\n",
        "0\n",
        "0.0\n",
        "```"
      ]
    },
    {
      "cell_type": "code",
      "execution_count": null,
      "metadata": {
        "id": "eNmwFZE5NPcd"
      },
      "outputs": [],
      "source": [
        "s = 'abc'\n",
        "if s:\n",
        "    first_char = s[0]\n",
        "else:\n",
        "    first_char = \"\"\n"
      ]
    },
    {
      "cell_type": "code",
      "execution_count": null,
      "metadata": {
        "id": "ACNB_XNqNPcd"
      },
      "outputs": [],
      "source": [
        "first_char = s and s[0]   # A simpler way of doing the same"
      ]
    },
    {
      "cell_type": "code",
      "execution_count": null,
      "metadata": {
        "id": "_hvBvvozNPcd"
      },
      "outputs": [],
      "source": [
        "x = None\n",
        "safe_x = x or 0    # if x is either a number or possibly None\n",
        "safe_x"
      ]
    },
    {
      "cell_type": "markdown",
      "metadata": {
        "id": "KhZVQ_FiNPce"
      },
      "source": [
        "- Python has an **all** function, which takes a list and returns True precisely when every element is truthy, and\n",
        "- an **any** function, which returns True when at least one element is truthy:"
      ]
    },
    {
      "cell_type": "code",
      "execution_count": null,
      "metadata": {
        "id": "uZYBLaRDNPce"
      },
      "outputs": [],
      "source": [
        "all([True, 1, { 3 }])    # True\n",
        "all([True, 1, {}])       # False, {} is falsy\n",
        "any([True, 1, {}])       # True, True is truthy\n",
        "all([])                  # True, no falsy elements in the list\n",
        "any([])                  # False, no truthy elements in the list"
      ]
    },
    {
      "cell_type": "code",
      "execution_count": null,
      "metadata": {
        "id": "jrpBhAcONPce"
      },
      "outputs": [],
      "source": [
        "all([] + [True, True]) == all([]) and all([True, True])"
      ]
    },
    {
      "cell_type": "code",
      "execution_count": null,
      "metadata": {
        "id": "FEgqtqh9NPce"
      },
      "outputs": [],
      "source": [
        "any([] + [True, False]) == any([]) or any([True, False])"
      ]
    },
    {
      "cell_type": "markdown",
      "metadata": {
        "id": "UnIgA3-LNPce"
      },
      "source": [
        "## The Not-So-Basics"
      ]
    },
    {
      "cell_type": "markdown",
      "metadata": {
        "id": "3smq2jrBNPce"
      },
      "source": [
        "### Sorting"
      ]
    },
    {
      "cell_type": "code",
      "execution_count": null,
      "metadata": {
        "id": "8u9rcWL3NPcf"
      },
      "outputs": [],
      "source": [
        "x = [4,1,2,3]\n",
        "y = sorted(x)    # is [1,2,3,4], x is unchanged\n",
        "x.sort()         # now x is [1,2,3,4]"
      ]
    },
    {
      "cell_type": "code",
      "execution_count": null,
      "metadata": {
        "id": "YlXY6VGKNPcf"
      },
      "outputs": [],
      "source": [
        "# sort the list by absolute value from largest to smallest\n",
        "x = sorted([-4,1,-2,3], key=abs, reverse=True) # is [-4,3,-2,1]\n",
        "# sort the words and counts from highest count to lowest\n",
        "wc = sorted(word_counts.items(),\n",
        "            key=lambda x: x[1],\n",
        "            reverse=True)\n",
        "\n",
        "wc"
      ]
    },
    {
      "cell_type": "markdown",
      "metadata": {
        "id": "dSGHkt8ZNPcf"
      },
      "source": [
        "### List Comprehensions\n",
        "\n",
        "- you’ll want to transform a list into another list, by choosing only certain elements, or by transforming elements, or both. The Pythonic way of doing this is list comprehensions:\n",
        "- Always use list comprehension if possible."
      ]
    },
    {
      "cell_type": "code",
      "execution_count": null,
      "metadata": {
        "id": "1AcK5kqRNPcf"
      },
      "outputs": [],
      "source": [
        "even_numbers = [x for x in range(5) if x % 2 == 0]  # [0, 2, 4]\n",
        "squares      = [x * x for x in range(5)]            # [0, 1, 4, 9, 16]\n",
        "even_squares = [x * x for x in even_numbers]        # [0, 4, 16]"
      ]
    },
    {
      "cell_type": "code",
      "execution_count": null,
      "metadata": {
        "id": "tYoePTSAsUD_",
        "outputId": "2c3f9656-b9b8-46ce-ab4b-f7342375aa74"
      },
      "outputs": [
        {
          "data": {
            "text/plain": [
              "{0: 0, 1: 1, 2: 4, 3: 9, 4: 16, 5: 25, 6: 36, 7: 49, 8: 64, 9: 81}"
            ]
          },
          "execution_count": 54,
          "metadata": {},
          "output_type": "execute_result"
        }
      ],
      "source": [
        "{ x: x * x for x in range(10) }"
      ]
    },
    {
      "cell_type": "code",
      "execution_count": null,
      "metadata": {
        "id": "Zsfsyv1esUD_",
        "outputId": "d783ccc8-b527-42dc-e4b7-924252e5869c"
      },
      "outputs": [
        {
          "data": {
            "text/plain": [
              "generator"
            ]
          },
          "execution_count": 56,
          "metadata": {},
          "output_type": "execute_result"
        }
      ],
      "source": [
        "type(x * x for x in range(10))"
      ]
    },
    {
      "cell_type": "code",
      "execution_count": 1,
      "metadata": {
        "id": "Wh68S3iBsUEA",
        "colab": {
          "base_uri": "https://localhost:8080/"
        },
        "outputId": "22956602-db33-492b-c31c-e5614e43bff1"
      },
      "outputs": [
        {
          "output_type": "execute_result",
          "data": {
            "text/plain": [
              "generator"
            ]
          },
          "metadata": {},
          "execution_count": 1
        }
      ],
      "source": [
        "type(x for x in range(5) if x % 2 == 0)"
      ]
    },
    {
      "cell_type": "markdown",
      "metadata": {
        "id": "FULWisnENPcf"
      },
      "source": [
        "You can similarly turn lists into dictionaries or sets:"
      ]
    },
    {
      "cell_type": "code",
      "execution_count": null,
      "metadata": {
        "id": "oE1b4K42NPcf"
      },
      "outputs": [],
      "source": [
        "square_dict = { x : x * x for x in range(5) }  # { 0:0, 1:1, 2:4, 3:9, 4:16 }\n",
        "square_set = { x * x for x in [1, -1] }        # { 1 }"
      ]
    },
    {
      "cell_type": "markdown",
      "metadata": {
        "id": "9XB_gtOfNPcf"
      },
      "source": [
        "- It’s conventional to use an underscore as the variable:"
      ]
    },
    {
      "cell_type": "code",
      "execution_count": null,
      "metadata": {
        "id": "9oALbTWwNPcg"
      },
      "outputs": [],
      "source": [
        "zeroes = [0 for _ in even_numbers]    # has the same length as even_numbers"
      ]
    },
    {
      "cell_type": "markdown",
      "metadata": {
        "id": "9jZW3-smNPcg"
      },
      "source": [
        "A list comprehension can include multiple **for**s:"
      ]
    },
    {
      "cell_type": "code",
      "execution_count": null,
      "metadata": {
        "id": "W_WLtnx8NPcg"
      },
      "outputs": [],
      "source": [
        "pairs = [(x, y)\n",
        "         for x in range(10)\n",
        "         for y in range(10)] # 100 pairs (0,0) (0,1) ... (9,8), (9,9)"
      ]
    },
    {
      "cell_type": "markdown",
      "metadata": {
        "id": "GXao1yg6NPcg"
      },
      "source": [
        "Easy to compute distance matrix"
      ]
    },
    {
      "cell_type": "markdown",
      "metadata": {
        "id": "u_xKsDQBNPcg"
      },
      "source": [
        "later **for**s can use the results of earlier ones:"
      ]
    },
    {
      "cell_type": "code",
      "execution_count": null,
      "metadata": {
        "id": "pH5NO5kgNPcg"
      },
      "outputs": [],
      "source": [
        "increasing_pairs = [(x, y)\n",
        "                    for x in range(3)\n",
        "                    for y in range(x + 1, 3)]"
      ]
    },
    {
      "cell_type": "code",
      "execution_count": null,
      "metadata": {
        "id": "K1MCvkJHsUEC"
      },
      "outputs": [],
      "source": [
        "increasing_pairs"
      ]
    },
    {
      "cell_type": "code",
      "execution_count": null,
      "metadata": {
        "id": "PMtCzbbosUEC"
      },
      "outputs": [],
      "source": [
        "type((x, y)                    for x in range(10)                    for y in range(x + 1, 10))"
      ]
    },
    {
      "cell_type": "code",
      "execution_count": null,
      "metadata": {
        "id": "PStjuanYsUEC"
      },
      "outputs": [],
      "source": [
        "# () makes generator\n",
        "t = x for x in range(3)"
      ]
    },
    {
      "cell_type": "code",
      "execution_count": null,
      "metadata": {
        "id": "hT0pI4MgsUED"
      },
      "outputs": [],
      "source": [
        "# () makes generator\n",
        "t = (x for x in range(3))"
      ]
    },
    {
      "cell_type": "code",
      "execution_count": null,
      "metadata": {
        "id": "eq4wQxvUsUED"
      },
      "outputs": [],
      "source": [
        "next(t)\n",
        "next(t)\n",
        "next(t)\n",
        "# next(t)"
      ]
    },
    {
      "cell_type": "markdown",
      "metadata": {
        "id": "y-SqowIFNPcg"
      },
      "source": [
        "### Generators and Iterators\n",
        "\n",
        "- A problem with lists is that they can easily grow very big. range(1000000) creates an actual list of 1 million elements. If you only need to deal with them one at a time, this can be a huge source of inefficiency (or of running out of memory). If you potentially only need the **first few** values, then calculating them all is a waste.\n",
        "- A generator is something that you can iterate over (for us, usually using for ) but whose values are produced only as needed (lazily).\n",
        "- One way to create generators is with functions and the **yield** operator:"
      ]
    },
    {
      "cell_type": "code",
      "execution_count": 5,
      "metadata": {
        "id": "kJZUDFJ-NPch"
      },
      "outputs": [],
      "source": [
        "def lazy_range(n):\n",
        "    \"\"\"a lazy version of range\"\"\"\n",
        "    i = 0\n",
        "    while i < n:\n",
        "        yield i\n",
        "        i += 1"
      ]
    },
    {
      "cell_type": "code",
      "execution_count": 6,
      "metadata": {
        "id": "ezYMkmKLsUED"
      },
      "outputs": [],
      "source": [
        "t = lazy_range(10000000000000)"
      ]
    },
    {
      "cell_type": "code",
      "source": [
        "next(t)"
      ],
      "metadata": {
        "colab": {
          "base_uri": "https://localhost:8080/"
        },
        "id": "pwpmBgztD4mz",
        "outputId": "811ea842-d0b4-4dce-f431-048cea163cf9"
      },
      "execution_count": 23,
      "outputs": [
        {
          "output_type": "execute_result",
          "data": {
            "text/plain": [
              "16"
            ]
          },
          "metadata": {},
          "execution_count": 23
        }
      ]
    },
    {
      "cell_type": "code",
      "execution_count": 24,
      "metadata": {
        "id": "0uD_SWojsUEE",
        "colab": {
          "base_uri": "https://localhost:8080/",
          "height": 280
        },
        "outputId": "046dbda7-d1be-4295-fd15-429840c3ceb5"
      },
      "outputs": [
        {
          "output_type": "error",
          "ename": "KeyboardInterrupt",
          "evalue": "",
          "traceback": [
            "\u001b[0;31m---------------------------------------------------------------------------\u001b[0m",
            "\u001b[0;31mKeyboardInterrupt\u001b[0m                         Traceback (most recent call last)",
            "\u001b[0;32m<ipython-input-24-da10cdbb2773>\u001b[0m in \u001b[0;36m<cell line: 0>\u001b[0;34m()\u001b[0m\n\u001b[0;32m----> 1\u001b[0;31m \u001b[0mlist\u001b[0m\u001b[0;34m(\u001b[0m\u001b[0mt\u001b[0m\u001b[0;34m)\u001b[0m\u001b[0;34m\u001b[0m\u001b[0;34m\u001b[0m\u001b[0m\n\u001b[0m",
            "\u001b[0;32m<ipython-input-5-2019855cc692>\u001b[0m in \u001b[0;36mlazy_range\u001b[0;34m(n)\u001b[0m\n\u001b[1;32m      2\u001b[0m     \u001b[0;34m\"\"\"a lazy version of range\"\"\"\u001b[0m\u001b[0;34m\u001b[0m\u001b[0;34m\u001b[0m\u001b[0m\n\u001b[1;32m      3\u001b[0m     \u001b[0mi\u001b[0m \u001b[0;34m=\u001b[0m \u001b[0;36m0\u001b[0m\u001b[0;34m\u001b[0m\u001b[0;34m\u001b[0m\u001b[0m\n\u001b[0;32m----> 4\u001b[0;31m     \u001b[0;32mwhile\u001b[0m \u001b[0mi\u001b[0m \u001b[0;34m<\u001b[0m \u001b[0mn\u001b[0m\u001b[0;34m:\u001b[0m\u001b[0;34m\u001b[0m\u001b[0;34m\u001b[0m\u001b[0m\n\u001b[0m\u001b[1;32m      5\u001b[0m         \u001b[0;32myield\u001b[0m \u001b[0mi\u001b[0m\u001b[0;34m\u001b[0m\u001b[0;34m\u001b[0m\u001b[0m\n\u001b[1;32m      6\u001b[0m         \u001b[0mi\u001b[0m \u001b[0;34m+=\u001b[0m \u001b[0;36m1\u001b[0m\u001b[0;34m\u001b[0m\u001b[0;34m\u001b[0m\u001b[0m\n",
            "\u001b[0;31mKeyboardInterrupt\u001b[0m: "
          ]
        }
      ],
      "source": [
        "list(t)"
      ]
    },
    {
      "cell_type": "code",
      "execution_count": null,
      "metadata": {
        "id": "u4FTnFPTsUEE"
      },
      "outputs": [],
      "source": [
        "next(t)"
      ]
    },
    {
      "cell_type": "code",
      "execution_count": null,
      "metadata": {
        "id": "P87JDNfVNPch"
      },
      "outputs": [],
      "source": [
        "# The following loop will consume the yield ed values one at a time until none are left:\n",
        "for i in lazy_range(10):\n",
        "    print(i)"
      ]
    },
    {
      "cell_type": "code",
      "execution_count": 4,
      "metadata": {
        "id": "q_RFBdLDNPch",
        "colab": {
          "base_uri": "https://localhost:8080/",
          "height": 130
        },
        "outputId": "980192da-2da2-4237-b3b1-46326d50ebd4"
      },
      "outputs": [
        {
          "output_type": "error",
          "ename": "KeyboardInterrupt",
          "evalue": "",
          "traceback": [
            "\u001b[0;31m---------------------------------------------------------------------------\u001b[0m",
            "\u001b[0;31mKeyboardInterrupt\u001b[0m                         Traceback (most recent call last)",
            "\u001b[0;32m<timed exec>\u001b[0m in \u001b[0;36m<module>\u001b[0;34m\u001b[0m\n",
            "\u001b[0;31mKeyboardInterrupt\u001b[0m: "
          ]
        }
      ],
      "source": [
        "%%time\n",
        "\n",
        "# The following loop will consume the yield ed values one at a time until none are left:\n",
        "for i in lazy_range(1000000000):\n",
        "    if i == 10000000000: break\n",
        "    pass"
      ]
    },
    {
      "cell_type": "code",
      "execution_count": null,
      "metadata": {
        "id": "6c2_ITc5sUEF"
      },
      "outputs": [],
      "source": [
        "%%time\n",
        "\n",
        "# The following loop will consume the yield ed values one at a time until none are left:\n",
        "for i in list(lazy_range(100000000)):\n",
        "    if i == 3: break\n",
        "    print(i)"
      ]
    },
    {
      "cell_type": "code",
      "execution_count": 26,
      "metadata": {
        "id": "Tp6fnlFqNPch",
        "colab": {
          "base_uri": "https://localhost:8080/"
        },
        "outputId": "7c6f39e0-d3ff-449a-b8fb-e8bc9f10369f"
      },
      "outputs": [
        {
          "output_type": "execute_result",
          "data": {
            "text/plain": [
              "2"
            ]
          },
          "metadata": {},
          "execution_count": 26
        }
      ],
      "source": [
        "t = lazy_range(3)\n",
        "next(t)\n",
        "next(t)\n",
        "next(t)\n",
        "# next(t)"
      ]
    },
    {
      "cell_type": "code",
      "execution_count": null,
      "metadata": {
        "id": "OhHUAdIBNPch"
      },
      "outputs": [],
      "source": [
        "def lazy_inf_range():\n",
        "    i = 0\n",
        "    while True:\n",
        "        yield i\n",
        "        i += 1\n",
        "\n",
        "t = lazy_inf_range()\n",
        "next(t)\n",
        "next(t)\n",
        "next(t)"
      ]
    },
    {
      "cell_type": "code",
      "execution_count": null,
      "metadata": {
        "id": "8Z0HuO5ysUEF"
      },
      "outputs": [],
      "source": [
        "# DONT; consumes infinite memory\n",
        "list(lazy_inf_range())"
      ]
    },
    {
      "cell_type": "markdown",
      "metadata": {
        "id": "HgXeJkF6NPch"
      },
      "source": [
        "A second way to create generators is by using for comprehensions wrapped in parentheses:"
      ]
    },
    {
      "cell_type": "code",
      "execution_count": null,
      "metadata": {
        "id": "GLvAX97-sUEG"
      },
      "outputs": [],
      "source": [
        "(i for i in lazy_range(20) if i % 2 == 0)"
      ]
    },
    {
      "cell_type": "code",
      "execution_count": null,
      "metadata": {
        "id": "Zz9adGIzNPci"
      },
      "outputs": [],
      "source": [
        "lazy_evens_below_20 = (i for i in lazy_range(20) if i % 2 == 0)"
      ]
    },
    {
      "cell_type": "code",
      "execution_count": null,
      "metadata": {
        "id": "uZ_YjUGNNPci"
      },
      "outputs": [],
      "source": [
        "next(lazy_evens_below_20)"
      ]
    },
    {
      "cell_type": "markdown",
      "metadata": {
        "id": "ao1DG4glsUEH"
      },
      "source": [
        "### Iterator Example"
      ]
    },
    {
      "cell_type": "code",
      "execution_count": null,
      "metadata": {
        "id": "Kpq46qPjsUEH"
      },
      "outputs": [],
      "source": [
        "# class Inc(collections.Iterator):\n",
        "class Inc:\n",
        "    def __init__(self, stop):\n",
        "        self.x = 0\n",
        "        self.stop = stop\n",
        "\n",
        "    def __iter__(self):\n",
        "        return self\n",
        "\n",
        "    def __next__(self):\n",
        "        if self.x < self.stop:\n",
        "            self.x += 1\n",
        "            return self.x\n",
        "        else:\n",
        "            # Iterators must raise when done, else considered broken\n",
        "            raise StopIteration"
      ]
    },
    {
      "cell_type": "code",
      "execution_count": null,
      "metadata": {
        "id": "JwL5cALxsUEH"
      },
      "outputs": [],
      "source": [
        "y = Inc(3)"
      ]
    },
    {
      "cell_type": "code",
      "execution_count": null,
      "metadata": {
        "id": "HRTsReX6sUEH"
      },
      "outputs": [],
      "source": [
        "next(y), next(y), next(y)\n",
        "# next(y)"
      ]
    },
    {
      "cell_type": "code",
      "execution_count": null,
      "metadata": {
        "id": "ZiakEsumsUEI"
      },
      "outputs": [],
      "source": [
        "next(y)"
      ]
    },
    {
      "cell_type": "markdown",
      "metadata": {
        "id": "rSlYfqYNNPci"
      },
      "source": [
        "### Randomness\n",
        "\n",
        "- To generate random numbers, we can do with the random module\n",
        "- random.random() produces numbers uniformly between 0 and 1"
      ]
    },
    {
      "cell_type": "code",
      "execution_count": 27,
      "metadata": {
        "id": "W_iZr45lNPci",
        "colab": {
          "base_uri": "https://localhost:8080/"
        },
        "outputId": "8c047971-5d4b-4e88-d1cc-2122d905457f"
      },
      "outputs": [
        {
          "output_type": "execute_result",
          "data": {
            "text/plain": [
              "[0.8444218515250481,\n",
              " 0.7579544029403025,\n",
              " 0.420571580830845,\n",
              " 0.25891675029296335]"
            ]
          },
          "metadata": {},
          "execution_count": 27
        }
      ],
      "source": [
        "import random\n",
        "\n",
        "random.seed(0)\n",
        "four_uniform_randoms = [random.random() for _ in range(4)]\n",
        "four_uniform_randoms"
      ]
    },
    {
      "cell_type": "markdown",
      "metadata": {
        "id": "DvBP5x5sNPci"
      },
      "source": [
        "if you want to get reproducible results:"
      ]
    },
    {
      "cell_type": "code",
      "execution_count": 28,
      "metadata": {
        "id": "x4XcchxTNPci",
        "colab": {
          "base_uri": "https://localhost:8080/"
        },
        "outputId": "3c05351d-5987-4b5b-cd32-dd3baed39568"
      },
      "outputs": [
        {
          "output_type": "stream",
          "name": "stdout",
          "text": [
            "0.5714025946899135\n",
            "0.5714025946899135\n"
          ]
        }
      ],
      "source": [
        "random.seed(10)\n",
        "print(random.random())\n",
        "random.seed(10)\n",
        "print(random.random())"
      ]
    },
    {
      "cell_type": "markdown",
      "metadata": {
        "id": "Pun-OK2hNPci"
      },
      "source": [
        "random.randrange takes either 1 or 2 arguments and returns\n",
        "an element chosen randomly from the corresponding range()"
      ]
    },
    {
      "cell_type": "code",
      "execution_count": null,
      "metadata": {
        "id": "PrXEHwIZNPcj"
      },
      "outputs": [],
      "source": [
        "random.randrange(10)      # choose randomly from range(10) = [0, 1, ..., 9]\n",
        "random.randrange(3, 6)    # choose randomly from range(3, 6) = [3, 4, 5]"
      ]
    },
    {
      "cell_type": "code",
      "source": [
        "random.randrange(6) + 1"
      ],
      "metadata": {
        "colab": {
          "base_uri": "https://localhost:8080/"
        },
        "id": "MN0469yHFuW9",
        "outputId": "1e810d58-3e75-40f8-963d-cbcf0f46f775"
      },
      "execution_count": 43,
      "outputs": [
        {
          "output_type": "execute_result",
          "data": {
            "text/plain": [
              "1"
            ]
          },
          "metadata": {},
          "execution_count": 43
        }
      ]
    },
    {
      "cell_type": "markdown",
      "metadata": {
        "id": "o3tp7t23NPcj"
      },
      "source": [
        "random.shuffle randomly reorders the elements of a list:"
      ]
    },
    {
      "cell_type": "code",
      "execution_count": 58,
      "metadata": {
        "id": "Quyht_hrNPcj",
        "colab": {
          "base_uri": "https://localhost:8080/"
        },
        "outputId": "b6a64af5-e01b-4bbf-ac34-52247f2eaf90"
      },
      "outputs": [
        {
          "output_type": "stream",
          "name": "stdout",
          "text": [
            "[2, 8, 6, 3, 4, 9, 7, 1, 5, 0]\n"
          ]
        }
      ],
      "source": [
        "up_to_ten = list(range(10))\n",
        "random.shuffle(up_to_ten)\n",
        "print(up_to_ten)"
      ]
    },
    {
      "cell_type": "markdown",
      "metadata": {
        "id": "JxU_cqcnNPcj"
      },
      "source": [
        "To randomly pick one element from a list:"
      ]
    },
    {
      "cell_type": "code",
      "execution_count": null,
      "metadata": {
        "id": "kZfDmkKlNPcj"
      },
      "outputs": [],
      "source": [
        "my_best_friend = random.choice([\"Alice\", \"Bob\", \"Charlie\"])"
      ]
    },
    {
      "cell_type": "markdown",
      "metadata": {
        "id": "AfvjP_-jNPcj"
      },
      "source": [
        "To randomly choose a sample of elements without replacement (i.e., with\n",
        "no duplicates)"
      ]
    },
    {
      "cell_type": "code",
      "execution_count": null,
      "metadata": {
        "id": "kDS7Y9JLNPcj"
      },
      "outputs": [],
      "source": [
        "lottery_numbers = range(60)\n",
        "winning_numbers = random.sample(lottery_numbers, 6)"
      ]
    },
    {
      "source": [
        "lottery_numbers = [i + 1 for i in range(45)]\n",
        "winning_numbers = random.sample(lottery_numbers, 6) # lottery_number was corrected to lottery_numbers"
      ],
      "cell_type": "code",
      "metadata": {
        "id": "m1YOlW0YMF0T"
      },
      "execution_count": 79,
      "outputs": []
    },
    {
      "cell_type": "code",
      "execution_count": 80,
      "metadata": {
        "id": "wMlPh_e4sUEK",
        "colab": {
          "base_uri": "https://localhost:8080/"
        },
        "outputId": "0f45eecc-c36d-4fe3-afb8-990b69606c67"
      },
      "outputs": [
        {
          "output_type": "execute_result",
          "data": {
            "text/plain": [
              "[5, 28, 6, 4, 23, 17]"
            ]
          },
          "metadata": {},
          "execution_count": 80
        }
      ],
      "source": [
        "winning_numbers"
      ]
    },
    {
      "cell_type": "code",
      "execution_count": 71,
      "metadata": {
        "id": "nw7pa66hsUEK",
        "colab": {
          "base_uri": "https://localhost:8080/"
        },
        "outputId": "1d2080e8-a4db-4ec2-9d99-3019a888c950"
      },
      "outputs": [
        {
          "output_type": "stream",
          "name": "stdout",
          "text": [
            "Help on method sample in module random:\n",
            "\n",
            "sample(population, k, *, counts=None) method of random.Random instance\n",
            "    Chooses k unique random elements from a population sequence.\n",
            "    \n",
            "    Returns a new list containing elements from the population while\n",
            "    leaving the original population unchanged.  The resulting list is\n",
            "    in selection order so that all sub-slices will also be valid random\n",
            "    samples.  This allows raffle winners (the sample) to be partitioned\n",
            "    into grand prize and second place winners (the subslices).\n",
            "    \n",
            "    Members of the population need not be hashable or unique.  If the\n",
            "    population contains repeats, then each occurrence is a possible\n",
            "    selection in the sample.\n",
            "    \n",
            "    Repeated elements can be specified one at a time or with the optional\n",
            "    counts parameter.  For example:\n",
            "    \n",
            "        sample(['red', 'blue'], counts=[4, 2], k=5)\n",
            "    \n",
            "    is equivalent to:\n",
            "    \n",
            "        sample(['red', 'red', 'red', 'red', 'blue', 'blue'], k=5)\n",
            "    \n",
            "    To choose a sample from a range of integers, use range() for the\n",
            "    population argument.  This is especially fast and space efficient\n",
            "    for sampling from a large population:\n",
            "    \n",
            "        sample(range(10000000), 60)\n",
            "\n"
          ]
        }
      ],
      "source": [
        "help(random.sample)"
      ]
    },
    {
      "cell_type": "markdown",
      "metadata": {
        "id": "XONK4X-FNPck"
      },
      "source": [
        "To choose a sample of elements with replacement (i.e., allowing duplicates)"
      ]
    },
    {
      "cell_type": "code",
      "execution_count": 72,
      "metadata": {
        "id": "rjQqztVXNPck",
        "colab": {
          "base_uri": "https://localhost:8080/"
        },
        "outputId": "5006e7f3-217d-46bb-921d-46ae9b52c9fb"
      },
      "outputs": [
        {
          "output_type": "execute_result",
          "data": {
            "text/plain": [
              "[3, 5, 2, 1]"
            ]
          },
          "metadata": {},
          "execution_count": 72
        }
      ],
      "source": [
        "four_with_replacement = [random.choice(range(10)) for _ in range(4)]\n",
        "four_with_replacement"
      ]
    },
    {
      "cell_type": "code",
      "source": [
        "lotto_645 = [random.choice(range(45)) for _ in range(6)]\n",
        "lotto_645"
      ],
      "metadata": {
        "colab": {
          "base_uri": "https://localhost:8080/"
        },
        "id": "V4ESt2RRJpfO",
        "outputId": "e93118cf-d400-4c2d-cb0a-a3ac6c7cc202"
      },
      "execution_count": 74,
      "outputs": [
        {
          "output_type": "execute_result",
          "data": {
            "text/plain": [
              "[19, 29, 44, 33, 27, 28]"
            ]
          },
          "metadata": {},
          "execution_count": 74
        }
      ]
    },
    {
      "cell_type": "code",
      "source": [
        "# prompt: randomly select 6 interger number between 1 and  45 inclusive\n",
        "\n",
        "import random\n",
        "\n",
        "def select_lotto_numbers():\n",
        "  \"\"\"Randomly selects 6 integers between 1 and 45 (inclusive).\"\"\"\n",
        "  lottery_numbers = [i + 1 for i in range(45)]\n",
        "  winning_numbers = random.sample(lottery_numbers, 6)\n",
        "  return winning_numbers\n",
        "\n",
        "# Example usage\n",
        "winning_numbers = select_lotto_numbers()\n",
        "winning_numbers\n"
      ],
      "metadata": {
        "colab": {
          "base_uri": "https://localhost:8080/"
        },
        "id": "u7agBgvQKzQE",
        "outputId": "07f28fbe-98a5-4ff0-841e-108190364674"
      },
      "execution_count": 75,
      "outputs": [
        {
          "output_type": "execute_result",
          "data": {
            "text/plain": [
              "[43, 36, 14, 18, 39, 24]"
            ]
          },
          "metadata": {},
          "execution_count": 75
        }
      ]
    },
    {
      "cell_type": "code",
      "source": [
        "# prompt: create a dataframe with 10 students' midterm scores\n",
        "\n",
        "import pandas as pd\n",
        "\n",
        "# Create a list of student names\n",
        "students = [f\"Student {i+1}\" for i in range(10)]\n",
        "\n",
        "# Create a list of random midterm scores (replace with actual scores if available)\n",
        "import random\n",
        "midterm_scores = [random.randint(60, 100) for _ in range(10)]\n",
        "\n",
        "# Create a dictionary to store the data\n",
        "data = {'Student': students, 'Midterm Score': midterm_scores}\n",
        "\n",
        "# Create the DataFrame\n",
        "df = pd.DataFrame(data)\n",
        "\n",
        "# Display the DataFrame\n",
        "df\n"
      ],
      "metadata": {
        "colab": {
          "base_uri": "https://localhost:8080/",
          "height": 363
        },
        "id": "SEiaxKSALWnD",
        "outputId": "ef3e818d-4307-4338-9016-5cf66a93898c"
      },
      "execution_count": 76,
      "outputs": [
        {
          "output_type": "execute_result",
          "data": {
            "text/plain": [
              "      Student  Midterm Score\n",
              "0   Student 1             67\n",
              "1   Student 2            100\n",
              "2   Student 3            100\n",
              "3   Student 4             60\n",
              "4   Student 5             73\n",
              "5   Student 6             87\n",
              "6   Student 7             99\n",
              "7   Student 8             86\n",
              "8   Student 9             84\n",
              "9  Student 10             72"
            ],
            "text/html": [
              "\n",
              "  <div id=\"df-b5f953da-abd2-4c8e-9093-6562078b52e0\" class=\"colab-df-container\">\n",
              "    <div>\n",
              "<style scoped>\n",
              "    .dataframe tbody tr th:only-of-type {\n",
              "        vertical-align: middle;\n",
              "    }\n",
              "\n",
              "    .dataframe tbody tr th {\n",
              "        vertical-align: top;\n",
              "    }\n",
              "\n",
              "    .dataframe thead th {\n",
              "        text-align: right;\n",
              "    }\n",
              "</style>\n",
              "<table border=\"1\" class=\"dataframe\">\n",
              "  <thead>\n",
              "    <tr style=\"text-align: right;\">\n",
              "      <th></th>\n",
              "      <th>Student</th>\n",
              "      <th>Midterm Score</th>\n",
              "    </tr>\n",
              "  </thead>\n",
              "  <tbody>\n",
              "    <tr>\n",
              "      <th>0</th>\n",
              "      <td>Student 1</td>\n",
              "      <td>67</td>\n",
              "    </tr>\n",
              "    <tr>\n",
              "      <th>1</th>\n",
              "      <td>Student 2</td>\n",
              "      <td>100</td>\n",
              "    </tr>\n",
              "    <tr>\n",
              "      <th>2</th>\n",
              "      <td>Student 3</td>\n",
              "      <td>100</td>\n",
              "    </tr>\n",
              "    <tr>\n",
              "      <th>3</th>\n",
              "      <td>Student 4</td>\n",
              "      <td>60</td>\n",
              "    </tr>\n",
              "    <tr>\n",
              "      <th>4</th>\n",
              "      <td>Student 5</td>\n",
              "      <td>73</td>\n",
              "    </tr>\n",
              "    <tr>\n",
              "      <th>5</th>\n",
              "      <td>Student 6</td>\n",
              "      <td>87</td>\n",
              "    </tr>\n",
              "    <tr>\n",
              "      <th>6</th>\n",
              "      <td>Student 7</td>\n",
              "      <td>99</td>\n",
              "    </tr>\n",
              "    <tr>\n",
              "      <th>7</th>\n",
              "      <td>Student 8</td>\n",
              "      <td>86</td>\n",
              "    </tr>\n",
              "    <tr>\n",
              "      <th>8</th>\n",
              "      <td>Student 9</td>\n",
              "      <td>84</td>\n",
              "    </tr>\n",
              "    <tr>\n",
              "      <th>9</th>\n",
              "      <td>Student 10</td>\n",
              "      <td>72</td>\n",
              "    </tr>\n",
              "  </tbody>\n",
              "</table>\n",
              "</div>\n",
              "    <div class=\"colab-df-buttons\">\n",
              "\n",
              "  <div class=\"colab-df-container\">\n",
              "    <button class=\"colab-df-convert\" onclick=\"convertToInteractive('df-b5f953da-abd2-4c8e-9093-6562078b52e0')\"\n",
              "            title=\"Convert this dataframe to an interactive table.\"\n",
              "            style=\"display:none;\">\n",
              "\n",
              "  <svg xmlns=\"http://www.w3.org/2000/svg\" height=\"24px\" viewBox=\"0 -960 960 960\">\n",
              "    <path d=\"M120-120v-720h720v720H120Zm60-500h600v-160H180v160Zm220 220h160v-160H400v160Zm0 220h160v-160H400v160ZM180-400h160v-160H180v160Zm440 0h160v-160H620v160ZM180-180h160v-160H180v160Zm440 0h160v-160H620v160Z\"/>\n",
              "  </svg>\n",
              "    </button>\n",
              "\n",
              "  <style>\n",
              "    .colab-df-container {\n",
              "      display:flex;\n",
              "      gap: 12px;\n",
              "    }\n",
              "\n",
              "    .colab-df-convert {\n",
              "      background-color: #E8F0FE;\n",
              "      border: none;\n",
              "      border-radius: 50%;\n",
              "      cursor: pointer;\n",
              "      display: none;\n",
              "      fill: #1967D2;\n",
              "      height: 32px;\n",
              "      padding: 0 0 0 0;\n",
              "      width: 32px;\n",
              "    }\n",
              "\n",
              "    .colab-df-convert:hover {\n",
              "      background-color: #E2EBFA;\n",
              "      box-shadow: 0px 1px 2px rgba(60, 64, 67, 0.3), 0px 1px 3px 1px rgba(60, 64, 67, 0.15);\n",
              "      fill: #174EA6;\n",
              "    }\n",
              "\n",
              "    .colab-df-buttons div {\n",
              "      margin-bottom: 4px;\n",
              "    }\n",
              "\n",
              "    [theme=dark] .colab-df-convert {\n",
              "      background-color: #3B4455;\n",
              "      fill: #D2E3FC;\n",
              "    }\n",
              "\n",
              "    [theme=dark] .colab-df-convert:hover {\n",
              "      background-color: #434B5C;\n",
              "      box-shadow: 0px 1px 3px 1px rgba(0, 0, 0, 0.15);\n",
              "      filter: drop-shadow(0px 1px 2px rgba(0, 0, 0, 0.3));\n",
              "      fill: #FFFFFF;\n",
              "    }\n",
              "  </style>\n",
              "\n",
              "    <script>\n",
              "      const buttonEl =\n",
              "        document.querySelector('#df-b5f953da-abd2-4c8e-9093-6562078b52e0 button.colab-df-convert');\n",
              "      buttonEl.style.display =\n",
              "        google.colab.kernel.accessAllowed ? 'block' : 'none';\n",
              "\n",
              "      async function convertToInteractive(key) {\n",
              "        const element = document.querySelector('#df-b5f953da-abd2-4c8e-9093-6562078b52e0');\n",
              "        const dataTable =\n",
              "          await google.colab.kernel.invokeFunction('convertToInteractive',\n",
              "                                                    [key], {});\n",
              "        if (!dataTable) return;\n",
              "\n",
              "        const docLinkHtml = 'Like what you see? Visit the ' +\n",
              "          '<a target=\"_blank\" href=https://colab.research.google.com/notebooks/data_table.ipynb>data table notebook</a>'\n",
              "          + ' to learn more about interactive tables.';\n",
              "        element.innerHTML = '';\n",
              "        dataTable['output_type'] = 'display_data';\n",
              "        await google.colab.output.renderOutput(dataTable, element);\n",
              "        const docLink = document.createElement('div');\n",
              "        docLink.innerHTML = docLinkHtml;\n",
              "        element.appendChild(docLink);\n",
              "      }\n",
              "    </script>\n",
              "  </div>\n",
              "\n",
              "\n",
              "<div id=\"df-4c543626-07ab-47cb-b35f-a3164e372166\">\n",
              "  <button class=\"colab-df-quickchart\" onclick=\"quickchart('df-4c543626-07ab-47cb-b35f-a3164e372166')\"\n",
              "            title=\"Suggest charts\"\n",
              "            style=\"display:none;\">\n",
              "\n",
              "<svg xmlns=\"http://www.w3.org/2000/svg\" height=\"24px\"viewBox=\"0 0 24 24\"\n",
              "     width=\"24px\">\n",
              "    <g>\n",
              "        <path d=\"M19 3H5c-1.1 0-2 .9-2 2v14c0 1.1.9 2 2 2h14c1.1 0 2-.9 2-2V5c0-1.1-.9-2-2-2zM9 17H7v-7h2v7zm4 0h-2V7h2v10zm4 0h-2v-4h2v4z\"/>\n",
              "    </g>\n",
              "</svg>\n",
              "  </button>\n",
              "\n",
              "<style>\n",
              "  .colab-df-quickchart {\n",
              "      --bg-color: #E8F0FE;\n",
              "      --fill-color: #1967D2;\n",
              "      --hover-bg-color: #E2EBFA;\n",
              "      --hover-fill-color: #174EA6;\n",
              "      --disabled-fill-color: #AAA;\n",
              "      --disabled-bg-color: #DDD;\n",
              "  }\n",
              "\n",
              "  [theme=dark] .colab-df-quickchart {\n",
              "      --bg-color: #3B4455;\n",
              "      --fill-color: #D2E3FC;\n",
              "      --hover-bg-color: #434B5C;\n",
              "      --hover-fill-color: #FFFFFF;\n",
              "      --disabled-bg-color: #3B4455;\n",
              "      --disabled-fill-color: #666;\n",
              "  }\n",
              "\n",
              "  .colab-df-quickchart {\n",
              "    background-color: var(--bg-color);\n",
              "    border: none;\n",
              "    border-radius: 50%;\n",
              "    cursor: pointer;\n",
              "    display: none;\n",
              "    fill: var(--fill-color);\n",
              "    height: 32px;\n",
              "    padding: 0;\n",
              "    width: 32px;\n",
              "  }\n",
              "\n",
              "  .colab-df-quickchart:hover {\n",
              "    background-color: var(--hover-bg-color);\n",
              "    box-shadow: 0 1px 2px rgba(60, 64, 67, 0.3), 0 1px 3px 1px rgba(60, 64, 67, 0.15);\n",
              "    fill: var(--button-hover-fill-color);\n",
              "  }\n",
              "\n",
              "  .colab-df-quickchart-complete:disabled,\n",
              "  .colab-df-quickchart-complete:disabled:hover {\n",
              "    background-color: var(--disabled-bg-color);\n",
              "    fill: var(--disabled-fill-color);\n",
              "    box-shadow: none;\n",
              "  }\n",
              "\n",
              "  .colab-df-spinner {\n",
              "    border: 2px solid var(--fill-color);\n",
              "    border-color: transparent;\n",
              "    border-bottom-color: var(--fill-color);\n",
              "    animation:\n",
              "      spin 1s steps(1) infinite;\n",
              "  }\n",
              "\n",
              "  @keyframes spin {\n",
              "    0% {\n",
              "      border-color: transparent;\n",
              "      border-bottom-color: var(--fill-color);\n",
              "      border-left-color: var(--fill-color);\n",
              "    }\n",
              "    20% {\n",
              "      border-color: transparent;\n",
              "      border-left-color: var(--fill-color);\n",
              "      border-top-color: var(--fill-color);\n",
              "    }\n",
              "    30% {\n",
              "      border-color: transparent;\n",
              "      border-left-color: var(--fill-color);\n",
              "      border-top-color: var(--fill-color);\n",
              "      border-right-color: var(--fill-color);\n",
              "    }\n",
              "    40% {\n",
              "      border-color: transparent;\n",
              "      border-right-color: var(--fill-color);\n",
              "      border-top-color: var(--fill-color);\n",
              "    }\n",
              "    60% {\n",
              "      border-color: transparent;\n",
              "      border-right-color: var(--fill-color);\n",
              "    }\n",
              "    80% {\n",
              "      border-color: transparent;\n",
              "      border-right-color: var(--fill-color);\n",
              "      border-bottom-color: var(--fill-color);\n",
              "    }\n",
              "    90% {\n",
              "      border-color: transparent;\n",
              "      border-bottom-color: var(--fill-color);\n",
              "    }\n",
              "  }\n",
              "</style>\n",
              "\n",
              "  <script>\n",
              "    async function quickchart(key) {\n",
              "      const quickchartButtonEl =\n",
              "        document.querySelector('#' + key + ' button');\n",
              "      quickchartButtonEl.disabled = true;  // To prevent multiple clicks.\n",
              "      quickchartButtonEl.classList.add('colab-df-spinner');\n",
              "      try {\n",
              "        const charts = await google.colab.kernel.invokeFunction(\n",
              "            'suggestCharts', [key], {});\n",
              "      } catch (error) {\n",
              "        console.error('Error during call to suggestCharts:', error);\n",
              "      }\n",
              "      quickchartButtonEl.classList.remove('colab-df-spinner');\n",
              "      quickchartButtonEl.classList.add('colab-df-quickchart-complete');\n",
              "    }\n",
              "    (() => {\n",
              "      let quickchartButtonEl =\n",
              "        document.querySelector('#df-4c543626-07ab-47cb-b35f-a3164e372166 button');\n",
              "      quickchartButtonEl.style.display =\n",
              "        google.colab.kernel.accessAllowed ? 'block' : 'none';\n",
              "    })();\n",
              "  </script>\n",
              "</div>\n",
              "\n",
              "  <div id=\"id_b5a40778-bbad-46ac-9415-c1973be0dc76\">\n",
              "    <style>\n",
              "      .colab-df-generate {\n",
              "        background-color: #E8F0FE;\n",
              "        border: none;\n",
              "        border-radius: 50%;\n",
              "        cursor: pointer;\n",
              "        display: none;\n",
              "        fill: #1967D2;\n",
              "        height: 32px;\n",
              "        padding: 0 0 0 0;\n",
              "        width: 32px;\n",
              "      }\n",
              "\n",
              "      .colab-df-generate:hover {\n",
              "        background-color: #E2EBFA;\n",
              "        box-shadow: 0px 1px 2px rgba(60, 64, 67, 0.3), 0px 1px 3px 1px rgba(60, 64, 67, 0.15);\n",
              "        fill: #174EA6;\n",
              "      }\n",
              "\n",
              "      [theme=dark] .colab-df-generate {\n",
              "        background-color: #3B4455;\n",
              "        fill: #D2E3FC;\n",
              "      }\n",
              "\n",
              "      [theme=dark] .colab-df-generate:hover {\n",
              "        background-color: #434B5C;\n",
              "        box-shadow: 0px 1px 3px 1px rgba(0, 0, 0, 0.15);\n",
              "        filter: drop-shadow(0px 1px 2px rgba(0, 0, 0, 0.3));\n",
              "        fill: #FFFFFF;\n",
              "      }\n",
              "    </style>\n",
              "    <button class=\"colab-df-generate\" onclick=\"generateWithVariable('df')\"\n",
              "            title=\"Generate code using this dataframe.\"\n",
              "            style=\"display:none;\">\n",
              "\n",
              "  <svg xmlns=\"http://www.w3.org/2000/svg\" height=\"24px\"viewBox=\"0 0 24 24\"\n",
              "       width=\"24px\">\n",
              "    <path d=\"M7,19H8.4L18.45,9,17,7.55,7,17.6ZM5,21V16.75L18.45,3.32a2,2,0,0,1,2.83,0l1.4,1.43a1.91,1.91,0,0,1,.58,1.4,1.91,1.91,0,0,1-.58,1.4L9.25,21ZM18.45,9,17,7.55Zm-12,3A5.31,5.31,0,0,0,4.9,8.1,5.31,5.31,0,0,0,1,6.5,5.31,5.31,0,0,0,4.9,4.9,5.31,5.31,0,0,0,6.5,1,5.31,5.31,0,0,0,8.1,4.9,5.31,5.31,0,0,0,12,6.5,5.46,5.46,0,0,0,6.5,12Z\"/>\n",
              "  </svg>\n",
              "    </button>\n",
              "    <script>\n",
              "      (() => {\n",
              "      const buttonEl =\n",
              "        document.querySelector('#id_b5a40778-bbad-46ac-9415-c1973be0dc76 button.colab-df-generate');\n",
              "      buttonEl.style.display =\n",
              "        google.colab.kernel.accessAllowed ? 'block' : 'none';\n",
              "\n",
              "      buttonEl.onclick = () => {\n",
              "        google.colab.notebook.generateWithVariable('df');\n",
              "      }\n",
              "      })();\n",
              "    </script>\n",
              "  </div>\n",
              "\n",
              "    </div>\n",
              "  </div>\n"
            ],
            "application/vnd.google.colaboratory.intrinsic+json": {
              "type": "dataframe",
              "variable_name": "df",
              "summary": "{\n  \"name\": \"df\",\n  \"rows\": 10,\n  \"fields\": [\n    {\n      \"column\": \"Student\",\n      \"properties\": {\n        \"dtype\": \"string\",\n        \"num_unique_values\": 10,\n        \"samples\": [\n          \"Student 9\",\n          \"Student 2\",\n          \"Student 6\"\n        ],\n        \"semantic_type\": \"\",\n        \"description\": \"\"\n      }\n    },\n    {\n      \"column\": \"Midterm Score\",\n      \"properties\": {\n        \"dtype\": \"number\",\n        \"std\": 14,\n        \"min\": 60,\n        \"max\": 100,\n        \"num_unique_values\": 9,\n        \"samples\": [\n          84,\n          100,\n          99\n        ],\n        \"semantic_type\": \"\",\n        \"description\": \"\"\n      }\n    }\n  ]\n}"
            }
          },
          "metadata": {},
          "execution_count": 76
        }
      ]
    },
    {
      "source": [
        "# @title Midterm Score\n",
        "\n",
        "from matplotlib import pyplot as plt\n",
        "df['Midterm Score'].plot(kind='hist', bins=20, title='Midterm Score')\n",
        "plt.gca().spines[['top', 'right',]].set_visible(False)"
      ],
      "cell_type": "code",
      "execution_count": 77,
      "outputs": [
        {
          "output_type": "display_data",
          "data": {
            "text/plain": [
              "<Figure size 640x480 with 1 Axes>"
            ],
            "image/png": "[encoded data removed]"
          },
          "metadata": {}
        }
      ],
      "metadata": {
        "cellView": "form",
        "colab": {
          "base_uri": "https://localhost:8080/",
          "height": 452
        },
        "id": "S4u1xebwLrSV",
        "outputId": "60d231e1-978e-4efc-e447-44457628a826"
      }
    },
    {
      "cell_type": "markdown",
      "metadata": {
        "id": "l2bsBzPkNPck"
      },
      "source": [
        "### Regular Expressions\n",
        "\n",
        "- Regular expressions provide a way of searching text.\n",
        "- They are incredibly useful but also fairly complicated, so much so that there are entire books written about them."
      ]
    },
    {
      "cell_type": "code",
      "execution_count": null,
      "metadata": {
        "id": "dTgr-FKNNPck"
      },
      "outputs": [],
      "source": [
        "import re\n",
        "print(all([\n",
        "    not re.match(\"a\", \"cat\"),\n",
        "    re.search(\"a\", \"cat\"),\n",
        "    not re.search(\"c\", \"dog\"),\n",
        "    3 == len(re.split(\"[ab]\", \"carbs\")),\n",
        "    \"R-D-\" == re.sub(\"[0-9]\", \"-\", \"R2D2\")\n",
        "    ])) # prints True"
      ]
    },
    {
      "cell_type": "code",
      "execution_count": null,
      "metadata": {
        "id": "7CPhsH6dsUEL"
      },
      "outputs": [],
      "source": [
        "re.split(\"[ab]\", \"crbbs\")"
      ]
    },
    {
      "cell_type": "code",
      "execution_count": null,
      "metadata": {
        "id": "Oep2JKFQsUEL"
      },
      "outputs": [],
      "source": [
        "\"cat\"[:re.match(\"ca\", \"cat\").span()[1]]"
      ]
    },
    {
      "cell_type": "code",
      "execution_count": null,
      "metadata": {
        "id": "ILz8MMzRsUEL"
      },
      "outputs": [],
      "source": [
        "re.sub(\"[0-9]\", \"-\", \"R2D2\")"
      ]
    },
    {
      "cell_type": "code",
      "execution_count": null,
      "metadata": {
        "scrolled": true,
        "id": "onhnHQgvsUEL"
      },
      "outputs": [],
      "source": [
        "help(re)"
      ]
    },
    {
      "cell_type": "code",
      "execution_count": null,
      "metadata": {
        "id": "v2Idpvk0sUEM"
      },
      "outputs": [],
      "source": [
        "print(re.search(\"\\d+\", \"astdfadsfc asdfasdf 1231 awsdf\"))"
      ]
    },
    {
      "cell_type": "code",
      "execution_count": null,
      "metadata": {
        "id": "cA3x6oY8sUEM"
      },
      "outputs": [],
      "source": [
        "s = \"astdfadsfc asdfasdf 1231 awsdf\"\n",
        "p = re.search(\"\\d+\", s).span()\n",
        "s[p[0] : p[1]]"
      ]
    },
    {
      "cell_type": "code",
      "execution_count": null,
      "metadata": {
        "id": "9--wCrAIsUEM"
      },
      "outputs": [],
      "source": [
        "re.split(\"[\\n\\t]\", \"carbs\\nskdflaf\\tasdf\")"
      ]
    },
    {
      "cell_type": "markdown",
      "metadata": {
        "id": "a6o-py4TNPck"
      },
      "source": [
        "### Object-Oriented Programming"
      ]
    },
    {
      "cell_type": "code",
      "execution_count": null,
      "metadata": {
        "id": "urVAjxXMNPck"
      },
      "outputs": [],
      "source": [
        "# by convention, we give classes PascalCase names\n",
        "class Set:\n",
        "    # these are the member functions\n",
        "    # every one takes a first parameter \"self\" (another convention)\n",
        "    # that refers to the particular Set object being used\n",
        "\n",
        "    def __init__(self, values=None):\n",
        "        \"\"\"This is the constructor.\n",
        "        It gets called when you create a new Set.\n",
        "        You would use it like\n",
        "        s1 = Set()          # empty set\n",
        "        s2 = Set([1,2,2,3]) # initialize with values\"\"\"\n",
        "\n",
        "        self.dict = {}  # each instance of Set has its own dict property\n",
        "                        # which is what we'll use to track memberships\n",
        "        if values is not None:\n",
        "            for value in values:\n",
        "                self.add(value)\n",
        "\n",
        "    def __repr__(self):\n",
        "        \"\"\"this is the string representation of a Set object\n",
        "        if you type it at the Python prompt or pass it to str()\"\"\"\n",
        "        return \"Set: \" + str(self.dict.keys())\n",
        "\n",
        "    # we'll represent membership by being a key in self.dict with value True\n",
        "    def add(self, value):\n",
        "        self.dict[value] = True\n",
        "\n",
        "    # value is in the Set if it's a key in the dictionary\n",
        "    def contains(self, value):\n",
        "        return value in self.dict\n",
        "\n",
        "    def remove(self, value):\n",
        "        del self.dict[value]"
      ]
    },
    {
      "cell_type": "code",
      "execution_count": null,
      "metadata": {
        "id": "SF99s2WCsUEM"
      },
      "outputs": [],
      "source": [
        "t = Set()\n",
        "t = [[1,2,3], [1,2,3]]\n",
        "t"
      ]
    },
    {
      "cell_type": "code",
      "execution_count": null,
      "metadata": {
        "id": "jdq0iYP9NPck"
      },
      "outputs": [],
      "source": [
        "s = Set([1,2,3])\n",
        "s.add(4)\n",
        "print(s.contains(4))    # True\n",
        "s.remove(3)\n",
        "print(s.contains(3))    # False"
      ]
    },
    {
      "cell_type": "markdown",
      "metadata": {
        "id": "7QTwMhn1NPcl"
      },
      "source": [
        "### Functional Tools\n",
        "\n",
        "- When passing functions around, sometimes we’ll want to **partially apply (or curry)** functions to create new functions."
      ]
    },
    {
      "cell_type": "code",
      "execution_count": null,
      "metadata": {
        "id": "vNhSPoOjNPcl"
      },
      "outputs": [],
      "source": [
        "def exp(base, power):\n",
        "    return base ** power\n",
        "\n",
        "def two_to_the(power):\n",
        "    return exp(2, power)"
      ]
    },
    {
      "cell_type": "code",
      "execution_count": null,
      "metadata": {
        "id": "cgithWDYNPcl"
      },
      "outputs": [],
      "source": [
        "two_to_the(3)"
      ]
    },
    {
      "cell_type": "markdown",
      "metadata": {
        "id": "Xdl3v2UfNPcl"
      },
      "source": [
        "A different approach is to use functools.partial :"
      ]
    },
    {
      "cell_type": "code",
      "execution_count": null,
      "metadata": {
        "id": "A0sJCvLBNPcm"
      },
      "outputs": [],
      "source": [
        "from functools import partial\n",
        "\n",
        "two_to_the = partial(exp, 2)     # is now a function of one variable\n",
        "print(two_to_the(3))             # 8"
      ]
    },
    {
      "cell_type": "code",
      "execution_count": null,
      "metadata": {
        "id": "G3SsVwlWsUEO"
      },
      "outputs": [],
      "source": [
        "partial(exp, power=3)(2)"
      ]
    },
    {
      "cell_type": "code",
      "execution_count": null,
      "metadata": {
        "id": "jQ7uXdPtNPcm"
      },
      "outputs": [],
      "source": [
        "square_of = partial(exp, power=2)\n",
        "print(square_of(3))    # 9"
      ]
    },
    {
      "cell_type": "markdown",
      "metadata": {
        "id": "ctTGGKJtNPcm"
      },
      "source": [
        "We will also occasionally use **map, reduce, and filter**, which provide functional alternatives to list comprehensions:\n",
        "\n",
        "- Always use map, reduce, and filter if possible"
      ]
    },
    {
      "cell_type": "markdown",
      "metadata": {
        "id": "QGKO76I1NPcm"
      },
      "source": [
        "#### Map"
      ]
    },
    {
      "cell_type": "code",
      "execution_count": null,
      "metadata": {
        "id": "E1aw7P7HNPcn"
      },
      "outputs": [],
      "source": [
        "def double(x):\n",
        "    return 2 * x\n",
        "\n",
        "xs = [1, 2, 3, 4]\n",
        "twice_xs = [double(x) for x in xs]\n",
        "twice_xs = map(double, xs)\n",
        "\n",
        "list_doubler = partial(map, double)\n",
        "twice_xs = list_doubler(xs)"
      ]
    },
    {
      "cell_type": "code",
      "execution_count": null,
      "metadata": {
        "id": "4jczLUSRsUEQ"
      },
      "outputs": [],
      "source": [
        "t = (double(x) for x in xs)"
      ]
    },
    {
      "cell_type": "code",
      "execution_count": null,
      "metadata": {
        "id": "0zq0tKNWsUEQ"
      },
      "outputs": [],
      "source": [
        "next(t)"
      ]
    },
    {
      "cell_type": "code",
      "execution_count": null,
      "metadata": {
        "id": "fgvfa4d1sUER"
      },
      "outputs": [],
      "source": [
        "[double(x) for x in xs]"
      ]
    },
    {
      "cell_type": "code",
      "execution_count": null,
      "metadata": {
        "scrolled": true,
        "id": "1TUq8RNksUER"
      },
      "outputs": [],
      "source": [
        "# map is an iterator\n",
        "# list comprehension allocates memory all at once\n",
        "twice_xs = map(double, xs)\n",
        "# list(twice_xs)"
      ]
    },
    {
      "cell_type": "code",
      "execution_count": null,
      "metadata": {
        "id": "IWh_i8ofsUER"
      },
      "outputs": [],
      "source": [
        "next(twice_xs)"
      ]
    },
    {
      "cell_type": "code",
      "execution_count": null,
      "metadata": {
        "id": "nQndsODasUES"
      },
      "outputs": [],
      "source": [
        "next(twice_xs)"
      ]
    },
    {
      "cell_type": "code",
      "execution_count": null,
      "metadata": {
        "id": "SiSElKFtNPcn"
      },
      "outputs": [],
      "source": [
        "def multiply(x, y): return x * y\n",
        "\n",
        "products = map(multiply, [1, 2], [4, 5])    # [1 * 4, 2 * 5] = [4, 10]"
      ]
    },
    {
      "cell_type": "code",
      "execution_count": null,
      "metadata": {
        "id": "KI67cIcwsUES"
      },
      "outputs": [],
      "source": [
        "next(products)"
      ]
    },
    {
      "cell_type": "code",
      "execution_count": null,
      "metadata": {
        "id": "19i59qW9sUES"
      },
      "outputs": [],
      "source": [
        "list(products)"
      ]
    },
    {
      "cell_type": "code",
      "execution_count": null,
      "metadata": {
        "id": "bdyTmG3rsUET"
      },
      "outputs": [],
      "source": [
        "def multiply(x, y): return x * y\n",
        "\n",
        "products = map(multiply, [1, 2], [4, 5])    # [1 * 4, 2 * 5] = [4, 10]\n",
        "\n",
        "for i in products:\n",
        "    print(i)"
      ]
    },
    {
      "cell_type": "code",
      "execution_count": null,
      "metadata": {
        "id": "BWPNpxtWNPcn"
      },
      "outputs": [],
      "source": [
        "def multiply(x, y, z): return x * y * z\n",
        "\n",
        "products = map(multiply, [1, 2], [4, 5], [10, 20])    # [1 * 4 * 10, 2 * 5 * 20]\n",
        "list(products)"
      ]
    },
    {
      "cell_type": "markdown",
      "metadata": {
        "id": "2cjTN8M-NPcn"
      },
      "source": [
        "#### Filter"
      ]
    },
    {
      "cell_type": "code",
      "execution_count": null,
      "metadata": {
        "id": "ndqlynmcNPco"
      },
      "outputs": [],
      "source": [
        "def is_even(x):\n",
        "    \"\"\"True if x is even, False if x is odd\"\"\"\n",
        "    return x % 2 == 0\n",
        "\n",
        "x_evens = [x for x in xs if is_even(x)]\n",
        "x_evens = filter(is_even, xs)\n",
        "print(list(x_evens))\n",
        "list_evener = partial(filter, is_even)\n",
        "x_evens = list_evener(xs)\n",
        "print(list(x_evens))"
      ]
    },
    {
      "cell_type": "markdown",
      "metadata": {
        "id": "qg6KRqTjNPco"
      },
      "source": [
        "#### Reduce"
      ]
    },
    {
      "cell_type": "code",
      "execution_count": null,
      "metadata": {
        "id": "1jUowqYqNPco"
      },
      "outputs": [],
      "source": [
        "from functools import reduce\n",
        "\n",
        "def multiply(x, y): return x * y\n",
        "\n",
        "xs = [1,2,3]\n",
        "x_product = reduce(multiply, xs)\n",
        "print(x_product)\n",
        "list_product = partial(reduce, multiply)\n",
        "x_product = list_product(xs)\n",
        "print(x_product)"
      ]
    },
    {
      "cell_type": "code",
      "execution_count": null,
      "metadata": {
        "id": "KCGxb8llsUET"
      },
      "outputs": [],
      "source": [
        "reduce(lambda x, y: x + 1, [10, 2, 3, 4, 5], 0)"
      ]
    },
    {
      "cell_type": "code",
      "execution_count": null,
      "metadata": {
        "id": "MQD_iVpYsUEU"
      },
      "outputs": [],
      "source": [
        "type(reduce(multiply, xs))"
      ]
    },
    {
      "cell_type": "markdown",
      "metadata": {
        "id": "c9xKlo8TNPco"
      },
      "source": [
        "### enumerate\n",
        "\n",
        "- To iterate over a list and use both its elements and their indexes:"
      ]
    },
    {
      "cell_type": "code",
      "execution_count": null,
      "metadata": {
        "id": "MWam2Qq7NPcp",
        "scrolled": true
      },
      "outputs": [],
      "source": [
        "documents = [\"I\", \"am\", \"a\", \"boy\"]\n",
        "\n",
        "# not Pythonic\n",
        "for i in range(len(documents)):\n",
        "    document = documents[i]\n",
        "    print(i, document)\n",
        "\n",
        "# also not Pythonic\n",
        "i = 0\n",
        "for document in documents:\n",
        "    print(i, document)\n",
        "    i += 1"
      ]
    },
    {
      "cell_type": "markdown",
      "metadata": {
        "id": "zK2Ezxv2NPcp"
      },
      "source": [
        "The Pythonic solution is enumerate , which produces tuples (index, element) :"
      ]
    },
    {
      "cell_type": "code",
      "execution_count": null,
      "metadata": {
        "id": "c5ke-D-qNPcp"
      },
      "outputs": [],
      "source": [
        "for i, document in enumerate(documents, 100):\n",
        "    print(i, document)"
      ]
    },
    {
      "cell_type": "code",
      "execution_count": null,
      "metadata": {
        "id": "-PDrG42hNPcq"
      },
      "outputs": [],
      "source": [
        "for i in range(len(documents)): print(i)    # not Pythonic\n",
        "\n",
        "for i, _ in enumerate(documents): print(i)  # Pythonic"
      ]
    },
    {
      "cell_type": "markdown",
      "metadata": {
        "id": "T2WT0dm4NPcq"
      },
      "source": [
        "### zip and unzip\n",
        "\n",
        "- To zip two or more lists together.\n",
        "- zip transforms multiple lists into a single list of tuples of corresponding elements:"
      ]
    },
    {
      "cell_type": "code",
      "execution_count": null,
      "metadata": {
        "scrolled": true,
        "id": "T2Wmbv-QsUEV"
      },
      "outputs": [],
      "source": [
        "dir(__builtin__)"
      ]
    },
    {
      "cell_type": "code",
      "execution_count": null,
      "metadata": {
        "id": "JpT8b7NbNPcq"
      },
      "outputs": [],
      "source": [
        "list1 = ['a', 'b', 'c']\n",
        "list2 = [1, 2, 3]\n",
        "list(zip(list1, list2))       # is [('a', 1), ('b', 2), ('c', 3)]"
      ]
    },
    {
      "cell_type": "code",
      "execution_count": null,
      "metadata": {
        "id": "jll_zDZzsUEV"
      },
      "outputs": [],
      "source": [
        "list1 = ['a', 'b', 'c']\n",
        "list2 = [1, 2, 3]\n"
      ]
    },
    {
      "cell_type": "code",
      "execution_count": null,
      "metadata": {
        "id": "QCXgBL5YsUEV"
      },
      "outputs": [],
      "source": [
        "t = zip(list1, list2)"
      ]
    },
    {
      "cell_type": "code",
      "execution_count": null,
      "metadata": {
        "id": "e1f7VbLWsUEW"
      },
      "outputs": [],
      "source": [
        "next(t)"
      ]
    },
    {
      "cell_type": "code",
      "execution_count": null,
      "metadata": {
        "id": "6A3fJgGesUEW"
      },
      "outputs": [],
      "source": [
        "list1 = ['a', 'b', 'c']\n",
        "list2 = [1, 2, 3]\n",
        "list3 = [1, 2, 3]\n",
        "\n",
        "t = list(zip(list1, list2))        # is [('a', 1), ('b', 2), ('c', 3)]\n",
        "a, b = zip(*t)\n"
      ]
    },
    {
      "cell_type": "code",
      "execution_count": null,
      "metadata": {
        "id": "26f9KqudsUEW"
      },
      "outputs": [],
      "source": [
        "zip(list1, list2, list2, list3)"
      ]
    },
    {
      "cell_type": "markdown",
      "metadata": {
        "id": "0Xt7sZNtNPcq"
      },
      "source": [
        "You can also “unzip” a list using a strange trick:"
      ]
    },
    {
      "cell_type": "code",
      "execution_count": null,
      "metadata": {
        "id": "sH2tx6DtNPcr"
      },
      "outputs": [],
      "source": [
        "pairs = [('a', 1), ('b', 2), ('c', 3)]\n",
        "letters, numbers = zip(*pairs)\n",
        "print(letters, numbers)"
      ]
    },
    {
      "cell_type": "code",
      "execution_count": null,
      "metadata": {
        "id": "Xb8470uMNPcr"
      },
      "outputs": [],
      "source": [
        "pairs = [('a', 1), ('b', 2), ('c', 3)]\n",
        "letters, numbers = zip(('a', 1), ('b', 2), ('c', 3))\n",
        "print(letters, numbers)"
      ]
    },
    {
      "cell_type": "code",
      "execution_count": null,
      "metadata": {
        "id": "trHHUU3HsUEX"
      },
      "outputs": [],
      "source": [
        "def foo(**kargs):\n",
        "    print(kargs)\n",
        "\n",
        "a = {'a':1, 'b': 2}\n",
        "foo(**a)   # foo(a=1, b=2)"
      ]
    },
    {
      "cell_type": "code",
      "execution_count": null,
      "metadata": {
        "id": "0tifyJBksUEX"
      },
      "outputs": [],
      "source": [
        "def foo(*args):\n",
        "    print(args)\n",
        "\n",
        "a = [1, 2, 3]\n",
        "foo(*a)   # foo(1,2,3)"
      ]
    }
  ],
  "metadata": {
    "celltoolbar": "Slideshow",
    "colab": {
      "provenance": [],
      "include_colab_link": true
    },
    "hide_input": false,
    "kernelspec": {
      "display_name": "Python 3 (ipykernel)",
      "language": "python",
      "name": "python3"
    },
    "language_info": {
      "codemirror_mode": {
        "name": "ipython",
        "version": 3
      },
      "file_extension": ".py",
      "mimetype": "text/x-python",
      "name": "python",
      "nbconvert_exporter": "python",
      "pygments_lexer": "ipython3",
      "version": "3.9.7"
    },
    "toc": {
      "base_numbering": 1,
      "nav_menu": {},
      "number_sections": false,
      "sideBar": true,
      "skip_h1_title": true,
      "title_cell": "Table of Contents",
      "title_sidebar": "Contents",
      "toc_cell": false,
      "toc_position": {},
      "toc_section_display": true,
      "toc_window_display": false
    },
    "varInspector": {
      "cols": {
        "lenName": 16,
        "lenType": 16,
        "lenVar": 40
      },
      "kernels_config": {
        "python": {
          "delete_cmd_postfix": "",
          "delete_cmd_prefix": "del ",
          "library": "var_list.py",
          "varRefreshCmd": "print(var_dic_list())"
        },
        "r": {
          "delete_cmd_postfix": ") ",
          "delete_cmd_prefix": "rm(",
          "library": "var_list.r",
          "varRefreshCmd": "cat(var_dic_list()) "
        }
      },
      "types_to_exclude": [
        "module",
        "function",
        "builtin_function_or_method",
        "instance",
        "_Feature"
      ],
      "window_display": false
    }
  },
  "nbformat": 4,
  "nbformat_minor": 0
}